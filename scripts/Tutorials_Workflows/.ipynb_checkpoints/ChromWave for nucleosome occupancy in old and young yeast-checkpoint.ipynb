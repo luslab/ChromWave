{
 "cells": [
  {
   "cell_type": "code",
   "execution_count": null,
   "metadata": {},
   "outputs": [],
   "source": [
    "import matplotlib\n",
    "%matplotlib inline\n",
    "from matplotlib import pyplot as plt\n",
    "import os\n",
    "import numpy\n",
    "import pandas\n",
    "from chromwave import runtime_dataset, filesystem, chromwavenet, vis"
   ]
  },
  {
   "cell_type": "code",
   "execution_count": null,
   "metadata": {},
   "outputs": [],
   "source": [
    "os.environ[\"CUDA_DEVICE_ORDER\"]=\"PCI_BUS_ID\"   # see issue #152\n",
    "os.environ[\"CUDA_VISIBLE_DEVICES\"]=\"0\""
   ]
  },
  {
   "cell_type": "code",
   "execution_count": null,
   "metadata": {},
   "outputs": [],
   "source": [
    "project_dir = os.path.join('../../../',os.getcwd())\n",
    "working_dir = os.path.join(project_dir, 'ChromWave')\n",
    "working_dir = os.path.join(project_dir, 'ChromWave_python_3')\n",
    "\n",
    "output_dir = os.path.join(project_dir,'Test')"
   ]
  },
  {
   "cell_type": "code",
   "execution_count": null,
   "metadata": {},
   "outputs": [],
   "source": [
    "data_dir = os.path.join(working_dir, 'data')\n",
    "model_dir = os.path.join(working_dir, 'models')\n",
    "\n",
    "old_profile1=os.path.join(data_dir,'hu2014','GSM1143095_nucleosome_old_rep1.bed')\n",
    "young_profile1=os.path.join(data_dir,'hu2014','GSM1143089_nucleosome_young_rep1.bed')\n",
    "\n",
    "model_dir = os.path.join(model_dir,'nucleosomes/sacCer3_old_young')\n",
    "\n",
    "genome_dir = os.path.join(data_dir,'genomes/sacCer3')"
   ]
  },
  {
   "cell_type": "code",
   "execution_count": null,
   "metadata": {},
   "outputs": [],
   "source": [
    "source_profiles = [old_profile1,young_profile1]\n",
    "f = filesystem.FileSystem(genome_dir ,output_dir,source_profile= source_profiles,overwrite=False, test_fraction = 0.1, val_fraction=0.2,resume = True)\n",
    "r = runtime_dataset.RuntimeDataset(f)\n",
    "r._set_seed = None\n",
    "r._shuffle_sequences = True\n",
    "r.save_data = False\n",
    "r._include_rc = True\n",
    "r.class_weight_cap = [40,40]\n",
    "r._remove_unmapped_training_regions = 0.7\n",
    "r.data_format = 'raw_counts'\n",
    "\n",
    "nuc_preprocessing_params = { 'discretize_function': 'float_to_int',\n",
    "                            'assign_non_covered_bases': 'chrom_mean', 'u': 0.01, 'smooth_signal': False, 'normalise_read_counts':None,'times_median_coverage_max':10}\n",
    "\n",
    "r.preprocessing_params = [nuc_preprocessing_params,nuc_preprocessing_params]\n",
    "r.load_data()\n",
    "\n",
    "pandas.DataFrame(numpy.vstack((r.train_y_data_discr[0][100],r.train_y_data_smooth[0][100],\n",
    "                               r.train_y_data_orig[0][100])).transpose(),\n",
    "                 columns=[ 'discr', 'smooth', 'orig']).plot(subplots=True)\n",
    "plt.show()"
   ]
  },
  {
   "cell_type": "code",
   "execution_count": null,
   "metadata": {},
   "outputs": [],
   "source": [
    "model =  chromwavenet.ChromWaveNet()\n",
    "model.deserialize(directory = model_dir)"
   ]
  },
  {
   "cell_type": "code",
   "execution_count": null,
   "metadata": {},
   "outputs": [],
   "source": [
    "model.preprocessing_params"
   ]
  },
  {
   "cell_type": "markdown",
   "metadata": {},
   "source": [
    "We can use the keras functionality to compute the losses, accuracy, mean squared error and Pearson correlation between the predicted and observed profiles of the validation set:"
   ]
  },
  {
   "cell_type": "code",
   "execution_count": null,
   "metadata": {},
   "outputs": [],
   "source": [
    "loss_0, loss_1, loss_combined, acc_0, mse_0, pcor_0, acc_1, mse_1, pcor_1 = model._neural_network.evaluate(r.test_x_data, r.test_y_data)"
   ]
  },
  {
   "cell_type": "code",
   "execution_count": null,
   "metadata": {},
   "outputs": [],
   "source": [
    "print('Pcor young: %f',pcor_0)\n",
    "print('Pcor old: %f',pcor_1)\n",
    "print('Accuracy young: %f',acc_0)\n",
    "print('Accuracy old: %f',acc_1)\n",
    "print('Mean squared error young: %f',mse_0)\n",
    "print('Mean squared error old: %f',mse_1)"
   ]
  },
  {
   "cell_type": "code",
   "execution_count": null,
   "metadata": {},
   "outputs": [],
   "source": [
    "print('Pcor young: %f',pcor_0)\n",
    "print('Pcor old: %f',pcor_1)\n",
    "print('Accuracy young: %f',acc_0)\n",
    "print('Accuracy old: %f',acc_1)\n",
    "print('Mean squared error young: %f',mse_0)\n",
    "print('Mean squared error old: %f',mse_1)"
   ]
  },
  {
   "cell_type": "markdown",
   "metadata": {},
   "source": [
    "# How do the predictions look like? "
   ]
  },
  {
   "cell_type": "code",
   "execution_count": null,
   "metadata": {},
   "outputs": [],
   "source": [
    "predictions = model.predict_smooth(r.train_x_data)"
   ]
  },
  {
   "cell_type": "markdown",
   "metadata": {},
   "source": [
    "What's be best and worst examples in terms of the correlations?"
   ]
  },
  {
   "cell_type": "code",
   "execution_count": null,
   "metadata": {},
   "outputs": [],
   "source": [
    "from chromwave.functions import utils\n",
    "\n",
    "idx = [utils.p_cor(t, p).argsort()[::-1] for (t, p) in zip( r.train_y_data_smooth, predictions)]"
   ]
  },
  {
   "cell_type": "markdown",
   "metadata": {},
   "source": [
    "The profile with the highest correlation between the young profiles:"
   ]
  },
  {
   "cell_type": "code",
   "execution_count": null,
   "metadata": {},
   "outputs": [],
   "source": [
    "i = idx[0][0]\n",
    "column_names = ['Old (Pred)', \"Old (Orig)\"]\n",
    "column_names.extend(['Young (Pred)', 'Young (Orig)'])\n",
    "pandas.DataFrame(numpy.vstack(\n",
    "    (predictions[0][i], r.train_y_data_smooth[0][i],predictions[1][i], r.train_y_data_smooth[1][i])).transpose(),\n",
    "                 columns=column_names).plot(subplots=True)\n",
    "for i in range(0,len(plt.gcf().axes)):\n",
    "    ax =plt.gcf().axes[i]\n",
    "    box = ax.get_position()\n",
    "    ax.set_position([box.x0, box.y0, box.width * 0.8, box.height])\n",
    "    ax.legend(loc=3, bbox_to_anchor=(1.0, 0.0))\n",
    "plt.show()"
   ]
  },
  {
   "cell_type": "markdown",
   "metadata": {},
   "source": [
    "The profiles with the highest correlation between the old profiles: "
   ]
  },
  {
   "cell_type": "code",
   "execution_count": null,
   "metadata": {},
   "outputs": [],
   "source": [
    "i = idx[1][0]\n",
    "pandas.DataFrame(numpy.vstack(\n",
    "    (predictions[0][i], r.train_y_data_smooth[0][i], predictions[1][i], r.train_y_data_smooth[1][i])).transpose(),\n",
    "                 columns=column_names).plot(subplots=True)\n",
    "for i in range(0,len(plt.gcf().axes)):\n",
    "    ax =plt.gcf().axes[i]\n",
    "    box = ax.get_position()\n",
    "    ax.set_position([box.x0, box.y0, box.width * 0.8, box.height])\n",
    "    ax.legend(loc=3, bbox_to_anchor=(1.0, 0.0))\n",
    "plt.show()"
   ]
  },
  {
   "cell_type": "markdown",
   "metadata": {},
   "source": [
    "How do the worst predictions look like? "
   ]
  },
  {
   "cell_type": "code",
   "execution_count": null,
   "metadata": {},
   "outputs": [],
   "source": [
    "i = idx[0][-1]\n",
    "\n",
    "pandas.DataFrame(numpy.vstack(\n",
    "    (predictions[0][i], r.train_y_data_smooth[0][i], predictions[1][i], r.train_y_data_smooth[1][i])).transpose(),\n",
    "                 columns=column_names).plot(subplots=True)\n",
    "for i in range(0,len(plt.gcf().axes)):\n",
    "    ax =plt.gcf().axes[i]\n",
    "    box = ax.get_position()\n",
    "    ax.set_position([box.x0, box.y0, box.width * 0.8, box.height])\n",
    "    ax.legend(loc=3, bbox_to_anchor=(1.0, 0.0))\n",
    "plt.show()"
   ]
  },
  {
   "cell_type": "code",
   "execution_count": null,
   "metadata": {},
   "outputs": [],
   "source": [
    "i = idx[1][-1]\n",
    "\n",
    "pandas.DataFrame(numpy.vstack(\n",
    "    (predictions[0][i], r.train_y_data_smooth[0][i], predictions[1][i], r.train_y_data_smooth[1][i])).transpose(),\n",
    "                 columns=column_names).plot(subplots=True)\n",
    "for i in range(0,len(plt.gcf().axes)):\n",
    "    ax =plt.gcf().axes[i]\n",
    "    box = ax.get_position()\n",
    "    ax.set_position([box.x0, box.y0, box.width * 0.8, box.height])\n",
    "    ax.legend(loc=3, bbox_to_anchor=(1.0, 0.0))\n",
    "plt.show()"
   ]
  },
  {
   "cell_type": "code",
   "execution_count": null,
   "metadata": {},
   "outputs": [],
   "source": []
  }
 ],
 "metadata": {
  "kernelspec": {
   "display_name": "Python 3",
   "language": "python",
   "name": "python3"
  },
  "language_info": {
   "codemirror_mode": {
    "name": "ipython",
    "version": 3
   },
   "file_extension": ".py",
   "mimetype": "text/x-python",
   "name": "python",
   "nbconvert_exporter": "python",
   "pygments_lexer": "ipython3",
   "version": "3.7.7"
  },
  "pycharm": {
   "stem_cell": {
    "cell_type": "raw",
    "metadata": {
     "collapsed": false
    },
    "source": []
   }
  }
 },
 "nbformat": 4,
 "nbformat_minor": 1
}
