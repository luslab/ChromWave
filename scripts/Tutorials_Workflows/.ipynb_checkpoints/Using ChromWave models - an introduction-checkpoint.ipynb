{
 "cells": [
  {
   "cell_type": "markdown",
   "metadata": {},
   "source": [
    "# ChromWave Tutorial"
   ]
  },
  {
   "cell_type": "markdown",
   "metadata": {},
   "source": [
    "This notebook is a quick introduction how to train a ChromWave model. As a toy example we will load the nucleosome data from `Kaplan et al 2009`. We further introduce other basic functionalities of the ChromWave object such as saving and loading. "
   ]
  },
  {
   "cell_type": "code",
   "execution_count": 1,
   "metadata": {},
   "outputs": [],
   "source": [
    "import matplotlib\n",
    "from matplotlib import pyplot as plt\n",
    "import path\n",
    "path.path = path.Path\n",
    "import os\n",
    "import numpy\n",
    "import pandas\n",
    "import sys"
   ]
  },
  {
   "cell_type": "code",
   "execution_count": 2,
   "metadata": {},
   "outputs": [],
   "source": [
    "os.environ[\"CUDA_DEVICE_ORDER\"]=\"PCI_BUS_ID\"   # see issue #152\n",
    "os.environ[\"CUDA_VISIBLE_DEVICES\"]=\"1\""
   ]
  },
  {
   "cell_type": "code",
   "execution_count": 3,
   "metadata": {},
   "outputs": [],
   "source": [
    "project_dir = '/home/cakiroa/projects'\n",
    "working_dir = os.path.join(project_dir, 'GenomeNet_UpdateMaster')\n",
    "output_dir = os.path.join(project_dir,'GenomeNet_UpdateMaster','Test','ChromWaveIntro')\n",
    "sys.path.append(project_dir)"
   ]
  },
  {
   "cell_type": "code",
   "execution_count": 4,
   "metadata": {},
   "outputs": [],
   "source": [
    "data_dir = os.path.join(working_dir, 'data')\n",
    "model_dir = os.path.join(working_dir, 'models')\n",
    "\n",
    "nuc_profile_inVivo = os.path.join(data_dir,'kaplan2009','Occupancy_inVivo_sacCer1.csv')\n",
    "nuc_profile_inVitro = os.path.join(data_dir,'kaplan2009','Occupancy_inVitro_sacCer1.csv')\n",
    "\n",
    "\n",
    "inVitro_nuc_model_dir = os.path.join(model_dir,'nucleosomes/sacCer1_inVitro')\n",
    "inVivo_nuc_model_dir = os.path.join(model_dir,'nucleosomes/sacCer1_inVivo')"
   ]
  },
  {
   "cell_type": "code",
   "execution_count": 5,
   "metadata": {},
   "outputs": [
    {
     "name": "stderr",
     "output_type": "stream",
     "text": [
      "Warning, cannot import Cython kernel functions, pure python functions will be used instead\n",
      "/home/cakiroa/software/miniconda/envs/rnn/lib/python2.7/site-packages/h5py/__init__.py:36: FutureWarning: Conversion of the second argument of issubdtype from `float` to `np.floating` is deprecated. In future, it will be treated as `np.float64 == np.dtype(float).type`.\n",
      "  from ._conv import register_converters as _register_converters\n",
      "Using TensorFlow backend.\n"
     ]
    }
   ],
   "source": [
    "from GenomeNet_UpdateMaster.chromwave import runtime_dataset, filesystem, chromwavenet"
   ]
  },
  {
   "cell_type": "markdown",
   "metadata": {},
   "source": [
    "We first set up the FileSystem, passing the location of the genome fa files, the output directory and nucleosome profiles of the in vitro profiles of the Kaplan et al 2009 data. If the output folder was already created we will overwrite as this instance. We have no test data to pass and we split the dataset into 20% test and 10% validation data (and 80% training data). \n",
    "\n",
    "We then load the data as a RuntimeDataset object with the underlying FileSystem. The sequences in the training, test and validation data will be shuffled but for testing purposes we use a fixed seed. We include the reverse complements of each sequence and remove sequences if a third of the region has a flat signal. The class weight cap denotes the max at which the class weights (computed as median/frequency per class) are capped to avoid extremely high weights for rarely occuring classes. "
   ]
  },
  {
   "cell_type": "code",
   "execution_count": 6,
   "metadata": {},
   "outputs": [
    {
     "name": "stdout",
     "output_type": "stream",
     "text": [
      "Evaluation and validation data will be generated from the training data with a fractional weighting of: 0.2 and 0.1\n",
      "Loading genomic data... \n",
      "Mitochondrial chromosome will be excluded from train/test/validation set and kept as separate data...\n",
      "using pre-processing params:\n",
      "{'u': 2.5, 'truncate': 3, 'assign_non_covered_bases': None, 'sigma': 5, 'times_median_coverage_max': 3, 'smooth_signal': True, 'normalise_read_counts': None, 'smoothing_function': 'gaussian_filter1d'}\n",
      "I am assuming that the columns in the provided csv file are: seqname, start, score. If this is not the case, abort and change the input format!\n"
     ]
    },
    {
     "name": "stderr",
     "output_type": "stream",
     "text": [
      "/home/cakiroa/software/miniconda/envs/rnn/lib/python2.7/site-packages/skimage/util/shape.py:94: RuntimeWarning: Cannot provide views on a non-contiguous input array without copying.\n",
      "  warn(RuntimeWarning(\"Cannot provide views on a non-contiguous input \"\n"
     ]
    },
    {
     "name": "stdout",
     "output_type": "stream",
     "text": [
      "Binding profiles were binned into [22] bins.\n",
      "Beginning training data load\n",
      "Removing 1128 fragments that have have too many constant values in all of the provided profiles.\n",
      "Subsetting training data with test proportion: 0.2 and validation proportion 0.1\n",
      "Adding reverse complement of genomic sequences and binding profiles for training, test and validation data... \n"
     ]
    }
   ],
   "source": [
    "reload(runtime_dataset)\n",
    "reload(filesystem)\n",
    "f = filesystem.FileSystem(os.path.join(data_dir,'genomes/sacCer1'), os.path.join(output_dir,'Saliency'), source_profile=nuc_profile_inVitro, overwrite=True,  test_fraction=0.2, val_fraction=0.1, resume=False)\n",
    "#f = filesystem.FileSystem(os.path.join(data_dir,'genomes/sacCer1'), os.path.join(output_dir,'Saliency'), source_profile=nuc_profile_inVitro, overwrite=True, resume=False)\n",
    "\n",
    "\n",
    "r = runtime_dataset.RuntimeDataset(f)\n",
    "r._set_seed = 32\n",
    "r._shuffle_sequences = True\n",
    "r._include_rc = True\n",
    "r.class_weight_cap = [40]\n",
    "r._remove_unmapped_training_regions = [0.3]\n",
    "r.data_format = 'processed_counts'\n",
    "\n",
    "nuc_preprocessing_params = {'times_median_coverage_max': 3,\n",
    "                            'assign_non_covered_bases': None, 'u': 2.5, \n",
    "                            'smooth_signal': True, 'sigma': 5,\n",
    "                            'truncate': 3, 'smoothing_function': 'gaussian_filter1d', \n",
    "                            'normalise_read_counts': None}\n",
    "\n",
    "r.preprocessing_params = [nuc_preprocessing_params]\n",
    "r.fragment_length = 2000\n",
    "r.step_size = None\n",
    "r.save_data = False\n",
    "r.load_existing_data = False\n",
    "r.load_data()\n"
   ]
  },
  {
   "cell_type": "markdown",
   "metadata": {},
   "source": [
    "# Model set-up"
   ]
  },
  {
   "cell_type": "markdown",
   "metadata": {},
   "source": [
    "We choose some parameters first, but there are some more that can be chosen. You can see all parameters that can be set and their defaults with the `__dict__` function. "
   ]
  },
  {
   "cell_type": "code",
   "execution_count": 7,
   "metadata": {},
   "outputs": [
    {
     "data": {
      "text/plain": [
       "{'_pool_pretrained_conv': None,\n",
       " '_pretrained_conv_n_filters': [],\n",
       " '_pretrained_kernel_lengths': [],\n",
       " '_pretrained_models': [],\n",
       " '_train_pretrained_conv': None,\n",
       " 'amsgrad': False,\n",
       " 'batch_normalization': False,\n",
       " 'class_weights': None,\n",
       " 'conv_n_filters': [60],\n",
       " 'dilation_depth': 9,\n",
       " 'dilation_kernel_size': 2,\n",
       " 'dropout': 0.3,\n",
       " 'early_stopping': True,\n",
       " 'early_stopping_patience_fraction': 3,\n",
       " 'epsilon': 0.001,\n",
       " 'final_l2': 0.0,\n",
       " 'inject_pwm_dir': None,\n",
       " 'inject_pwm_include_rc': False,\n",
       " 'inject_pwm_selection': None,\n",
       " 'keras_verbose': 1,\n",
       " 'kernel_lengths': [24],\n",
       " 'learn_all_outputs': True,\n",
       " 'learning_rate': 0.001,\n",
       " 'max_epochs': 100,\n",
       " 'minimum_batch_size': 32,\n",
       " 'momentum': 0.9,\n",
       " 'n_channels': 4,\n",
       " 'n_output_bins': [1],\n",
       " 'n_output_features': 1,\n",
       " 'n_stacks': 2,\n",
       " 'nesterov': True,\n",
       " 'optimizer': 'adam',\n",
       " 'penalise_misclassification': False,\n",
       " 'penalties': [None],\n",
       " 'pool_sizes': [],\n",
       " 'reduceLR_rate': 0.1,\n",
       " 'res_dropout': 0.1,\n",
       " 'res_l2': 0.0,\n",
       " 'train_only_in_receptive_field': False,\n",
       " 'train_with_soft_target_stdev': False,\n",
       " 'use_bias': False,\n",
       " 'use_skip_connections': False,\n",
       " 'weight_decay': 0.0}"
      ]
     },
     "execution_count": 7,
     "metadata": {},
     "output_type": "execute_result"
    }
   ],
   "source": [
    "reload(chromwavenet)\n",
    "model =  chromwavenet.ChromWaveNet()\n",
    "model.__dict__"
   ]
  },
  {
   "cell_type": "markdown",
   "metadata": {},
   "source": [
    "To see all available methods with a short description you can call the `get_methods()` function:"
   ]
  },
  {
   "cell_type": "code",
   "execution_count": 8,
   "metadata": {},
   "outputs": [
    {
     "name": "stdout",
     "output_type": "stream",
     "text": [
      "__init__             None\n",
      "_build               This builds the keras ChromWaveNet model, and subsequently 1. loads a\n",
      "_compute_PFM_motif_detectors Computes the motif detector position frequency matrices as in Alipanahi et al 201\n",
      "_load_conv_weights   Loads weights of pretrained convolutional layers. :param model_path: str\n",
      "_plot_confusion_matrices Saves plot of confusion matric to file :param cm: numpy array holding the\n",
      "_plot_training_history Plots and item in self.training_history.history. :param key: string. Wha\n",
      "_run_training        Builds keras model if rebuild is True or if model does not exist yet. Extends cal\n",
      "_save_chr_prediction Computes and saves prediction along a whole chromosome :param runtime_dat\n",
      "build                Sets main parameters such as self.n_channels, self.n_output_features,.. using run\n",
      "build_model          This builds the keras ChromWaveNet model, the first convolutional layers taking\n",
      "change_input_length  To be able to make predictions along sequences of different length than the input\n",
      "compute_confusion_matrices Computes the confusion matrices between the true and observed output classes.\n",
      "compute_saliency     Computes the saliency map for the sequence data and returns the results as a list\n",
      "deserialize          This function loads a genomic neural network from disk. Note the behaviou\n",
      "deserialize_json     This function loads the basic NN parameters from disk, but not fitted parameters.\n",
      "get_methods          None\n",
      "get_underlying_neural_network Returns the keras model. :return:\n",
      "in_silico_mutagenesis Computes the in silico mutagenesis scores for the sequence data and returns the r\n",
      "inject_pwm           Injects position weight matrices into the convolutional layer 'conv_0' centered a\n",
      "layer_names          Gets the layer names of the underlying Keras model. :return: A list of la\n",
      "load_keras_config    :param source_path: :param id: :param custom_object_dict:\n",
      "load_model           :param source_path: :param id: :param custom_object_dict:\n",
      "load_weights_from    :param source_path: :param id: :return: :return:\n",
      "make_loss_function   Makes a bespoke loss function that can use both the penalties and class weights t\n",
      "plot_all_training_history Plots all available diagnostic plots: loss and metrics vs training epochs, distr\n",
      "plot_confusion_matrices Computes and plots confusion matrices for the selected dataset. :param ru\n",
      "plot_model           Uses keras functionality to plot the model architecture to file 'model.png'\n",
      "plot_motif_detectors Calls an R script to visualise the computed motif detectors as seqLogo plots.\n",
      "plot_predicted_class_distributions Plots distribution of predicted and observed classes :param predictions:\n",
      "plot_profile_predictions Saves the prediction profiles of the best and worst sequences measured by Pearson\n",
      "plot_training_history Plots the different metrics (accuracy, Pearson correlation) and loss vs training\n",
      "predict              Makes raw predictions for the provided input data. :param x_data: one-ho\n",
      "predict_smooth       Returns smooth prediction profiles for each output profile for provided input dat\n",
      "save_chr_predictions Saves prediction along a whole chromosome :param runtime_dataset: Runtime\n",
      "save_keras_config    :param output_filepath: :param id: :return:\n",
      "save_model           :param output_path: :param id: :return:\n",
      "save_weights_to      :param output_path: :param id: :return:\n",
      "serialize_json       Serialize the basic neural net parameters to file. It will not serialize fitted p\n",
      "summary              :return:\n",
      "train                This trains the keras ChromWaveNet model and subsequently prints out the scores o\n",
      "validate             Validates correctness of the passed parameters Parameters used -\n"
     ]
    }
   ],
   "source": [
    "model.get_methods()"
   ]
  },
  {
   "cell_type": "markdown",
   "metadata": {},
   "source": [
    "We first select some values for learning rage, l2 regularisation (in both residual block and final layers).  "
   ]
  },
  {
   "cell_type": "code",
   "execution_count": 9,
   "metadata": {},
   "outputs": [],
   "source": [
    "model.learning_rate = 0.002\n",
    "model.dropout = 0.2\n",
    "model.res_l2 = 0.01\n",
    "model.final_l2 = 0.05"
   ]
  },
  {
   "cell_type": "markdown",
   "metadata": {},
   "source": [
    "We want to train a simple model fist, so we are turning off early stopping and reducing the learning rate when the loss function plateaus. We do turn on batch normalisation and skip connections as they greatly improve the training. "
   ]
  },
  {
   "cell_type": "code",
   "execution_count": 10,
   "metadata": {},
   "outputs": [],
   "source": [
    "model.early_stopping=False\n",
    "model.reduceLR_rate=None\n",
    "model.batch_normalization=True\n",
    "model.use_skip_connections = True"
   ]
  },
  {
   "cell_type": "code",
   "execution_count": 11,
   "metadata": {},
   "outputs": [
    {
     "name": "stdout",
     "output_type": "stream",
     "text": [
      "Receptive Field: 2047 \n"
     ]
    },
    {
     "data": {
      "text/plain": [
       "True"
      ]
     },
     "execution_count": 11,
     "metadata": {},
     "output_type": "execute_result"
    }
   ],
   "source": [
    "model.build(r)\n",
    "\n",
    "model.validate()"
   ]
  },
  {
   "cell_type": "markdown",
   "metadata": {},
   "source": [
    "We can now choose the number of epochs we would like to train for and then train the model with the RuntimeDataset and FileSystem objects r and f. Using the train function of the ChromWave object prints out the measures on the training, test and validation set (loss, class accuracy, mean squared error, and Pearson correlation). "
   ]
  },
  {
   "cell_type": "markdown",
   "metadata": {},
   "source": [
    "After training, some plots to investigate the quality of the training (history, distribution of class predictions, best and worst predicted sequences in training, test and validation set) and confusion matrices for all data sets are plotted. Predictions for all chromosomes are saved as numpy arrays and motif detectors are computed and saved as csv files. All these results are automatically stored in the directory `wavenet_output` in the output directory. "
   ]
  },
  {
   "cell_type": "code",
   "execution_count": 12,
   "metadata": {},
   "outputs": [
    {
     "name": "stdout",
     "output_type": "stream",
     "text": [
      "Receptive Field: 2047 \n",
      "Train on 6626 samples, validate on 1756 samples\n",
      "Epoch 1/10\n",
      "6626/6626 [==============================] - 57s 9ms/step - loss: 137923.9679 - categorical_accuracy: 0.2367 - categorical_mean_squared_error: 5.6106 - mean_classification_pearson_correlation: 0.6416 - val_loss: 131067.6751 - val_categorical_accuracy: 0.2123 - val_categorical_mean_squared_error: 3.2909 - val_mean_classification_pearson_correlation: 0.8389\n",
      "Epoch 2/10\n",
      "6626/6626 [==============================] - 42s 6ms/step - loss: 117299.5142 - categorical_accuracy: 0.2927 - categorical_mean_squared_error: 2.7644 - mean_classification_pearson_correlation: 0.7753 - val_loss: 108557.9164 - val_categorical_accuracy: 0.3050 - val_categorical_mean_squared_error: 1.4364 - val_mean_classification_pearson_correlation: 0.8878\n",
      "Epoch 3/10\n",
      "6626/6626 [==============================] - 43s 6ms/step - loss: 114033.1179 - categorical_accuracy: 0.3118 - categorical_mean_squared_error: 2.3077 - mean_classification_pearson_correlation: 0.8039 - val_loss: 143960.6396 - val_categorical_accuracy: 0.1463 - val_categorical_mean_squared_error: 3.5636 - val_mean_classification_pearson_correlation: 0.8890\n",
      "Epoch 4/10\n",
      "6626/6626 [==============================] - 42s 6ms/step - loss: 110995.5639 - categorical_accuracy: 0.3307 - categorical_mean_squared_error: 2.0913 - mean_classification_pearson_correlation: 0.8172 - val_loss: 119053.7869 - val_categorical_accuracy: 0.2400 - val_categorical_mean_squared_error: 2.0727 - val_mean_classification_pearson_correlation: 0.9001\n",
      "Epoch 5/10\n",
      "6626/6626 [==============================] - 42s 6ms/step - loss: 108854.4670 - categorical_accuracy: 0.3436 - categorical_mean_squared_error: 1.9567 - mean_classification_pearson_correlation: 0.8251 - val_loss: 99204.2574 - val_categorical_accuracy: 0.3542 - val_categorical_mean_squared_error: 1.0727 - val_mean_classification_pearson_correlation: 0.9111\n",
      "Epoch 6/10\n",
      "6626/6626 [==============================] - 42s 6ms/step - loss: 107490.5452 - categorical_accuracy: 0.3520 - categorical_mean_squared_error: 1.9471 - mean_classification_pearson_correlation: 0.8290 - val_loss: 138938.7541 - val_categorical_accuracy: 0.1895 - val_categorical_mean_squared_error: 2.8909 - val_mean_classification_pearson_correlation: 0.9045\n",
      "Epoch 7/10\n",
      "6626/6626 [==============================] - 42s 6ms/step - loss: 106892.9791 - categorical_accuracy: 0.3560 - categorical_mean_squared_error: 1.9375 - mean_classification_pearson_correlation: 0.8285 - val_loss: 108492.5749 - val_categorical_accuracy: 0.2928 - val_categorical_mean_squared_error: 1.3091 - val_mean_classification_pearson_correlation: 0.9128\n",
      "Epoch 8/10\n",
      "6626/6626 [==============================] - 42s 6ms/step - loss: 105777.7027 - categorical_accuracy: 0.3634 - categorical_mean_squared_error: 1.8894 - mean_classification_pearson_correlation: 0.8334 - val_loss: 97096.5749 - val_categorical_accuracy: 0.3659 - val_categorical_mean_squared_error: 1.0909 - val_mean_classification_pearson_correlation: 0.9182\n",
      "Epoch 9/10\n",
      "6626/6626 [==============================] - 43s 6ms/step - loss: 105381.9853 - categorical_accuracy: 0.3649 - categorical_mean_squared_error: 1.8365 - mean_classification_pearson_correlation: 0.8351 - val_loss: 100889.7260 - val_categorical_accuracy: 0.3444 - val_categorical_mean_squared_error: 1.0909 - val_mean_classification_pearson_correlation: 0.9082\n",
      "Epoch 10/10\n",
      "6626/6626 [==============================] - 42s 6ms/step - loss: 104904.8694 - categorical_accuracy: 0.3673 - categorical_mean_squared_error: 1.8558 - mean_classification_pearson_correlation: 0.8362 - val_loss: 93451.9887 - val_categorical_accuracy: 0.3949 - val_categorical_mean_squared_error: 1.0545 - val_mean_classification_pearson_correlation: 0.9150\n",
      "Saving model to file ... \n",
      "Performance of model on trainings data: \n",
      "6626/6626 [==============================] - 12s 2ms/step\n",
      "[100124.96761647417, 0.3922339379787445, 1.870192289352417, 0.8463504314422607]\n",
      "Performance of model on test data: \n",
      "1756/1756 [==============================] - 3s 2ms/step\n",
      "[93451.98868166287, 0.3949023485183716, 1.0545454025268555, 0.9149953722953796]\n",
      "Performance of model on validation data: \n",
      "1114/1114 [==============================] - 2s 2ms/step\n",
      "[111191.70419097846, 0.32753321528434753, 1.8857142925262451, 0.8380696177482605]\n",
      "Plotting training history...\n",
      "Plotting distribution of class predictions, confusion matrices, and  best/worst predictions profiles...\n",
      "Plotting the confusion matrix for training set.....\n",
      "Normalized confusion matrix\n",
      "Plotting the confusion matrix for test set.....\n",
      "Normalized confusion matrix\n",
      "Plotting the confusion matrix for validation set.....\n",
      "Normalized confusion matrix\n",
      "Computing motif detectors ...\n",
      "Computing the PFMs of the motif detectors\n",
      "Saving all chr predictions... \n",
      "Receptive Field: 2047 \n",
      "plotting the predictions for all chromosomes\n",
      "Receptive Field: 2047 \n",
      "Time: 11.5774962167 mins\n"
     ]
    }
   ],
   "source": [
    "model.max_epochs = 10\n",
    "import time \n",
    "start = time.clock()\n",
    "model.train(r,f)\n",
    "end=time.clock()\n",
    "print('Time: ' + str((end-start)/60.)+' mins')"
   ]
  },
  {
   "cell_type": "markdown",
   "metadata": {},
   "source": [
    "# Basic ChromWave methods "
   ]
  },
  {
   "cell_type": "markdown",
   "metadata": {},
   "source": [
    "ChromWave is a wrapper around keras models. The keras model can be accessed through `ChromWave.get_underlying_neural_network()` and is held in `ChromWave._neural_network`. Any Keras functions of models will work. "
   ]
  },
  {
   "cell_type": "code",
   "execution_count": 13,
   "metadata": {},
   "outputs": [
    {
     "data": {
      "text/plain": [
       "<keras.engine.training.Model at 0x7fc803f753d0>"
      ]
     },
     "execution_count": 13,
     "metadata": {},
     "output_type": "execute_result"
    }
   ],
   "source": [
    "model.get_underlying_neural_network()"
   ]
  },
  {
   "cell_type": "code",
   "execution_count": 14,
   "metadata": {},
   "outputs": [
    {
     "name": "stdout",
     "output_type": "stream",
     "text": [
      "Model: \"model_4\"\n",
      "__________________________________________________________________________________________________\n",
      "Layer (type)                    Output Shape         Param #     Connected to                     \n",
      "==================================================================================================\n",
      "input_part (InputLayer)         (None, 2000, 4)      0                                            \n",
      "__________________________________________________________________________________________________\n",
      "conv_0 (Conv1D)                 (None, 2000, 60)     5820        input_part[0][0]                 \n",
      "__________________________________________________________________________________________________\n",
      "batch_normalization_10 (BatchNo (None, 2000, 60)     240         conv_0[0][0]                     \n",
      "__________________________________________________________________________________________________\n",
      "activation_10 (Activation)      (None, 2000, 60)     0           batch_normalization_10[0][0]     \n",
      "__________________________________________________________________________________________________\n",
      "dilated_conv_1_tanh_s0 (Conv1D) (None, 2000, 60)     7200        activation_10[0][0]              \n",
      "__________________________________________________________________________________________________\n",
      "dilated_conv_1_sigm_s0 (Conv1D) (None, 2000, 60)     7200        activation_10[0][0]              \n",
      "__________________________________________________________________________________________________\n",
      "gated_activation_0_s0 (Multiply (None, 2000, 60)     0           dilated_conv_1_tanh_s0[0][0]     \n",
      "                                                                 dilated_conv_1_sigm_s0[0][0]     \n",
      "__________________________________________________________________________________________________\n",
      "conv1d_127 (Conv1D)             (None, 2000, 60)     3600        gated_activation_0_s0[0][0]      \n",
      "__________________________________________________________________________________________________\n",
      "add_64 (Add)                    (None, 2000, 60)     0           activation_10[0][0]              \n",
      "                                                                 conv1d_127[0][0]                 \n",
      "__________________________________________________________________________________________________\n",
      "dropout_64 (Dropout)            (None, 2000, 60)     0           add_64[0][0]                     \n",
      "__________________________________________________________________________________________________\n",
      "dilated_conv_2_tanh_s0 (Conv1D) (None, 2000, 60)     7200        dropout_64[0][0]                 \n",
      "__________________________________________________________________________________________________\n",
      "dilated_conv_2_sigm_s0 (Conv1D) (None, 2000, 60)     7200        dropout_64[0][0]                 \n",
      "__________________________________________________________________________________________________\n",
      "gated_activation_1_s0 (Multiply (None, 2000, 60)     0           dilated_conv_2_tanh_s0[0][0]     \n",
      "                                                                 dilated_conv_2_sigm_s0[0][0]     \n",
      "__________________________________________________________________________________________________\n",
      "conv1d_129 (Conv1D)             (None, 2000, 60)     3600        gated_activation_1_s0[0][0]      \n",
      "__________________________________________________________________________________________________\n",
      "add_65 (Add)                    (None, 2000, 60)     0           dropout_64[0][0]                 \n",
      "                                                                 conv1d_129[0][0]                 \n",
      "__________________________________________________________________________________________________\n",
      "dropout_65 (Dropout)            (None, 2000, 60)     0           add_65[0][0]                     \n",
      "__________________________________________________________________________________________________\n",
      "dilated_conv_4_tanh_s0 (Conv1D) (None, 2000, 60)     7200        dropout_65[0][0]                 \n",
      "__________________________________________________________________________________________________\n",
      "dilated_conv_4_sigm_s0 (Conv1D) (None, 2000, 60)     7200        dropout_65[0][0]                 \n",
      "__________________________________________________________________________________________________\n",
      "gated_activation_2_s0 (Multiply (None, 2000, 60)     0           dilated_conv_4_tanh_s0[0][0]     \n",
      "                                                                 dilated_conv_4_sigm_s0[0][0]     \n",
      "__________________________________________________________________________________________________\n",
      "conv1d_131 (Conv1D)             (None, 2000, 60)     3600        gated_activation_2_s0[0][0]      \n",
      "__________________________________________________________________________________________________\n",
      "add_66 (Add)                    (None, 2000, 60)     0           dropout_65[0][0]                 \n",
      "                                                                 conv1d_131[0][0]                 \n",
      "__________________________________________________________________________________________________\n",
      "dropout_66 (Dropout)            (None, 2000, 60)     0           add_66[0][0]                     \n",
      "__________________________________________________________________________________________________\n",
      "dilated_conv_8_tanh_s0 (Conv1D) (None, 2000, 60)     7200        dropout_66[0][0]                 \n",
      "__________________________________________________________________________________________________\n",
      "dilated_conv_8_sigm_s0 (Conv1D) (None, 2000, 60)     7200        dropout_66[0][0]                 \n",
      "__________________________________________________________________________________________________\n",
      "gated_activation_3_s0 (Multiply (None, 2000, 60)     0           dilated_conv_8_tanh_s0[0][0]     \n",
      "                                                                 dilated_conv_8_sigm_s0[0][0]     \n",
      "__________________________________________________________________________________________________\n",
      "conv1d_133 (Conv1D)             (None, 2000, 60)     3600        gated_activation_3_s0[0][0]      \n",
      "__________________________________________________________________________________________________\n",
      "add_67 (Add)                    (None, 2000, 60)     0           dropout_66[0][0]                 \n",
      "                                                                 conv1d_133[0][0]                 \n",
      "__________________________________________________________________________________________________\n",
      "dropout_67 (Dropout)            (None, 2000, 60)     0           add_67[0][0]                     \n",
      "__________________________________________________________________________________________________\n",
      "dilated_conv_16_tanh_s0 (Conv1D (None, 2000, 60)     7200        dropout_67[0][0]                 \n",
      "__________________________________________________________________________________________________\n",
      "dilated_conv_16_sigm_s0 (Conv1D (None, 2000, 60)     7200        dropout_67[0][0]                 \n",
      "__________________________________________________________________________________________________\n",
      "gated_activation_4_s0 (Multiply (None, 2000, 60)     0           dilated_conv_16_tanh_s0[0][0]    \n",
      "                                                                 dilated_conv_16_sigm_s0[0][0]    \n",
      "__________________________________________________________________________________________________\n",
      "conv1d_135 (Conv1D)             (None, 2000, 60)     3600        gated_activation_4_s0[0][0]      \n",
      "__________________________________________________________________________________________________\n",
      "add_68 (Add)                    (None, 2000, 60)     0           dropout_67[0][0]                 \n",
      "                                                                 conv1d_135[0][0]                 \n",
      "__________________________________________________________________________________________________\n",
      "dropout_68 (Dropout)            (None, 2000, 60)     0           add_68[0][0]                     \n",
      "__________________________________________________________________________________________________\n",
      "dilated_conv_32_tanh_s0 (Conv1D (None, 2000, 60)     7200        dropout_68[0][0]                 \n",
      "__________________________________________________________________________________________________\n",
      "dilated_conv_32_sigm_s0 (Conv1D (None, 2000, 60)     7200        dropout_68[0][0]                 \n",
      "__________________________________________________________________________________________________\n",
      "gated_activation_5_s0 (Multiply (None, 2000, 60)     0           dilated_conv_32_tanh_s0[0][0]    \n",
      "                                                                 dilated_conv_32_sigm_s0[0][0]    \n",
      "__________________________________________________________________________________________________\n",
      "conv1d_137 (Conv1D)             (None, 2000, 60)     3600        gated_activation_5_s0[0][0]      \n",
      "__________________________________________________________________________________________________\n",
      "add_69 (Add)                    (None, 2000, 60)     0           dropout_68[0][0]                 \n",
      "                                                                 conv1d_137[0][0]                 \n",
      "__________________________________________________________________________________________________\n",
      "dropout_69 (Dropout)            (None, 2000, 60)     0           add_69[0][0]                     \n",
      "__________________________________________________________________________________________________\n",
      "dilated_conv_64_tanh_s0 (Conv1D (None, 2000, 60)     7200        dropout_69[0][0]                 \n",
      "__________________________________________________________________________________________________\n",
      "dilated_conv_64_sigm_s0 (Conv1D (None, 2000, 60)     7200        dropout_69[0][0]                 \n",
      "__________________________________________________________________________________________________\n",
      "gated_activation_6_s0 (Multiply (None, 2000, 60)     0           dilated_conv_64_tanh_s0[0][0]    \n",
      "                                                                 dilated_conv_64_sigm_s0[0][0]    \n",
      "__________________________________________________________________________________________________\n",
      "conv1d_139 (Conv1D)             (None, 2000, 60)     3600        gated_activation_6_s0[0][0]      \n",
      "__________________________________________________________________________________________________\n",
      "add_70 (Add)                    (None, 2000, 60)     0           dropout_69[0][0]                 \n",
      "                                                                 conv1d_139[0][0]                 \n",
      "__________________________________________________________________________________________________\n",
      "dropout_70 (Dropout)            (None, 2000, 60)     0           add_70[0][0]                     \n",
      "__________________________________________________________________________________________________\n",
      "dilated_conv_128_tanh_s0 (Conv1 (None, 2000, 60)     7200        dropout_70[0][0]                 \n",
      "__________________________________________________________________________________________________\n",
      "dilated_conv_128_sigm_s0 (Conv1 (None, 2000, 60)     7200        dropout_70[0][0]                 \n",
      "__________________________________________________________________________________________________\n",
      "gated_activation_7_s0 (Multiply (None, 2000, 60)     0           dilated_conv_128_tanh_s0[0][0]   \n",
      "                                                                 dilated_conv_128_sigm_s0[0][0]   \n",
      "__________________________________________________________________________________________________\n",
      "conv1d_141 (Conv1D)             (None, 2000, 60)     3600        gated_activation_7_s0[0][0]      \n",
      "__________________________________________________________________________________________________\n",
      "add_71 (Add)                    (None, 2000, 60)     0           dropout_70[0][0]                 \n",
      "                                                                 conv1d_141[0][0]                 \n",
      "__________________________________________________________________________________________________\n",
      "dropout_71 (Dropout)            (None, 2000, 60)     0           add_71[0][0]                     \n",
      "__________________________________________________________________________________________________\n",
      "dilated_conv_256_tanh_s0 (Conv1 (None, 2000, 60)     7200        dropout_71[0][0]                 \n",
      "__________________________________________________________________________________________________\n",
      "dilated_conv_256_sigm_s0 (Conv1 (None, 2000, 60)     7200        dropout_71[0][0]                 \n",
      "__________________________________________________________________________________________________\n",
      "gated_activation_8_s0 (Multiply (None, 2000, 60)     0           dilated_conv_256_tanh_s0[0][0]   \n",
      "                                                                 dilated_conv_256_sigm_s0[0][0]   \n",
      "__________________________________________________________________________________________________\n",
      "conv1d_143 (Conv1D)             (None, 2000, 60)     3600        gated_activation_8_s0[0][0]      \n",
      "__________________________________________________________________________________________________\n",
      "add_72 (Add)                    (None, 2000, 60)     0           dropout_71[0][0]                 \n",
      "                                                                 conv1d_143[0][0]                 \n",
      "__________________________________________________________________________________________________\n",
      "dropout_72 (Dropout)            (None, 2000, 60)     0           add_72[0][0]                     \n",
      "__________________________________________________________________________________________________\n",
      "dilated_conv_512_tanh_s0 (Conv1 (None, 2000, 60)     7200        dropout_72[0][0]                 \n",
      "__________________________________________________________________________________________________\n",
      "dilated_conv_512_sigm_s0 (Conv1 (None, 2000, 60)     7200        dropout_72[0][0]                 \n",
      "__________________________________________________________________________________________________\n",
      "gated_activation_9_s0 (Multiply (None, 2000, 60)     0           dilated_conv_512_tanh_s0[0][0]   \n",
      "                                                                 dilated_conv_512_sigm_s0[0][0]   \n",
      "__________________________________________________________________________________________________\n",
      "conv1d_145 (Conv1D)             (None, 2000, 60)     3600        gated_activation_9_s0[0][0]      \n",
      "__________________________________________________________________________________________________\n",
      "add_73 (Add)                    (None, 2000, 60)     0           dropout_72[0][0]                 \n",
      "                                                                 conv1d_145[0][0]                 \n",
      "__________________________________________________________________________________________________\n",
      "dropout_73 (Dropout)            (None, 2000, 60)     0           add_73[0][0]                     \n",
      "__________________________________________________________________________________________________\n",
      "dilated_conv_1_tanh_s1 (Conv1D) (None, 2000, 60)     7200        dropout_73[0][0]                 \n",
      "__________________________________________________________________________________________________\n",
      "dilated_conv_1_sigm_s1 (Conv1D) (None, 2000, 60)     7200        dropout_73[0][0]                 \n",
      "__________________________________________________________________________________________________\n",
      "gated_activation_0_s1 (Multiply (None, 2000, 60)     0           dilated_conv_1_tanh_s1[0][0]     \n",
      "                                                                 dilated_conv_1_sigm_s1[0][0]     \n",
      "__________________________________________________________________________________________________\n",
      "conv1d_147 (Conv1D)             (None, 2000, 60)     3600        gated_activation_0_s1[0][0]      \n",
      "__________________________________________________________________________________________________\n",
      "add_74 (Add)                    (None, 2000, 60)     0           dropout_73[0][0]                 \n",
      "                                                                 conv1d_147[0][0]                 \n",
      "__________________________________________________________________________________________________\n",
      "dropout_74 (Dropout)            (None, 2000, 60)     0           add_74[0][0]                     \n",
      "__________________________________________________________________________________________________\n",
      "dilated_conv_2_tanh_s1 (Conv1D) (None, 2000, 60)     7200        dropout_74[0][0]                 \n",
      "__________________________________________________________________________________________________\n",
      "dilated_conv_2_sigm_s1 (Conv1D) (None, 2000, 60)     7200        dropout_74[0][0]                 \n",
      "__________________________________________________________________________________________________\n",
      "gated_activation_1_s1 (Multiply (None, 2000, 60)     0           dilated_conv_2_tanh_s1[0][0]     \n",
      "                                                                 dilated_conv_2_sigm_s1[0][0]     \n",
      "__________________________________________________________________________________________________\n",
      "conv1d_149 (Conv1D)             (None, 2000, 60)     3600        gated_activation_1_s1[0][0]      \n",
      "__________________________________________________________________________________________________\n",
      "add_75 (Add)                    (None, 2000, 60)     0           dropout_74[0][0]                 \n",
      "                                                                 conv1d_149[0][0]                 \n",
      "__________________________________________________________________________________________________\n",
      "dropout_75 (Dropout)            (None, 2000, 60)     0           add_75[0][0]                     \n",
      "__________________________________________________________________________________________________\n",
      "dilated_conv_4_tanh_s1 (Conv1D) (None, 2000, 60)     7200        dropout_75[0][0]                 \n",
      "__________________________________________________________________________________________________\n",
      "dilated_conv_4_sigm_s1 (Conv1D) (None, 2000, 60)     7200        dropout_75[0][0]                 \n",
      "__________________________________________________________________________________________________\n",
      "gated_activation_2_s1 (Multiply (None, 2000, 60)     0           dilated_conv_4_tanh_s1[0][0]     \n",
      "                                                                 dilated_conv_4_sigm_s1[0][0]     \n",
      "__________________________________________________________________________________________________\n",
      "conv1d_151 (Conv1D)             (None, 2000, 60)     3600        gated_activation_2_s1[0][0]      \n",
      "__________________________________________________________________________________________________\n",
      "add_76 (Add)                    (None, 2000, 60)     0           dropout_75[0][0]                 \n",
      "                                                                 conv1d_151[0][0]                 \n",
      "__________________________________________________________________________________________________\n",
      "dropout_76 (Dropout)            (None, 2000, 60)     0           add_76[0][0]                     \n",
      "__________________________________________________________________________________________________\n",
      "dilated_conv_8_tanh_s1 (Conv1D) (None, 2000, 60)     7200        dropout_76[0][0]                 \n",
      "__________________________________________________________________________________________________\n",
      "dilated_conv_8_sigm_s1 (Conv1D) (None, 2000, 60)     7200        dropout_76[0][0]                 \n",
      "__________________________________________________________________________________________________\n",
      "gated_activation_3_s1 (Multiply (None, 2000, 60)     0           dilated_conv_8_tanh_s1[0][0]     \n",
      "                                                                 dilated_conv_8_sigm_s1[0][0]     \n",
      "__________________________________________________________________________________________________\n",
      "conv1d_153 (Conv1D)             (None, 2000, 60)     3600        gated_activation_3_s1[0][0]      \n",
      "__________________________________________________________________________________________________\n",
      "add_77 (Add)                    (None, 2000, 60)     0           dropout_76[0][0]                 \n",
      "                                                                 conv1d_153[0][0]                 \n",
      "__________________________________________________________________________________________________\n",
      "dropout_77 (Dropout)            (None, 2000, 60)     0           add_77[0][0]                     \n",
      "__________________________________________________________________________________________________\n",
      "dilated_conv_16_tanh_s1 (Conv1D (None, 2000, 60)     7200        dropout_77[0][0]                 \n",
      "__________________________________________________________________________________________________\n",
      "dilated_conv_16_sigm_s1 (Conv1D (None, 2000, 60)     7200        dropout_77[0][0]                 \n",
      "__________________________________________________________________________________________________\n",
      "gated_activation_4_s1 (Multiply (None, 2000, 60)     0           dilated_conv_16_tanh_s1[0][0]    \n",
      "                                                                 dilated_conv_16_sigm_s1[0][0]    \n",
      "__________________________________________________________________________________________________\n",
      "conv1d_155 (Conv1D)             (None, 2000, 60)     3600        gated_activation_4_s1[0][0]      \n",
      "__________________________________________________________________________________________________\n",
      "add_78 (Add)                    (None, 2000, 60)     0           dropout_77[0][0]                 \n",
      "                                                                 conv1d_155[0][0]                 \n",
      "__________________________________________________________________________________________________\n",
      "dropout_78 (Dropout)            (None, 2000, 60)     0           add_78[0][0]                     \n",
      "__________________________________________________________________________________________________\n",
      "dilated_conv_32_tanh_s1 (Conv1D (None, 2000, 60)     7200        dropout_78[0][0]                 \n",
      "__________________________________________________________________________________________________\n",
      "dilated_conv_32_sigm_s1 (Conv1D (None, 2000, 60)     7200        dropout_78[0][0]                 \n",
      "__________________________________________________________________________________________________\n",
      "gated_activation_5_s1 (Multiply (None, 2000, 60)     0           dilated_conv_32_tanh_s1[0][0]    \n",
      "                                                                 dilated_conv_32_sigm_s1[0][0]    \n",
      "__________________________________________________________________________________________________\n",
      "conv1d_157 (Conv1D)             (None, 2000, 60)     3600        gated_activation_5_s1[0][0]      \n",
      "__________________________________________________________________________________________________\n",
      "add_79 (Add)                    (None, 2000, 60)     0           dropout_78[0][0]                 \n",
      "                                                                 conv1d_157[0][0]                 \n",
      "__________________________________________________________________________________________________\n",
      "dropout_79 (Dropout)            (None, 2000, 60)     0           add_79[0][0]                     \n",
      "__________________________________________________________________________________________________\n",
      "dilated_conv_64_tanh_s1 (Conv1D (None, 2000, 60)     7200        dropout_79[0][0]                 \n",
      "__________________________________________________________________________________________________\n",
      "dilated_conv_64_sigm_s1 (Conv1D (None, 2000, 60)     7200        dropout_79[0][0]                 \n",
      "__________________________________________________________________________________________________\n",
      "gated_activation_6_s1 (Multiply (None, 2000, 60)     0           dilated_conv_64_tanh_s1[0][0]    \n",
      "                                                                 dilated_conv_64_sigm_s1[0][0]    \n",
      "__________________________________________________________________________________________________\n",
      "conv1d_159 (Conv1D)             (None, 2000, 60)     3600        gated_activation_6_s1[0][0]      \n",
      "__________________________________________________________________________________________________\n",
      "add_80 (Add)                    (None, 2000, 60)     0           dropout_79[0][0]                 \n",
      "                                                                 conv1d_159[0][0]                 \n",
      "__________________________________________________________________________________________________\n",
      "dropout_80 (Dropout)            (None, 2000, 60)     0           add_80[0][0]                     \n",
      "__________________________________________________________________________________________________\n",
      "dilated_conv_128_tanh_s1 (Conv1 (None, 2000, 60)     7200        dropout_80[0][0]                 \n",
      "__________________________________________________________________________________________________\n",
      "dilated_conv_128_sigm_s1 (Conv1 (None, 2000, 60)     7200        dropout_80[0][0]                 \n",
      "__________________________________________________________________________________________________\n",
      "gated_activation_7_s1 (Multiply (None, 2000, 60)     0           dilated_conv_128_tanh_s1[0][0]   \n",
      "                                                                 dilated_conv_128_sigm_s1[0][0]   \n",
      "__________________________________________________________________________________________________\n",
      "conv1d_161 (Conv1D)             (None, 2000, 60)     3600        gated_activation_7_s1[0][0]      \n",
      "__________________________________________________________________________________________________\n",
      "add_81 (Add)                    (None, 2000, 60)     0           dropout_80[0][0]                 \n",
      "                                                                 conv1d_161[0][0]                 \n",
      "__________________________________________________________________________________________________\n",
      "dropout_81 (Dropout)            (None, 2000, 60)     0           add_81[0][0]                     \n",
      "__________________________________________________________________________________________________\n",
      "dilated_conv_256_tanh_s1 (Conv1 (None, 2000, 60)     7200        dropout_81[0][0]                 \n",
      "__________________________________________________________________________________________________\n",
      "dilated_conv_256_sigm_s1 (Conv1 (None, 2000, 60)     7200        dropout_81[0][0]                 \n",
      "__________________________________________________________________________________________________\n",
      "gated_activation_8_s1 (Multiply (None, 2000, 60)     0           dilated_conv_256_tanh_s1[0][0]   \n",
      "                                                                 dilated_conv_256_sigm_s1[0][0]   \n",
      "__________________________________________________________________________________________________\n",
      "conv1d_163 (Conv1D)             (None, 2000, 60)     3600        gated_activation_8_s1[0][0]      \n",
      "__________________________________________________________________________________________________\n",
      "add_82 (Add)                    (None, 2000, 60)     0           dropout_81[0][0]                 \n",
      "                                                                 conv1d_163[0][0]                 \n",
      "__________________________________________________________________________________________________\n",
      "dropout_82 (Dropout)            (None, 2000, 60)     0           add_82[0][0]                     \n",
      "__________________________________________________________________________________________________\n",
      "dilated_conv_512_tanh_s1 (Conv1 (None, 2000, 60)     7200        dropout_82[0][0]                 \n",
      "__________________________________________________________________________________________________\n",
      "dilated_conv_512_sigm_s1 (Conv1 (None, 2000, 60)     7200        dropout_82[0][0]                 \n",
      "__________________________________________________________________________________________________\n",
      "gated_activation_9_s1 (Multiply (None, 2000, 60)     0           dilated_conv_512_tanh_s1[0][0]   \n",
      "                                                                 dilated_conv_512_sigm_s1[0][0]   \n",
      "__________________________________________________________________________________________________\n",
      "conv1d_128 (Conv1D)             (None, 2000, 60)     3600        gated_activation_0_s0[0][0]      \n",
      "__________________________________________________________________________________________________\n",
      "conv1d_130 (Conv1D)             (None, 2000, 60)     3600        gated_activation_1_s0[0][0]      \n",
      "__________________________________________________________________________________________________\n",
      "conv1d_132 (Conv1D)             (None, 2000, 60)     3600        gated_activation_2_s0[0][0]      \n",
      "__________________________________________________________________________________________________\n",
      "conv1d_134 (Conv1D)             (None, 2000, 60)     3600        gated_activation_3_s0[0][0]      \n",
      "__________________________________________________________________________________________________\n",
      "conv1d_136 (Conv1D)             (None, 2000, 60)     3600        gated_activation_4_s0[0][0]      \n",
      "__________________________________________________________________________________________________\n",
      "conv1d_138 (Conv1D)             (None, 2000, 60)     3600        gated_activation_5_s0[0][0]      \n",
      "__________________________________________________________________________________________________\n",
      "conv1d_140 (Conv1D)             (None, 2000, 60)     3600        gated_activation_6_s0[0][0]      \n",
      "__________________________________________________________________________________________________\n",
      "conv1d_142 (Conv1D)             (None, 2000, 60)     3600        gated_activation_7_s0[0][0]      \n",
      "__________________________________________________________________________________________________\n",
      "conv1d_144 (Conv1D)             (None, 2000, 60)     3600        gated_activation_8_s0[0][0]      \n",
      "__________________________________________________________________________________________________\n",
      "conv1d_146 (Conv1D)             (None, 2000, 60)     3600        gated_activation_9_s0[0][0]      \n",
      "__________________________________________________________________________________________________\n",
      "conv1d_148 (Conv1D)             (None, 2000, 60)     3600        gated_activation_0_s1[0][0]      \n",
      "__________________________________________________________________________________________________\n",
      "conv1d_150 (Conv1D)             (None, 2000, 60)     3600        gated_activation_1_s1[0][0]      \n",
      "__________________________________________________________________________________________________\n",
      "conv1d_152 (Conv1D)             (None, 2000, 60)     3600        gated_activation_2_s1[0][0]      \n",
      "__________________________________________________________________________________________________\n",
      "conv1d_154 (Conv1D)             (None, 2000, 60)     3600        gated_activation_3_s1[0][0]      \n",
      "__________________________________________________________________________________________________\n",
      "conv1d_156 (Conv1D)             (None, 2000, 60)     3600        gated_activation_4_s1[0][0]      \n",
      "__________________________________________________________________________________________________\n",
      "conv1d_158 (Conv1D)             (None, 2000, 60)     3600        gated_activation_5_s1[0][0]      \n",
      "__________________________________________________________________________________________________\n",
      "conv1d_160 (Conv1D)             (None, 2000, 60)     3600        gated_activation_6_s1[0][0]      \n",
      "__________________________________________________________________________________________________\n",
      "conv1d_162 (Conv1D)             (None, 2000, 60)     3600        gated_activation_7_s1[0][0]      \n",
      "__________________________________________________________________________________________________\n",
      "conv1d_164 (Conv1D)             (None, 2000, 60)     3600        gated_activation_8_s1[0][0]      \n",
      "__________________________________________________________________________________________________\n",
      "conv1d_166 (Conv1D)             (None, 2000, 60)     3600        gated_activation_9_s1[0][0]      \n",
      "__________________________________________________________________________________________________\n",
      "add_84 (Add)                    (None, 2000, 60)     0           conv1d_128[0][0]                 \n",
      "                                                                 conv1d_130[0][0]                 \n",
      "                                                                 conv1d_132[0][0]                 \n",
      "                                                                 conv1d_134[0][0]                 \n",
      "                                                                 conv1d_136[0][0]                 \n",
      "                                                                 conv1d_138[0][0]                 \n",
      "                                                                 conv1d_140[0][0]                 \n",
      "                                                                 conv1d_142[0][0]                 \n",
      "                                                                 conv1d_144[0][0]                 \n",
      "                                                                 conv1d_146[0][0]                 \n",
      "                                                                 conv1d_148[0][0]                 \n",
      "                                                                 conv1d_150[0][0]                 \n",
      "                                                                 conv1d_152[0][0]                 \n",
      "                                                                 conv1d_154[0][0]                 \n",
      "                                                                 conv1d_156[0][0]                 \n",
      "                                                                 conv1d_158[0][0]                 \n",
      "                                                                 conv1d_160[0][0]                 \n",
      "                                                                 conv1d_162[0][0]                 \n",
      "                                                                 conv1d_164[0][0]                 \n",
      "                                                                 conv1d_166[0][0]                 \n",
      "__________________________________________________________________________________________________\n",
      "batch_normalization_11 (BatchNo (None, 2000, 60)     240         add_84[0][0]                     \n",
      "__________________________________________________________________________________________________\n",
      "activation_11 (Activation)      (None, 2000, 60)     0           batch_normalization_11[0][0]     \n",
      "__________________________________________________________________________________________________\n",
      "last_shared_layer (Dropout)     (None, 2000, 60)     0           activation_11[0][0]              \n",
      "__________________________________________________________________________________________________\n",
      "conv1d_167 (Conv1D)             (None, 2000, 22)     1342        last_shared_layer[0][0]          \n",
      "__________________________________________________________________________________________________\n",
      "batch_normalization_12 (BatchNo (None, 2000, 22)     88          conv1d_167[0][0]                 \n",
      "__________________________________________________________________________________________________\n",
      "activation_12 (Activation)      (None, 2000, 22)     0           batch_normalization_12[0][0]     \n",
      "__________________________________________________________________________________________________\n",
      "dropout_84 (Dropout)            (None, 2000, 22)     0           activation_12[0][0]              \n",
      "__________________________________________________________________________________________________\n",
      "conv1d_168 (Conv1D)             (None, 2000, 22)     506         dropout_84[0][0]                 \n",
      "__________________________________________________________________________________________________\n",
      "output_softmax_0 (Activation)   (None, 2000, 22)     0           conv1d_168[0][0]                 \n",
      "==================================================================================================\n",
      "Total params: 436,636\n",
      "Trainable params: 436,352\n",
      "Non-trainable params: 284\n",
      "__________________________________________________________________________________________________\n"
     ]
    }
   ],
   "source": [
    "model.summary()"
   ]
  },
  {
   "cell_type": "code",
   "execution_count": 15,
   "metadata": {},
   "outputs": [
    {
     "data": {
      "text/plain": [
       "['input_part',\n",
       " 'conv_0',\n",
       " 'batch_normalization_10',\n",
       " 'activation_10',\n",
       " 'dilated_conv_1_tanh_s0',\n",
       " 'dilated_conv_1_sigm_s0',\n",
       " 'gated_activation_0_s0',\n",
       " 'conv1d_127',\n",
       " 'add_64',\n",
       " 'dropout_64',\n",
       " 'dilated_conv_2_tanh_s0',\n",
       " 'dilated_conv_2_sigm_s0',\n",
       " 'gated_activation_1_s0',\n",
       " 'conv1d_129',\n",
       " 'add_65',\n",
       " 'dropout_65',\n",
       " 'dilated_conv_4_tanh_s0',\n",
       " 'dilated_conv_4_sigm_s0',\n",
       " 'gated_activation_2_s0',\n",
       " 'conv1d_131',\n",
       " 'add_66',\n",
       " 'dropout_66',\n",
       " 'dilated_conv_8_tanh_s0',\n",
       " 'dilated_conv_8_sigm_s0',\n",
       " 'gated_activation_3_s0',\n",
       " 'conv1d_133',\n",
       " 'add_67',\n",
       " 'dropout_67',\n",
       " 'dilated_conv_16_tanh_s0',\n",
       " 'dilated_conv_16_sigm_s0',\n",
       " 'gated_activation_4_s0',\n",
       " 'conv1d_135',\n",
       " 'add_68',\n",
       " 'dropout_68',\n",
       " 'dilated_conv_32_tanh_s0',\n",
       " 'dilated_conv_32_sigm_s0',\n",
       " 'gated_activation_5_s0',\n",
       " 'conv1d_137',\n",
       " 'add_69',\n",
       " 'dropout_69',\n",
       " 'dilated_conv_64_tanh_s0',\n",
       " 'dilated_conv_64_sigm_s0',\n",
       " 'gated_activation_6_s0',\n",
       " 'conv1d_139',\n",
       " 'add_70',\n",
       " 'dropout_70',\n",
       " 'dilated_conv_128_tanh_s0',\n",
       " 'dilated_conv_128_sigm_s0',\n",
       " 'gated_activation_7_s0',\n",
       " 'conv1d_141',\n",
       " 'add_71',\n",
       " 'dropout_71',\n",
       " 'dilated_conv_256_tanh_s0',\n",
       " 'dilated_conv_256_sigm_s0',\n",
       " 'gated_activation_8_s0',\n",
       " 'conv1d_143',\n",
       " 'add_72',\n",
       " 'dropout_72',\n",
       " 'dilated_conv_512_tanh_s0',\n",
       " 'dilated_conv_512_sigm_s0',\n",
       " 'gated_activation_9_s0',\n",
       " 'conv1d_145',\n",
       " 'add_73',\n",
       " 'dropout_73',\n",
       " 'dilated_conv_1_tanh_s1',\n",
       " 'dilated_conv_1_sigm_s1',\n",
       " 'gated_activation_0_s1',\n",
       " 'conv1d_147',\n",
       " 'add_74',\n",
       " 'dropout_74',\n",
       " 'dilated_conv_2_tanh_s1',\n",
       " 'dilated_conv_2_sigm_s1',\n",
       " 'gated_activation_1_s1',\n",
       " 'conv1d_149',\n",
       " 'add_75',\n",
       " 'dropout_75',\n",
       " 'dilated_conv_4_tanh_s1',\n",
       " 'dilated_conv_4_sigm_s1',\n",
       " 'gated_activation_2_s1',\n",
       " 'conv1d_151',\n",
       " 'add_76',\n",
       " 'dropout_76',\n",
       " 'dilated_conv_8_tanh_s1',\n",
       " 'dilated_conv_8_sigm_s1',\n",
       " 'gated_activation_3_s1',\n",
       " 'conv1d_153',\n",
       " 'add_77',\n",
       " 'dropout_77',\n",
       " 'dilated_conv_16_tanh_s1',\n",
       " 'dilated_conv_16_sigm_s1',\n",
       " 'gated_activation_4_s1',\n",
       " 'conv1d_155',\n",
       " 'add_78',\n",
       " 'dropout_78',\n",
       " 'dilated_conv_32_tanh_s1',\n",
       " 'dilated_conv_32_sigm_s1',\n",
       " 'gated_activation_5_s1',\n",
       " 'conv1d_157',\n",
       " 'add_79',\n",
       " 'dropout_79',\n",
       " 'dilated_conv_64_tanh_s1',\n",
       " 'dilated_conv_64_sigm_s1',\n",
       " 'gated_activation_6_s1',\n",
       " 'conv1d_159',\n",
       " 'add_80',\n",
       " 'dropout_80',\n",
       " 'dilated_conv_128_tanh_s1',\n",
       " 'dilated_conv_128_sigm_s1',\n",
       " 'gated_activation_7_s1',\n",
       " 'conv1d_161',\n",
       " 'add_81',\n",
       " 'dropout_81',\n",
       " 'dilated_conv_256_tanh_s1',\n",
       " 'dilated_conv_256_sigm_s1',\n",
       " 'gated_activation_8_s1',\n",
       " 'conv1d_163',\n",
       " 'add_82',\n",
       " 'dropout_82',\n",
       " 'dilated_conv_512_tanh_s1',\n",
       " 'dilated_conv_512_sigm_s1',\n",
       " 'gated_activation_9_s1',\n",
       " 'conv1d_128',\n",
       " 'conv1d_130',\n",
       " 'conv1d_132',\n",
       " 'conv1d_134',\n",
       " 'conv1d_136',\n",
       " 'conv1d_138',\n",
       " 'conv1d_140',\n",
       " 'conv1d_142',\n",
       " 'conv1d_144',\n",
       " 'conv1d_146',\n",
       " 'conv1d_148',\n",
       " 'conv1d_150',\n",
       " 'conv1d_152',\n",
       " 'conv1d_154',\n",
       " 'conv1d_156',\n",
       " 'conv1d_158',\n",
       " 'conv1d_160',\n",
       " 'conv1d_162',\n",
       " 'conv1d_164',\n",
       " 'conv1d_166',\n",
       " 'add_84',\n",
       " 'batch_normalization_11',\n",
       " 'activation_11',\n",
       " 'last_shared_layer',\n",
       " 'conv1d_167',\n",
       " 'batch_normalization_12',\n",
       " 'activation_12',\n",
       " 'dropout_84',\n",
       " 'conv1d_168',\n",
       " 'output_softmax_0']"
      ]
     },
     "execution_count": 15,
     "metadata": {},
     "output_type": "execute_result"
    }
   ],
   "source": [
    "model.layer_names()"
   ]
  },
  {
   "cell_type": "code",
   "execution_count": 16,
   "metadata": {},
   "outputs": [
    {
     "data": {
      "text/plain": [
       "[<keras.engine.input_layer.InputLayer at 0x7fc80909b5d0>,\n",
       " <keras.layers.convolutional.Conv1D at 0x7fc805e40d10>,\n",
       " <keras.layers.normalization.BatchNormalization at 0x7fc805e40610>,\n",
       " <keras.layers.core.Activation at 0x7fc8050e8dd0>,\n",
       " <keras.layers.convolutional.Conv1D at 0x7fc806163e90>,\n",
       " <keras.layers.convolutional.Conv1D at 0x7fc805839850>,\n",
       " <keras.layers.merge.Multiply at 0x7fc805273210>,\n",
       " <keras.layers.convolutional.Conv1D at 0x7fc8056cbcd0>,\n",
       " <keras.layers.merge.Add at 0x7fc80575bc10>,\n",
       " <keras.layers.core.Dropout at 0x7fc8057e9b90>,\n",
       " <keras.layers.convolutional.Conv1D at 0x7fc805ac0f10>,\n",
       " <keras.layers.convolutional.Conv1D at 0x7fc8052243d0>,\n",
       " <keras.layers.merge.Multiply at 0x7fc805fca3d0>,\n",
       " <keras.layers.convolutional.Conv1D at 0x7fc805bcb450>,\n",
       " <keras.layers.merge.Add at 0x7fc805bcbe50>,\n",
       " <keras.layers.core.Dropout at 0x7fc8054e4990>,\n",
       " <keras.layers.convolutional.Conv1D at 0x7fc8059d0790>,\n",
       " <keras.layers.convolutional.Conv1D at 0x7fc805b5b490>,\n",
       " <keras.layers.merge.Multiply at 0x7fc805964290>,\n",
       " <keras.layers.convolutional.Conv1D at 0x7fc8060d5e10>,\n",
       " <keras.layers.merge.Add at 0x7fc8060d5d10>,\n",
       " <keras.layers.core.Dropout at 0x7fc805e6fd50>,\n",
       " <keras.layers.convolutional.Conv1D at 0x7fc805e2fd10>,\n",
       " <keras.layers.convolutional.Conv1D at 0x7fc805109d90>,\n",
       " <keras.layers.merge.Multiply at 0x7fc8050f7950>,\n",
       " <keras.layers.convolutional.Conv1D at 0x7fc80541ba50>,\n",
       " <keras.layers.merge.Add at 0x7fc80541bf90>,\n",
       " <keras.layers.core.Dropout at 0x7fc805b2eb90>,\n",
       " <keras.layers.convolutional.Conv1D at 0x7fc805fd7890>,\n",
       " <keras.layers.convolutional.Conv1D at 0x7fc804ffb290>,\n",
       " <keras.layers.merge.Multiply at 0x7fc80572a210>,\n",
       " <keras.layers.convolutional.Conv1D at 0x7fc805a00e50>,\n",
       " <keras.layers.merge.Add at 0x7fc80624bf10>,\n",
       " <keras.layers.core.Dropout at 0x7fc805acf550>,\n",
       " <keras.layers.convolutional.Conv1D at 0x7fc805eb0e90>,\n",
       " <keras.layers.convolutional.Conv1D at 0x7fc8051e6c50>,\n",
       " <keras.layers.merge.Multiply at 0x7fc805f3a950>,\n",
       " <keras.layers.convolutional.Conv1D at 0x7fc806077e10>,\n",
       " <keras.layers.merge.Add at 0x7fc806077b10>,\n",
       " <keras.layers.core.Dropout at 0x7fc804f23d10>,\n",
       " <keras.layers.convolutional.Conv1D at 0x7fc804f50b50>,\n",
       " <keras.layers.convolutional.Conv1D at 0x7fc8061e1f90>,\n",
       " <keras.layers.merge.Multiply at 0x7fc805c48e50>,\n",
       " <keras.layers.convolutional.Conv1D at 0x7fc8061f7950>,\n",
       " <keras.layers.merge.Add at 0x7fc8061f7650>,\n",
       " <keras.layers.core.Dropout at 0x7fc805cd59d0>,\n",
       " <keras.layers.convolutional.Conv1D at 0x7fc805ab2450>,\n",
       " <keras.layers.convolutional.Conv1D at 0x7fc805159f90>,\n",
       " <keras.layers.merge.Multiply at 0x7fc805ec9d50>,\n",
       " <keras.layers.convolutional.Conv1D at 0x7fc8061b8d90>,\n",
       " <keras.layers.merge.Add at 0x7fc8061b8f50>,\n",
       " <keras.layers.core.Dropout at 0x7fc80506c890>,\n",
       " <keras.layers.convolutional.Conv1D at 0x7fc8062b8e90>,\n",
       " <keras.layers.convolutional.Conv1D at 0x7fc804eacfd0>,\n",
       " <keras.layers.merge.Multiply at 0x7fc804959710>,\n",
       " <keras.layers.convolutional.Conv1D at 0x7fc8049023d0>,\n",
       " <keras.layers.merge.Add at 0x7fc804902590>,\n",
       " <keras.layers.core.Dropout at 0x7fc8048db4d0>,\n",
       " <keras.layers.convolutional.Conv1D at 0x7fc8048dc3d0>,\n",
       " <keras.layers.convolutional.Conv1D at 0x7fc804844310>,\n",
       " <keras.layers.merge.Multiply at 0x7fc8048dcf10>,\n",
       " <keras.layers.convolutional.Conv1D at 0x7fc8048670d0>,\n",
       " <keras.layers.merge.Add at 0x7fc804867190>,\n",
       " <keras.layers.core.Dropout at 0x7fc80483c210>,\n",
       " <keras.layers.convolutional.Conv1D at 0x7fc8047d2710>,\n",
       " <keras.layers.convolutional.Conv1D at 0x7fc8047e6050>,\n",
       " <keras.layers.merge.Multiply at 0x7fc8047a5190>,\n",
       " <keras.layers.convolutional.Conv1D at 0x7fc8047a5710>,\n",
       " <keras.layers.merge.Add at 0x7fc804763790>,\n",
       " <keras.layers.core.Dropout at 0x7fc804763a10>,\n",
       " <keras.layers.convolutional.Conv1D at 0x7fc80470c390>,\n",
       " <keras.layers.convolutional.Conv1D at 0x7fc80470cb50>,\n",
       " <keras.layers.merge.Multiply at 0x7fc8046c8850>,\n",
       " <keras.layers.convolutional.Conv1D at 0x7fc8046f0510>,\n",
       " <keras.layers.merge.Add at 0x7fc8046ae050>,\n",
       " <keras.layers.core.Dropout at 0x7fc804648f90>,\n",
       " <keras.layers.convolutional.Conv1D at 0x7fc80466e590>,\n",
       " <keras.layers.convolutional.Conv1D at 0x7fc804602990>,\n",
       " <keras.layers.merge.Multiply at 0x7fc80466e9d0>,\n",
       " <keras.layers.convolutional.Conv1D at 0x7fc8045d7090>,\n",
       " <keras.layers.merge.Add at 0x7fc8045d7250>,\n",
       " <keras.layers.core.Dropout at 0x7fc8045ac1d0>,\n",
       " <keras.layers.convolutional.Conv1D at 0x7fc8045539d0>,\n",
       " <keras.layers.convolutional.Conv1D at 0x7fc804553350>,\n",
       " <keras.layers.merge.Multiply at 0x7fc804515210>,\n",
       " <keras.layers.convolutional.Conv1D at 0x7fc804527bd0>,\n",
       " <keras.layers.merge.Add at 0x7fc8044fad50>,\n",
       " <keras.layers.core.Dropout at 0x7fc8044faf10>,\n",
       " <keras.layers.convolutional.Conv1D at 0x7fc8044a4450>,\n",
       " <keras.layers.convolutional.Conv1D at 0x7fc8044bc0d0>,\n",
       " <keras.layers.merge.Multiply at 0x7fc804463b90>,\n",
       " <keras.layers.convolutional.Conv1D at 0x7fc80440a750>,\n",
       " <keras.layers.merge.Add at 0x7fc8043e9650>,\n",
       " <keras.layers.core.Dropout at 0x7fc8043e98d0>,\n",
       " <keras.layers.convolutional.Conv1D at 0x7fc80438c250>,\n",
       " <keras.layers.convolutional.Conv1D at 0x7fc80438cfd0>,\n",
       " <keras.layers.merge.Multiply at 0x7fc80434d710>,\n",
       " <keras.layers.convolutional.Conv1D at 0x7fc80434dd50>,\n",
       " <keras.layers.merge.Add at 0x7fc8043763d0>,\n",
       " <keras.layers.core.Dropout at 0x7fc8042cd4d0>,\n",
       " <keras.layers.convolutional.Conv1D at 0x7fc8042f23d0>,\n",
       " <keras.layers.convolutional.Conv1D at 0x7fc8042b6310>,\n",
       " <keras.layers.merge.Multiply at 0x7fc8042f2f10>,\n",
       " <keras.layers.convolutional.Conv1D at 0x7fc80425a0d0>,\n",
       " <keras.layers.merge.Add at 0x7fc80425a190>,\n",
       " <keras.layers.core.Dropout at 0x7fc8042314d0>,\n",
       " <keras.layers.convolutional.Conv1D at 0x7fc8041c7710>,\n",
       " <keras.layers.convolutional.Conv1D at 0x7fc8041f4dd0>,\n",
       " <keras.layers.merge.Multiply at 0x7fc8041dda90>,\n",
       " <keras.layers.convolutional.Conv1D at 0x7fc8041abb10>,\n",
       " <keras.layers.merge.Add at 0x7fc8040fe910>,\n",
       " <keras.layers.core.Dropout at 0x7fc8040fe990>,\n",
       " <keras.layers.convolutional.Conv1D at 0x7fc80412a510>,\n",
       " <keras.layers.convolutional.Conv1D at 0x7fc80412acd0>,\n",
       " <keras.layers.merge.Multiply at 0x7fc8040ec9d0>,\n",
       " <keras.layers.convolutional.Conv1D at 0x7fc804093690>,\n",
       " <keras.layers.merge.Add at 0x7fc80406d510>,\n",
       " <keras.layers.core.Dropout at 0x7fc80406d790>,\n",
       " <keras.layers.convolutional.Conv1D at 0x7fc80400f250>,\n",
       " <keras.layers.convolutional.Conv1D at 0x7fc80400ff50>,\n",
       " <keras.layers.merge.Multiply at 0x7fc803fd05d0>,\n",
       " <keras.layers.convolutional.Conv1D at 0x7fc8055d0d90>,\n",
       " <keras.layers.convolutional.Conv1D at 0x7fc8057c9a50>,\n",
       " <keras.layers.convolutional.Conv1D at 0x7fc805251bd0>,\n",
       " <keras.layers.convolutional.Conv1D at 0x7fc805580190>,\n",
       " <keras.layers.convolutional.Conv1D at 0x7fc806214910>,\n",
       " <keras.layers.convolutional.Conv1D at 0x7fc804f11810>,\n",
       " <keras.layers.convolutional.Conv1D at 0x7fc8053aae10>,\n",
       " <keras.layers.convolutional.Conv1D at 0x7fc805f18210>,\n",
       " <keras.layers.convolutional.Conv1D at 0x7fc80492be10>,\n",
       " <keras.layers.convolutional.Conv1D at 0x7fc804814a10>,\n",
       " <keras.layers.convolutional.Conv1D at 0x7fc80474d710>,\n",
       " <keras.layers.convolutional.Conv1D at 0x7fc804696f50>,\n",
       " <keras.layers.convolutional.Conv1D at 0x7fc804583ad0>,\n",
       " <keras.layers.convolutional.Conv1D at 0x7fc8044eb650>,\n",
       " <keras.layers.convolutional.Conv1D at 0x7fc8043d01d0>,\n",
       " <keras.layers.convolutional.Conv1D at 0x7fc80431fd90>,\n",
       " <keras.layers.convolutional.Conv1D at 0x7fc804206910>,\n",
       " <keras.layers.convolutional.Conv1D at 0x7fc804140b10>,\n",
       " <keras.layers.convolutional.Conv1D at 0x7fc804053110>,\n",
       " <keras.layers.convolutional.Conv1D at 0x7fc803f8a290>,\n",
       " <keras.layers.merge.Add at 0x7fc805e40410>,\n",
       " <keras.layers.normalization.BatchNormalization at 0x7fc803fa3d90>,\n",
       " <keras.layers.core.Activation at 0x7fc805e40910>,\n",
       " <keras.layers.core.Dropout at 0x7fc803f75290>,\n",
       " <keras.layers.convolutional.Conv1D at 0x7fc803f75ad0>,\n",
       " <keras.layers.normalization.BatchNormalization at 0x7fc803e96b10>,\n",
       " <keras.layers.core.Activation at 0x7fc803e96810>,\n",
       " <keras.layers.core.Dropout at 0x7fc803dbe550>,\n",
       " <keras.layers.convolutional.Conv1D at 0x7fc803dbef10>,\n",
       " <keras.layers.core.Activation at 0x7fc803dcff90>]"
      ]
     },
     "execution_count": 16,
     "metadata": {},
     "output_type": "execute_result"
    }
   ],
   "source": [
    "model._neural_network.layers"
   ]
  },
  {
   "cell_type": "markdown",
   "metadata": {},
   "source": [
    "Build the model. Note that all trained weights will be lost. So we are not running it just now. "
   ]
  },
  {
   "cell_type": "code",
   "execution_count": 17,
   "metadata": {},
   "outputs": [],
   "source": [
    "#model.build()"
   ]
  },
  {
   "cell_type": "markdown",
   "metadata": {},
   "source": [
    "# ChromWave methods for predictions and visualisation of training progress\n"
   ]
  },
  {
   "cell_type": "markdown",
   "metadata": {},
   "source": [
    "To visualise the model architecture as model.png in the provided directory: "
   ]
  },
  {
   "cell_type": "code",
   "execution_count": 18,
   "metadata": {},
   "outputs": [],
   "source": [
    "test_plot_dir = os.path.join(f.get_output_directory(),'test-plots')\n",
    "os.mkdir(test_plot_dir)"
   ]
  },
  {
   "cell_type": "code",
   "execution_count": 19,
   "metadata": {},
   "outputs": [
    {
     "name": "stdout",
     "output_type": "stream",
     "text": [
      "Warning: layer names except first convolutional names will be changed if the model is plotted after calling self.change_input_length(). For correct layer names please plot directly after building or deserialising.\n"
     ]
    }
   ],
   "source": [
    "model.plot_model(test_plot_dir)"
   ]
  },
  {
   "cell_type": "markdown",
   "metadata": {},
   "source": [
    "Confusion matrices, prediciotions and motif detectors can directly be computed with the respecitve methods of the ChromWave object. "
   ]
  },
  {
   "cell_type": "code",
   "execution_count": 20,
   "metadata": {},
   "outputs": [
    {
     "name": "stdout",
     "output_type": "stream",
     "text": [
      "Computing the confusion matrix for training set.....\n"
     ]
    }
   ],
   "source": [
    "cm = model.compute_confusion_matrices(r, what = 'training')"
   ]
  },
  {
   "cell_type": "markdown",
   "metadata": {},
   "source": [
    "To save the plots of the confusion matrices:"
   ]
  },
  {
   "cell_type": "code",
   "execution_count": 21,
   "metadata": {},
   "outputs": [
    {
     "name": "stdout",
     "output_type": "stream",
     "text": [
      "Computing the confusion matrix for training set.....\n",
      "Plotting the confusion matrix for training set.....\n",
      "Normalized confusion matrix\n"
     ]
    }
   ],
   "source": [
    "model.plot_confusion_matrices(r, out_dir =test_plot_dir , what='training', normalize=True)"
   ]
  },
  {
   "cell_type": "markdown",
   "metadata": {},
   "source": [
    "To compute the motif detectors you can use the function `_compute_PFM_motif_detectors`. If there are many sequences in the training data, you can select a subset that activated the filters the most by specifying the percentile the activation should fall in. "
   ]
  },
  {
   "cell_type": "code",
   "execution_count": 22,
   "metadata": {},
   "outputs": [
    {
     "name": "stdout",
     "output_type": "stream",
     "text": [
      "Computing the PFMs of the motif detectors\n"
     ]
    }
   ],
   "source": [
    "model._compute_PFM_motif_detectors(r,out_dir=test_plot_dir,percentile = 8)"
   ]
  },
  {
   "cell_type": "markdown",
   "metadata": {},
   "source": [
    "If you have R installed the PFMs can be computed and visualised with the function `plot_motif_detectors`"
   ]
  },
  {
   "cell_type": "code",
   "execution_count": 23,
   "metadata": {},
   "outputs": [
    {
     "name": "stdout",
     "output_type": "stream",
     "text": [
      "Plotting motif detectors with R\n",
      "subprocess stdout output: \n",
      "\n"
     ]
    }
   ],
   "source": [
    "model.plot_motif_detectors(r,out_dir = test_plot_dir)"
   ]
  },
  {
   "cell_type": "markdown",
   "metadata": {},
   "source": [
    "# Predictions"
   ]
  },
  {
   "cell_type": "markdown",
   "metadata": {},
   "source": [
    "The `ChromWave` model has two prediction methods: `model.predict_smooth` returns smoothed predicted binding profiles for the given input. `model.predict` returns the raw predictions as one-hot encoded classes. Note that the raw predictions may not be on the same scales for the different output profiles as they might be differently preprocessed in the RuntimeDataset object. Do rescale and smooth in a comparable way `model.predict_smooth` uses the applicable pre-processing parameters that were used to load the data.  "
   ]
  },
  {
   "cell_type": "code",
   "execution_count": 24,
   "metadata": {},
   "outputs": [],
   "source": [
    "y_pred = model.predict(r.train_x_data)\n",
    "predictions = [y.argmax(axis=2) for y in y_pred] # classes\n",
    "true = [y.argmax(axis=2) for y in r.train_y_data]# classes"
   ]
  },
  {
   "cell_type": "markdown",
   "metadata": {},
   "source": [
    "We can now plot the distributions of the predicted vs observed classes. The plot indiciates that we are biased towards smaller classes. "
   ]
  },
  {
   "cell_type": "code",
   "execution_count": 25,
   "metadata": {},
   "outputs": [],
   "source": [
    "model.plot_predicted_class_distributions(predictions, true,output_dir = test_plot_dir, what='training')"
   ]
  },
  {
   "cell_type": "markdown",
   "metadata": {},
   "source": [
    "To compare the smoothed profiles, we need to compute the smooth predicted profiles. As we are rescaling and processing the binding profiles when we are loading it into the `RuntimeDatset` object before we are discretising it into classes we can predict, we need to reverse those steps to turn the predicted classes into a binding profile on the same scale as the original profile. With the parameters stored in the RuntimDataset we can easily do that easily with the funciton `invert_discretizing`. Note that you prediction and smoothing can be done in one go using the  `predict_smooth` function of `ChromWave`:"
   ]
  },
  {
   "cell_type": "code",
   "execution_count": 26,
   "metadata": {},
   "outputs": [],
   "source": [
    "#predictions_smooth = model.predict_smooth(r.train_x_data,r)\n",
    "smoothed_predictions = r.invert_discretizing(predictions)"
   ]
  },
  {
   "cell_type": "markdown",
   "metadata": {},
   "source": [
    "Let's compare the different profiles for the 100th sequence in the training sequences: "
   ]
  },
  {
   "cell_type": "code",
   "execution_count": 27,
   "metadata": {},
   "outputs": [
    {
     "data": {
      "text/plain": [
       "array([<matplotlib.axes._subplots.AxesSubplot object at 0x7fcfaa805d10>,\n",
       "       <matplotlib.axes._subplots.AxesSubplot object at 0x7fcfa9613d10>,\n",
       "       <matplotlib.axes._subplots.AxesSubplot object at 0x7fcfa978b950>,\n",
       "       <matplotlib.axes._subplots.AxesSubplot object at 0x7fcfa9746590>],\n",
       "      dtype=object)"
      ]
     },
     "execution_count": 27,
     "metadata": {},
     "output_type": "execute_result"
    },
    {
     "data": {
      "image/png": "[encoded data removed]",
      "text/plain": [
       "<Figure size 432x288 with 4 Axes>"
      ]
     },
     "metadata": {},
     "output_type": "display_data"
    }
   ],
   "source": [
    "pandas.DataFrame(numpy.vstack([smoothed_predictions[0][100,:],predictions[0][100,:],true[0][100,:],r.train_y_data_smooth[0][100,:]]).transpose(), columns=['smoothed','raw','true classes','true profile']).plot(subplots=True)\n"
   ]
  },
  {
   "cell_type": "markdown",
   "metadata": {},
   "source": [
    "Plots the best and worst profile predictions (measured by pearson correlations)"
   ]
  },
  {
   "cell_type": "code",
   "execution_count": 28,
   "metadata": {},
   "outputs": [],
   "source": [
    "model.plot_profile_predictions(smoothed_predictions, r.train_y_data_smooth,  out_dir=test_plot_dir, what='training')"
   ]
  },
  {
   "cell_type": "markdown",
   "metadata": {},
   "source": [
    "If you 're interested in the metrics and loss vs training epochs, you can look at the training history plots: "
   ]
  },
  {
   "cell_type": "code",
   "execution_count": 29,
   "metadata": {},
   "outputs": [],
   "source": [
    "model.plot_training_history(out_dir=test_plot_dir)"
   ]
  },
  {
   "cell_type": "markdown",
   "metadata": {},
   "source": [
    "And finally, to plot predictions of whole chromosome (or all sequences in r.chr_info if chr_name=None) do: "
   ]
  },
  {
   "cell_type": "code",
   "execution_count": 30,
   "metadata": {},
   "outputs": [
    {
     "name": "stdout",
     "output_type": "stream",
     "text": [
      "Receptive Field: 2047 \n",
      "Receptive Field: 2047 \n"
     ]
    }
   ],
   "source": [
    "model.save_chr_predictions(runtime_dataset=r,out_dir=test_plot_dir,chr_name='chr1')"
   ]
  },
  {
   "cell_type": "markdown",
   "metadata": {},
   "source": [
    "Finally, to do it all in one go as we are doing it in the `train` function: "
   ]
  },
  {
   "cell_type": "code",
   "execution_count": 31,
   "metadata": {},
   "outputs": [
    {
     "name": "stdout",
     "output_type": "stream",
     "text": [
      "Plotting distribution of class predictions, confusion matrices, and  best/worst predictions profiles...\n",
      "Plotting the confusion matrix for training set.....\n",
      "Normalized confusion matrix\n",
      "Plotting the confusion matrix for test set.....\n",
      "Normalized confusion matrix\n",
      "Plotting the confusion matrix for validation set.....\n",
      "Normalized confusion matrix\n"
     ]
    }
   ],
   "source": [
    "model.plot_all_training_history(r,f) # not running it - it's already in your training output file! "
   ]
  },
  {
   "cell_type": "markdown",
   "metadata": {},
   "source": [
    "# Loading and saving ChromWave models"
   ]
  },
  {
   "cell_type": "markdown",
   "metadata": {},
   "source": [
    "There are different ways of saving and loading ChromWave model. The cleanest and most complete way is to deserialise the whole model. To do that you need the setup json and the keras model: "
   ]
  },
  {
   "cell_type": "code",
   "execution_count": 32,
   "metadata": {},
   "outputs": [
    {
     "data": {
      "text/plain": [
       "{'_pool_pretrained_conv': None,\n",
       " '_pretrained_conv_n_filters': [],\n",
       " '_pretrained_kernel_lengths': [],\n",
       " '_pretrained_models': [],\n",
       " '_train_pretrained_conv': [],\n",
       " 'batch_normalization': True,\n",
       " 'class_weights': [[1.0,\n",
       "   1.0,\n",
       "   1.0,\n",
       "   1.0,\n",
       "   1.0,\n",
       "   1.0,\n",
       "   1.0,\n",
       "   1.0,\n",
       "   1.0,\n",
       "   1.0,\n",
       "   1.0,\n",
       "   1.0,\n",
       "   1.0,\n",
       "   1.0,\n",
       "   1.0,\n",
       "   1.0,\n",
       "   1.0,\n",
       "   1.0,\n",
       "   1.0,\n",
       "   1.0,\n",
       "   1.0,\n",
       "   1.0]],\n",
       " 'conv_n_filters': [60],\n",
       " 'dilation_depth': 9,\n",
       " 'dropout': 0.2,\n",
       " 'early_stopping_patience_fraction': 3,\n",
       " 'epsilon': 0.001,\n",
       " 'final_l2': 0.05,\n",
       " 'input_nodes_number': 2000,\n",
       " 'keras_verbose': 1,\n",
       " 'kernel_lengths': [24],\n",
       " 'learn_all_outputs': True,\n",
       " 'learning_rate': 0.002,\n",
       " 'max_epochs': 10,\n",
       " 'minibatch_size': 32,\n",
       " 'momentum': 0.9,\n",
       " 'n_channels': 4,\n",
       " 'n_output_bins': [22],\n",
       " 'n_output_features': 1,\n",
       " 'n_stacks': 2,\n",
       " 'nesterov': True,\n",
       " 'optimizer': 'adam',\n",
       " 'penalise_misclassification': False,\n",
       " 'penalties': [None],\n",
       " 'pool_sizes': [],\n",
       " 'res_dropout': 0.1,\n",
       " 'res_l2': 0.01,\n",
       " 'train_only_in_receptive_field': False,\n",
       " 'train_with_soft_target_stdev': False,\n",
       " 'use_bias': False,\n",
       " 'use_skip_connections': True,\n",
       " 'weight_decay': 0.0}"
      ]
     },
     "execution_count": 32,
     "metadata": {},
     "output_type": "execute_result"
    }
   ],
   "source": [
    "model._neural_network.save(os.path.join(test_plot_dir, 'BestWaveNet.h5'))\n",
    "model.serialize_json(output_filepath=os.path.join(test_plot_dir, 'WaveNet_Setup.json'))"
   ]
  },
  {
   "cell_type": "code",
   "execution_count": 33,
   "metadata": {},
   "outputs": [
    {
     "name": "stdout",
     "output_type": "stream",
     "text": [
      "Receptive Field: 2047 \n"
     ]
    }
   ],
   "source": [
    "model.deserialize(test_plot_dir)"
   ]
  },
  {
   "cell_type": "markdown",
   "metadata": {},
   "source": [
    "However, the keras model stored in `model._neural_network` can be saved with `keras` functions as `json` or `h5py` files. Even more bareboned is to store the keras weights. Note however, that only loading as a ChromWave model will provide the model with the right loss function. "
   ]
  },
  {
   "cell_type": "code",
   "execution_count": 34,
   "metadata": {},
   "outputs": [],
   "source": [
    "# save the model_neural_network as keras model: \n",
    "model.save_model( output_path=test_plot_dir, id=\"keras_model\")"
   ]
  },
  {
   "cell_type": "markdown",
   "metadata": {},
   "source": [
    "We can just load the model as a keras model but we need to pass the loss and metrcs as custom objects. "
   ]
  },
  {
   "cell_type": "code",
   "execution_count": 35,
   "metadata": {},
   "outputs": [],
   "source": [
    "import keras\n",
    "from genomic_net.functions import utils\n",
    "keras_model = keras.models.load_model(os.path.join(test_plot_dir, \"keras_model.h5\"),\n",
    "                                      custom_objects={'w_categorical_crossentropy0': model.loss[0],\n",
    "                                                      'categorical_mean_squared_error':utils.categorical_mean_squared_error,\n",
    "                                                      'mean_classification_pearson_correlation': utils.mean_classification_pearson_correlation\n",
    "})\n"
   ]
  },
  {
   "cell_type": "markdown",
   "metadata": {},
   "source": [
    "This is of course a nuisance and unnessesary if we just want to make predictions with the keras model. As a workaround you can save the model json and the weights that can be loaded later into a keras model. Note that if the model is used only for prediction of raw classes, then loading a keras model will suffice, however, to provide the smoothed binding profiles additional smoothing with the function `invert_discretizing` provided in the RuntimeDataset object is necessary. "
   ]
  },
  {
   "cell_type": "code",
   "execution_count": 36,
   "metadata": {},
   "outputs": [],
   "source": [
    "# saving json and weights\n",
    "model_json = model._neural_network.to_json()\n",
    "with open(os.path.join(test_plot_dir, \"keras_model.json\"), \"w\") as json_file:\n",
    "    json_file.write(model_json)\n",
    "model.save_weights_to(test_plot_dir, id=\"keras_model\")\n"
   ]
  },
  {
   "cell_type": "code",
   "execution_count": 37,
   "metadata": {},
   "outputs": [],
   "source": [
    "json_file = open(os.path.join(test_plot_dir, \"keras_model.json\"), 'r')\n",
    "keras_json = json_file.read()\n",
    "json_file.close()\n",
    "keras_model = keras.models.model_from_json(keras_json)\n",
    "keras_model.load_weights(os.path.join(test_plot_dir,'keras_model.weights'))"
   ]
  },
  {
   "cell_type": "markdown",
   "metadata": {},
   "source": [
    "This is why we always store the json and weights after a training run: "
   ]
  },
  {
   "cell_type": "code",
   "execution_count": 38,
   "metadata": {},
   "outputs": [],
   "source": [
    "json_file = open(os.path.join(f.get_output_directory(), \"model.json\"), 'r')\n",
    "keras_json = json_file.read()\n",
    "json_file.close()\n",
    "keras_model = keras.models.model_from_json(keras_json)\n",
    "keras_model.load_weights(os.path.join(f.get_output_directory(),'BestWaveNet.weights'))"
   ]
  },
  {
   "cell_type": "code",
   "execution_count": 39,
   "metadata": {},
   "outputs": [],
   "source": [
    "y_pred = [keras_model.predict(r.train_x_data)] # we are expecting the predictions to be a list of arrays \n",
    "predictions = [y.argmax(axis=2) for y in y_pred] # classes\n",
    "predictions_smooth = r.invert_discretizing(predictions)"
   ]
  },
  {
   "cell_type": "code",
   "execution_count": 40,
   "metadata": {},
   "outputs": [
    {
     "data": {
      "text/plain": [
       "array([<matplotlib.axes._subplots.AxesSubplot object at 0x7fc794c1ce90>,\n",
       "       <matplotlib.axes._subplots.AxesSubplot object at 0x7fc794a41d10>,\n",
       "       <matplotlib.axes._subplots.AxesSubplot object at 0x7fc794aa7150>,\n",
       "       <matplotlib.axes._subplots.AxesSubplot object at 0x7fc794c8da10>],\n",
       "      dtype=object)"
      ]
     },
     "execution_count": 40,
     "metadata": {},
     "output_type": "execute_result"
    },
    {
     "data": {
      "image/png": "[encoded data removed]",
      "text/plain": [
       "<Figure size 432x288 with 4 Axes>"
      ]
     },
     "metadata": {},
     "output_type": "display_data"
    }
   ],
   "source": [
    "pandas.DataFrame(numpy.vstack([smoothed_predictions[0][100,:],predictions[0][100,:],true[0][100,:],r.train_y_data_smooth[0][100,:]]).transpose(), columns=['smoothed','raw','true classes','true profile']).plot(subplots=True)\n"
   ]
  },
  {
   "cell_type": "markdown",
   "metadata": {},
   "source": [
    "# Loading pretrained model weights"
   ]
  },
  {
   "cell_type": "markdown",
   "metadata": {},
   "source": [
    "Pretrained model weights can be loaded either from saved `keras` models, saved `ChromWave` models or as saved `numpy` array. "
   ]
  },
  {
   "cell_type": "markdown",
   "metadata": {},
   "source": [
    "Let's use the pre-trained filters from our keras model that predicts nucleosome binding given a DNA-sequence based on the Chemcial Cleavage data from `Brogaard et al 2012`. "
   ]
  },
  {
   "cell_type": "code",
   "execution_count": 41,
   "metadata": {},
   "outputs": [],
   "source": [
    "nuc_model=os.path.join(model_dir,'nucleosomes/brogaard2012_nucModel_6.h5')"
   ]
  },
  {
   "cell_type": "markdown",
   "metadata": {},
   "source": [
    "Let's pool the pretrained layers and load the convolutional weights of the model trained on the Brogaard data. The ChromWave function `_load_conv_weights` returns the convolutional weights and biases."
   ]
  },
  {
   "cell_type": "code",
   "execution_count": 42,
   "metadata": {},
   "outputs": [
    {
     "name": "stderr",
     "output_type": "stream",
     "text": [
      "/home/cakiroa/software/miniconda/envs/rnn/lib/python2.7/site-packages/keras/engine/saving.py:384: UserWarning: Error in loading the saved optimizer state. As a result, your model is starting with a freshly initialized optimizer.\n",
      "  warnings.warn('Error in loading the saved optimizer '\n"
     ]
    },
    {
     "data": {
      "text/plain": [
       "[array([[[ 4.66615371e-02,  7.36842975e-02,  1.34514481e-01, ...,\n",
       "          -5.05942822e-01, -2.25814171e-02, -1.37842238e-01],\n",
       "         [-4.46681753e-02, -4.10924911e-01, -2.82709658e-01, ...,\n",
       "           1.52719140e-01, -1.07457452e-02,  1.91821113e-01],\n",
       "         [-1.79955706e-01,  2.55427230e-02,  8.19325671e-02, ...,\n",
       "          -3.82968783e-01, -9.05162543e-02,  1.79694816e-02],\n",
       "         [-4.30578068e-02, -9.05019343e-02, -1.87613800e-01, ...,\n",
       "           9.37014520e-02, -1.97507674e-03, -3.79237175e-01]],\n",
       " \n",
       "        [[ 7.27666169e-03,  2.05407683e-02,  3.06225084e-02, ...,\n",
       "          -4.28343087e-01, -2.26044729e-01, -9.87959467e-03],\n",
       "         [-3.76675725e-01,  1.42846666e-02, -4.22633201e-01, ...,\n",
       "          -3.71496886e-01,  1.08102202e-01, -1.82060853e-01],\n",
       "         [-2.67348051e-01,  1.17250606e-01, -9.81899574e-02, ...,\n",
       "          -3.85653347e-01, -4.18530464e-01, -2.28208438e-01],\n",
       "         [ 6.67454228e-02, -4.30497378e-01,  1.58322994e-02, ...,\n",
       "           1.65233165e-01,  7.65468553e-02,  9.25616026e-02]],\n",
       " \n",
       "        [[ 9.87832695e-02,  2.21093856e-02,  1.45129621e-01, ...,\n",
       "           1.85953796e-01, -3.30699176e-01, -2.10515290e-01],\n",
       "         [-8.13415051e-02, -2.60622054e-02, -3.59905779e-01, ...,\n",
       "          -2.84453690e-01, -3.48827809e-01, -3.22816223e-02],\n",
       "         [-5.01385450e-01, -1.49129480e-01, -2.86282361e-01, ...,\n",
       "          -4.45417553e-01, -3.90214652e-01, -7.88973570e-02],\n",
       "         [-5.83942533e-01,  1.92977265e-02,  3.16797830e-02, ...,\n",
       "          -3.33338171e-01,  2.01912284e-01,  8.97617787e-02]],\n",
       " \n",
       "        [[-9.25122052e-02, -4.15064335e-01,  7.02322423e-02, ...,\n",
       "           3.19697186e-02,  1.45156339e-01, -1.49568468e-01],\n",
       "         [ 2.07433581e-01, -1.34556323e-01, -3.87060016e-01, ...,\n",
       "          -7.27252290e-02, -4.49932873e-01, -6.06961101e-02],\n",
       "         [-2.58868903e-01, -3.31909239e-01, -4.09597218e-01, ...,\n",
       "          -1.95041746e-02, -4.04347211e-01, -5.24188799e-04],\n",
       "         [-6.03510439e-02,  1.49543658e-01,  7.14541003e-02, ...,\n",
       "          -7.69265369e-02, -3.91999811e-01, -4.53013033e-02]],\n",
       " \n",
       "        [[-3.22246164e-01, -8.07865933e-02, -4.00400944e-02, ...,\n",
       "           5.66707877e-03,  1.12231202e-01, -1.08603843e-01],\n",
       "         [-1.95432290e-01, -4.42195207e-01,  8.35746247e-03, ...,\n",
       "          -1.41373416e-02, -4.04095083e-01, -8.29010084e-03],\n",
       "         [ 1.85666025e-01, -4.27244574e-01, -2.64877111e-01, ...,\n",
       "          -9.31238085e-02,  1.31983846e-01,  5.54105267e-02],\n",
       "         [-1.06540658e-01,  1.44334614e-01,  2.96997279e-03, ...,\n",
       "           7.78342877e-03, -2.00469419e-01,  1.21404715e-01]],\n",
       " \n",
       "        [[-5.95697105e-01,  7.31589571e-02, -1.76301122e-01, ...,\n",
       "          -1.90443769e-01,  3.77605902e-03,  5.37579618e-02],\n",
       "         [-1.36602178e-01, -4.17838007e-01,  8.80975798e-02, ...,\n",
       "           5.56002222e-02, -1.17641501e-01,  7.81602785e-02],\n",
       "         [ 2.07048982e-01,  6.40714467e-02, -2.80222241e-02, ...,\n",
       "           5.40849492e-02,  5.54913022e-02,  2.51112878e-03],\n",
       "         [-7.37066865e-02, -4.88092422e-01,  3.12293898e-02, ...,\n",
       "          -3.80097143e-02, -9.85258147e-02, -3.48201871e-01]]],\n",
       "       dtype=float32),\n",
       " array([-0.07856723, -0.05914858, -0.08167884, -0.03285452, -0.04953668,\n",
       "        -0.08026295, -0.11308154, -0.10568324, -0.06677644, -0.06109373,\n",
       "        -0.07862696, -0.06383903, -0.09907293, -0.09558696, -0.0809845 ,\n",
       "        -0.04268377, -0.06063371, -0.04603538, -0.09006474, -0.05168315,\n",
       "        -0.09900066, -0.07183173, -0.08839235, -0.04038971, -0.11874363,\n",
       "        -0.07789013, -0.06541999, -0.10891198, -0.05075623, -0.08410231,\n",
       "        -0.04678338, -0.0530162 , -0.1004752 , -0.09959976, -0.06778507,\n",
       "        -0.04468922, -0.07149416, -0.09223371, -0.08486793, -0.07800681,\n",
       "        -0.06745092, -0.10867041, -0.08640911, -0.05704473, -0.06418653,\n",
       "        -0.08760387, -0.06653135, -0.05217849, -0.04870981, -0.10027282,\n",
       "        -0.10969498, -0.05719358, -0.12893273, -0.07185741, -0.0625998 ,\n",
       "        -0.04297571, -0.08131111, -0.0851381 , -0.04755708, -0.05662005,\n",
       "        -0.09781269, -0.04909897, -0.04391206, -0.08828166, -0.10456433,\n",
       "        -0.08746661, -0.08226584, -0.11193982, -0.10624443, -0.09362919,\n",
       "        -0.0686021 , -0.0668424 , -0.07538676, -0.08609904, -0.07367441,\n",
       "        -0.07127716, -0.09453522, -0.03953357, -0.04687838, -0.10293204,\n",
       "        -0.06384013, -0.02038758, -0.0710922 , -0.1129336 , -0.0491995 ,\n",
       "        -0.05142139, -0.04648621, -0.07342567, -0.07306056, -0.06339312,\n",
       "        -0.04496848, -0.05148312, -0.07300664, -0.04619469, -0.05228217,\n",
       "        -0.10300709, -0.12215455, -0.07509001, -0.02145402, -0.05409825,\n",
       "        -0.06842465, -0.0687302 , -0.06039259, -0.07420573, -0.05450763,\n",
       "        -0.1192848 , -0.11317538, -0.13268708, -0.06392217, -0.08854798,\n",
       "        -0.0759691 , -0.04757166, -0.05268317, -0.03595344, -0.07472019,\n",
       "        -0.0742538 , -0.0737193 , -0.04398422, -0.06663591, -0.05732408,\n",
       "        -0.092114  , -0.09026177, -0.06912187, -0.04901138, -0.05732514,\n",
       "        -0.0596507 , -0.0694005 , -0.06785749, -0.05478808, -0.10745271,\n",
       "        -0.06788576, -0.05283671, -0.03551586, -0.07964136, -0.10219378,\n",
       "        -0.08992323, -0.08049204, -0.08724742, -0.10186879, -0.05380419,\n",
       "        -0.0734343 , -0.1046874 , -0.02598659, -0.05577844, -0.09016114,\n",
       "        -0.04186243, -0.06838592, -0.0919353 , -0.07942399, -0.06249739,\n",
       "        -0.0265945 , -0.05634804, -0.10354342, -0.12927409, -0.0602503 ,\n",
       "        -0.08740325, -0.04964431, -0.09877764, -0.06611317, -0.04226734,\n",
       "        -0.09354694, -0.085778  , -0.08049519, -0.07792094, -0.09146976,\n",
       "        -0.0904729 , -0.09396785, -0.06726091, -0.09380179, -0.06834669,\n",
       "        -0.07546488, -0.10145323, -0.05139544, -0.11507072, -0.10372397,\n",
       "        -0.04891878, -0.09131325, -0.09941481, -0.11320912, -0.04052885,\n",
       "        -0.05805865, -0.06064544, -0.07223533, -0.060266  , -0.03962081,\n",
       "        -0.08377387, -0.07881519, -0.05904012, -0.07124083, -0.11561588,\n",
       "        -0.0813241 , -0.05153432, -0.07328267, -0.09046902, -0.02797169,\n",
       "        -0.06700794, -0.08338734, -0.08940828, -0.10457187, -0.06353772,\n",
       "        -0.09755652, -0.07862755, -0.09143396, -0.06822076, -0.05382117,\n",
       "        -0.09259626, -0.03893258, -0.10019808, -0.08966368, -0.0824654 ,\n",
       "        -0.09414712, -0.11596107, -0.09474183, -0.10345644, -0.10853869,\n",
       "        -0.07263016, -0.08389174, -0.02982253, -0.07632048, -0.08129089,\n",
       "        -0.03835258, -0.07686674, -0.07061496, -0.1048172 , -0.04980956,\n",
       "        -0.06249988, -0.10980545, -0.06779306, -0.09593482, -0.11298659,\n",
       "        -0.07927164, -0.10667694, -0.08947871, -0.02766471, -0.06293377,\n",
       "        -0.04643373, -0.09249274, -0.08495946, -0.04701163, -0.0517106 ,\n",
       "        -0.05303534, -0.06843743, -0.06628913, -0.04389173, -0.09396402,\n",
       "        -0.07796166, -0.04262573, -0.05793344, -0.04466914, -0.08894894,\n",
       "        -0.08510192, -0.09275951, -0.08541024, -0.09667723, -0.11613791,\n",
       "        -0.06660883], dtype=float32)]"
      ]
     },
     "execution_count": 42,
     "metadata": {},
     "output_type": "execute_result"
    }
   ],
   "source": [
    "model._pool_pretrained_conv=['global']\n",
    "model._load_conv_weights(nuc_model, 'keras')"
   ]
  },
  {
   "cell_type": "markdown",
   "metadata": {},
   "source": [
    "We can easliy rebuild the model passing the path to the directory of the pretrained model and the type of model, e.g. in this case it's a keras model. The other options are `numpy` if the weights and biases were saved as numpy arrays, or `chromwave` which is a pretrained ChromWave model. We are here only passing one model but you can pass several as a list of directories, and you can also pass keras and chromwave models. "
   ]
  },
  {
   "cell_type": "code",
   "execution_count": 43,
   "metadata": {},
   "outputs": [
    {
     "name": "stdout",
     "output_type": "stream",
     "text": [
      "Loading pre-trained model weights 0/1\n",
      "Pooling not specified for pretrained models. Defaulting to global max pooling pretrained models.\n",
      "Defaulting to training all pretrained layers. These layers will be called conv_i_pretrained.\n",
      "Receptive Field: 2047 \n"
     ]
    }
   ],
   "source": [
    "model =  chromwavenet.ChromWaveNet()\n",
    "model.build(r, pretrained_models = {'keras': [nuc_model]})"
   ]
  },
  {
   "cell_type": "markdown",
   "metadata": {},
   "source": [
    "# Class weights and weighted misclassifications"
   ]
  },
  {
   "cell_type": "markdown",
   "metadata": {},
   "source": [
    "Because these data are highly imbalanced with the genomic average occurring mostly, we emply weighing of the predictions depending on the frequency of the classes by default. You can see those weights for each output profile using the method `model.class_weights`. To use these classes during training, you need to set the flag `weigh_classes` to `True`. "
   ]
  },
  {
   "cell_type": "code",
   "execution_count": 44,
   "metadata": {},
   "outputs": [
    {
     "data": {
      "text/plain": [
       "[array([1., 1., 1., 1., 1., 1., 1., 1., 1., 1., 1., 1., 1., 1., 1., 1., 1.,\n",
       "        1., 1., 1., 1., 1.])]"
      ]
     },
     "execution_count": 44,
     "metadata": {},
     "output_type": "execute_result"
    }
   ],
   "source": [
    "model.class_weights"
   ]
  },
  {
   "cell_type": "code",
   "execution_count": 46,
   "metadata": {},
   "outputs": [
    {
     "name": "stdout",
     "output_type": "stream",
     "text": [
      "Receptive Field: 2047 \n",
      "Train on 6626 samples, validate on 1756 samples\n",
      "Epoch 1/100\n",
      "6626/6626 [==============================] - 44s 7ms/step - loss: 71610.7911 - categorical_accuracy: 0.0593 - categorical_mean_squared_error: 44.0962 - mean_classification_pearson_correlation: 0.2107 - val_loss: 61659.6016 - val_categorical_accuracy: 0.0842 - val_categorical_mean_squared_error: 17.4909 - val_mean_classification_pearson_correlation: 0.7184\n",
      "Epoch 2/100\n",
      "6626/6626 [==============================] - 35s 5ms/step - loss: 58281.4953 - categorical_accuracy: 0.1406 - categorical_mean_squared_error: 9.3702 - mean_classification_pearson_correlation: 0.6436 - val_loss: 53021.1587 - val_categorical_accuracy: 0.1643 - val_categorical_mean_squared_error: 7.6909 - val_mean_classification_pearson_correlation: 0.8168\n",
      "Epoch 3/100\n",
      "6626/6626 [==============================] - 35s 5ms/step - loss: 53735.0725 - categorical_accuracy: 0.1601 - categorical_mean_squared_error: 7.4038 - mean_classification_pearson_correlation: 0.7048 - val_loss: 51425.4721 - val_categorical_accuracy: 0.2100 - val_categorical_mean_squared_error: 3.8727 - val_mean_classification_pearson_correlation: 0.8117\n",
      "Epoch 4/100\n",
      "6626/6626 [==============================] - 35s 5ms/step - loss: 51555.7519 - categorical_accuracy: 0.1806 - categorical_mean_squared_error: 6.4327 - mean_classification_pearson_correlation: 0.7216 - val_loss: 52950.6329 - val_categorical_accuracy: 0.1660 - val_categorical_mean_squared_error: 4.7455 - val_mean_classification_pearson_correlation: 0.8406\n",
      "Epoch 5/100\n",
      "6626/6626 [==============================] - 35s 5ms/step - loss: 50801.5592 - categorical_accuracy: 0.1939 - categorical_mean_squared_error: 5.7885 - mean_classification_pearson_correlation: 0.7354 - val_loss: 55503.9977 - val_categorical_accuracy: 0.1268 - val_categorical_mean_squared_error: 8.6000 - val_mean_classification_pearson_correlation: 0.8491\n",
      "Epoch 6/100\n",
      "6626/6626 [==============================] - 35s 5ms/step - loss: 49884.4639 - categorical_accuracy: 0.2067 - categorical_mean_squared_error: 5.2837 - mean_classification_pearson_correlation: 0.7415 - val_loss: 53492.5010 - val_categorical_accuracy: 0.1868 - val_categorical_mean_squared_error: 6.5091 - val_mean_classification_pearson_correlation: 0.8202\n",
      "Epoch 7/100\n",
      "6626/6626 [==============================] - 35s 5ms/step - loss: 49125.6427 - categorical_accuracy: 0.2185 - categorical_mean_squared_error: 5.0481 - mean_classification_pearson_correlation: 0.7411 - val_loss: 55168.3783 - val_categorical_accuracy: 0.2057 - val_categorical_mean_squared_error: 3.8909 - val_mean_classification_pearson_correlation: 0.8401\n",
      "Epoch 8/100\n",
      "6626/6626 [==============================] - 35s 5ms/step - loss: 49080.3191 - categorical_accuracy: 0.2189 - categorical_mean_squared_error: 5.2452 - mean_classification_pearson_correlation: 0.7375 - val_loss: 49676.8562 - val_categorical_accuracy: 0.2867 - val_categorical_mean_squared_error: 2.2000 - val_mean_classification_pearson_correlation: 0.8564\n",
      "Epoch 9/100\n",
      "6626/6626 [==============================] - 35s 5ms/step - loss: 48523.1293 - categorical_accuracy: 0.2227 - categorical_mean_squared_error: 5.1635 - mean_classification_pearson_correlation: 0.7360 - val_loss: 49510.1316 - val_categorical_accuracy: 0.2571 - val_categorical_mean_squared_error: 2.8727 - val_mean_classification_pearson_correlation: 0.8621\n",
      "Epoch 10/100\n",
      "6626/6626 [==============================] - 35s 5ms/step - loss: 47880.6545 - categorical_accuracy: 0.2310 - categorical_mean_squared_error: 4.8269 - mean_classification_pearson_correlation: 0.7431 - val_loss: 49865.6743 - val_categorical_accuracy: 0.2603 - val_categorical_mean_squared_error: 3.9818 - val_mean_classification_pearson_correlation: 0.8336\n",
      "Epoch 11/100\n",
      "6626/6626 [==============================] - 35s 5ms/step - loss: 47794.6485 - categorical_accuracy: 0.2286 - categorical_mean_squared_error: 4.9663 - mean_classification_pearson_correlation: 0.7408 - val_loss: 51414.1473 - val_categorical_accuracy: 0.2211 - val_categorical_mean_squared_error: 4.7273 - val_mean_classification_pearson_correlation: 0.8196\n",
      "Epoch 12/100\n",
      "6626/6626 [==============================] - 35s 5ms/step - loss: 47241.8855 - categorical_accuracy: 0.2309 - categorical_mean_squared_error: 5.1010 - mean_classification_pearson_correlation: 0.7383 - val_loss: 52359.7906 - val_categorical_accuracy: 0.2386 - val_categorical_mean_squared_error: 3.2000 - val_mean_classification_pearson_correlation: 0.8490\n",
      "Epoch 13/100\n",
      "6626/6626 [==============================] - 35s 5ms/step - loss: 47147.7628 - categorical_accuracy: 0.2310 - categorical_mean_squared_error: 5.1058 - mean_classification_pearson_correlation: 0.7414 - val_loss: 48635.1090 - val_categorical_accuracy: 0.2836 - val_categorical_mean_squared_error: 3.1091 - val_mean_classification_pearson_correlation: 0.8420\n",
      "Epoch 14/100\n",
      "6626/6626 [==============================] - 35s 5ms/step - loss: 46564.7895 - categorical_accuracy: 0.2351 - categorical_mean_squared_error: 4.9471 - mean_classification_pearson_correlation: 0.7434 - val_loss: 49580.5364 - val_categorical_accuracy: 0.2520 - val_categorical_mean_squared_error: 3.6182 - val_mean_classification_pearson_correlation: 0.8394\n",
      "Epoch 15/100\n",
      "6626/6626 [==============================] - 35s 5ms/step - loss: 45929.1471 - categorical_accuracy: 0.2396 - categorical_mean_squared_error: 4.8317 - mean_classification_pearson_correlation: 0.7456 - val_loss: 49553.5869 - val_categorical_accuracy: 0.2329 - val_categorical_mean_squared_error: 3.7636 - val_mean_classification_pearson_correlation: 0.8499\n",
      "Epoch 16/100\n",
      "6626/6626 [==============================] - 35s 5ms/step - loss: 46043.9662 - categorical_accuracy: 0.2388 - categorical_mean_squared_error: 4.8798 - mean_classification_pearson_correlation: 0.7465 - val_loss: 50151.4316 - val_categorical_accuracy: 0.2201 - val_categorical_mean_squared_error: 4.2727 - val_mean_classification_pearson_correlation: 0.8394\n",
      "Epoch 17/100\n",
      "6626/6626 [==============================] - 35s 5ms/step - loss: 45977.5167 - categorical_accuracy: 0.2378 - categorical_mean_squared_error: 4.8654 - mean_classification_pearson_correlation: 0.7484 - val_loss: 49374.7378 - val_categorical_accuracy: 0.2646 - val_categorical_mean_squared_error: 2.8364 - val_mean_classification_pearson_correlation: 0.8539\n",
      "Epoch 18/100\n",
      "6626/6626 [==============================] - 35s 5ms/step - loss: 45479.3736 - categorical_accuracy: 0.2415 - categorical_mean_squared_error: 4.7404 - mean_classification_pearson_correlation: 0.7505 - val_loss: 49073.4111 - val_categorical_accuracy: 0.2843 - val_categorical_mean_squared_error: 3.7455 - val_mean_classification_pearson_correlation: 0.8199\n",
      "Epoch 19/100\n",
      "6626/6626 [==============================] - 35s 5ms/step - loss: 45278.5224 - categorical_accuracy: 0.2433 - categorical_mean_squared_error: 4.7404 - mean_classification_pearson_correlation: 0.7476 - val_loss: 48619.0881 - val_categorical_accuracy: 0.2617 - val_categorical_mean_squared_error: 3.8182 - val_mean_classification_pearson_correlation: 0.8386\n",
      "Epoch 20/100\n",
      "6626/6626 [==============================] - 35s 5ms/step - loss: 45037.1641 - categorical_accuracy: 0.2431 - categorical_mean_squared_error: 4.7500 - mean_classification_pearson_correlation: 0.7494 - val_loss: 53079.0060 - val_categorical_accuracy: 0.2315 - val_categorical_mean_squared_error: 3.6727 - val_mean_classification_pearson_correlation: 0.8336\n",
      "Epoch 21/100\n",
      "6626/6626 [==============================] - 35s 5ms/step - loss: 45197.6949 - categorical_accuracy: 0.2427 - categorical_mean_squared_error: 4.6875 - mean_classification_pearson_correlation: 0.7516 - val_loss: 50546.2170 - val_categorical_accuracy: 0.2760 - val_categorical_mean_squared_error: 4.2727 - val_mean_classification_pearson_correlation: 0.8088\n",
      "Epoch 22/100\n",
      "5664/6626 [========================>.....] - ETA: 4s - loss: 44564.1111 - categorical_accuracy: 0.2458 - categorical_mean_squared_error: 4.7175 - mean_classification_pearson_correlation: 0.7463"
     ]
    },
    {
     "ename": "KeyboardInterrupt",
     "evalue": "",
     "output_type": "error",
     "traceback": [
      "\u001b[0;31m---------------------------------------------------------------------------\u001b[0m",
      "\u001b[0;31mKeyboardInterrupt\u001b[0m                         Traceback (most recent call last)",
      "\u001b[0;32m<ipython-input-46-a85e7295068e>\u001b[0m in \u001b[0;36m<module>\u001b[0;34m()\u001b[0m\n\u001b[1;32m      1\u001b[0m \u001b[0mstart\u001b[0m \u001b[0;34m=\u001b[0m \u001b[0mtime\u001b[0m\u001b[0;34m.\u001b[0m\u001b[0mclock\u001b[0m\u001b[0;34m(\u001b[0m\u001b[0;34m)\u001b[0m\u001b[0;34m\u001b[0m\u001b[0m\n\u001b[1;32m      2\u001b[0m \u001b[0;31m# rebuilding the model before training  - otherwise we would just continue training the previous model\u001b[0m\u001b[0;34m\u001b[0m\u001b[0;34m\u001b[0m\u001b[0m\n\u001b[0;32m----> 3\u001b[0;31m \u001b[0mmodel\u001b[0m\u001b[0;34m.\u001b[0m\u001b[0mtrain\u001b[0m\u001b[0;34m(\u001b[0m\u001b[0mr\u001b[0m\u001b[0;34m,\u001b[0m\u001b[0mf\u001b[0m\u001b[0;34m,\u001b[0m \u001b[0mrebuild\u001b[0m\u001b[0;34m=\u001b[0m\u001b[0mTrue\u001b[0m\u001b[0;34m,\u001b[0m \u001b[0mweight_classes\u001b[0m\u001b[0;34m=\u001b[0m\u001b[0mTrue\u001b[0m\u001b[0;34m)\u001b[0m\u001b[0;34m\u001b[0m\u001b[0m\n\u001b[0m\u001b[1;32m      4\u001b[0m \u001b[0mend\u001b[0m\u001b[0;34m=\u001b[0m\u001b[0mtime\u001b[0m\u001b[0;34m.\u001b[0m\u001b[0mclock\u001b[0m\u001b[0;34m(\u001b[0m\u001b[0;34m)\u001b[0m\u001b[0;34m\u001b[0m\u001b[0m\n\u001b[1;32m      5\u001b[0m \u001b[0;32mprint\u001b[0m\u001b[0;34m(\u001b[0m\u001b[0;34m'Time: '\u001b[0m \u001b[0;34m+\u001b[0m \u001b[0mstr\u001b[0m\u001b[0;34m(\u001b[0m\u001b[0;34m(\u001b[0m\u001b[0mend\u001b[0m\u001b[0;34m-\u001b[0m\u001b[0mstart\u001b[0m\u001b[0;34m)\u001b[0m\u001b[0;34m/\u001b[0m\u001b[0;36m60.\u001b[0m\u001b[0;34m)\u001b[0m\u001b[0;34m+\u001b[0m\u001b[0;34m' mins'\u001b[0m\u001b[0;34m)\u001b[0m\u001b[0;34m\u001b[0m\u001b[0m\n",
      "\u001b[0;32m/home/cakiroa/projects/GenomeNet_UpdateMaster/chromwave/chromwavenet.pyc\u001b[0m in \u001b[0;36mtrain\u001b[0;34m(self, runtime_dataset, filesystem, pretrained_models, weight_classes, rebuild)\u001b[0m\n\u001b[1;32m    932\u001b[0m         \"\"\"\n\u001b[1;32m    933\u001b[0m \u001b[0;34m\u001b[0m\u001b[0m\n\u001b[0;32m--> 934\u001b[0;31m         \u001b[0mself\u001b[0m\u001b[0;34m.\u001b[0m\u001b[0m_run_training\u001b[0m\u001b[0;34m(\u001b[0m\u001b[0mruntime_dataset\u001b[0m\u001b[0;34m,\u001b[0m \u001b[0mfilesystem\u001b[0m\u001b[0;34m.\u001b[0m\u001b[0mget_output_directory\u001b[0m\u001b[0;34m(\u001b[0m\u001b[0;34m)\u001b[0m\u001b[0;34m,\u001b[0m\u001b[0mfilesystem\u001b[0m\u001b[0;34m.\u001b[0m\u001b[0mget_checkpoint_directory\u001b[0m\u001b[0;34m(\u001b[0m\u001b[0;34m)\u001b[0m\u001b[0;34m,\u001b[0m \u001b[0mpretrained_models\u001b[0m\u001b[0;34m=\u001b[0m\u001b[0mpretrained_models\u001b[0m\u001b[0;34m,\u001b[0m \u001b[0mweight_classes\u001b[0m\u001b[0;34m=\u001b[0m\u001b[0mweight_classes\u001b[0m \u001b[0;34m,\u001b[0m\u001b[0mrebuild\u001b[0m\u001b[0;34m=\u001b[0m\u001b[0mrebuild\u001b[0m\u001b[0;34m,\u001b[0m \u001b[0msave\u001b[0m\u001b[0;34m=\u001b[0m\u001b[0mTrue\u001b[0m \u001b[0;34m)\u001b[0m\u001b[0;34m\u001b[0m\u001b[0m\n\u001b[0m\u001b[1;32m    935\u001b[0m \u001b[0;34m\u001b[0m\u001b[0m\n\u001b[1;32m    936\u001b[0m \u001b[0;34m\u001b[0m\u001b[0m\n",
      "\u001b[0;32m/home/cakiroa/projects/GenomeNet_UpdateMaster/chromwave/chromwavenet.pyc\u001b[0m in \u001b[0;36m_run_training\u001b[0;34m(self, runtime_dataset, run_dir, checkpoint_dir, pretrained_models, weight_classes, rebuild, save)\u001b[0m\n\u001b[1;32m    888\u001b[0m                             \u001b[0mvalidation_data\u001b[0m\u001b[0;34m=\u001b[0m\u001b[0;34m(\u001b[0m\u001b[0mruntime_dataset\u001b[0m\u001b[0;34m.\u001b[0m\u001b[0mtest_x_data\u001b[0m\u001b[0;34m,\u001b[0m \u001b[0mruntime_dataset\u001b[0m\u001b[0;34m.\u001b[0m\u001b[0mtest_y_data\u001b[0m\u001b[0;34m)\u001b[0m\u001b[0;34m,\u001b[0m\u001b[0;34m\u001b[0m\u001b[0m\n\u001b[1;32m    889\u001b[0m                             \u001b[0mcallbacks\u001b[0m\u001b[0;34m=\u001b[0m\u001b[0mself\u001b[0m\u001b[0;34m.\u001b[0m\u001b[0mcallbacks\u001b[0m\u001b[0;34m,\u001b[0m\u001b[0;34m\u001b[0m\u001b[0m\n\u001b[0;32m--> 890\u001b[0;31m                             \u001b[0mverbose\u001b[0m\u001b[0;34m=\u001b[0m\u001b[0mself\u001b[0m\u001b[0;34m.\u001b[0m\u001b[0mkeras_verbose\u001b[0m\u001b[0;34m,\u001b[0m\u001b[0;34m\u001b[0m\u001b[0m\n\u001b[0m\u001b[1;32m    891\u001b[0m                             )\n\u001b[1;32m    892\u001b[0m         \u001b[0;32mprint\u001b[0m\u001b[0;34m(\u001b[0m\u001b[0;34m\"Saving model to file ... \"\u001b[0m\u001b[0;34m)\u001b[0m\u001b[0;34m\u001b[0m\u001b[0m\n",
      "\u001b[0;32m/home/cakiroa/software/miniconda/envs/rnn/lib/python2.7/site-packages/keras/engine/training.pyc\u001b[0m in \u001b[0;36mfit\u001b[0;34m(self, x, y, batch_size, epochs, verbose, callbacks, validation_split, validation_data, shuffle, class_weight, sample_weight, initial_epoch, steps_per_epoch, validation_steps, validation_freq, max_queue_size, workers, use_multiprocessing, **kwargs)\u001b[0m\n\u001b[1;32m   1237\u001b[0m                                         \u001b[0msteps_per_epoch\u001b[0m\u001b[0;34m=\u001b[0m\u001b[0msteps_per_epoch\u001b[0m\u001b[0;34m,\u001b[0m\u001b[0;34m\u001b[0m\u001b[0m\n\u001b[1;32m   1238\u001b[0m                                         \u001b[0mvalidation_steps\u001b[0m\u001b[0;34m=\u001b[0m\u001b[0mvalidation_steps\u001b[0m\u001b[0;34m,\u001b[0m\u001b[0;34m\u001b[0m\u001b[0m\n\u001b[0;32m-> 1239\u001b[0;31m                                         validation_freq=validation_freq)\n\u001b[0m\u001b[1;32m   1240\u001b[0m \u001b[0;34m\u001b[0m\u001b[0m\n\u001b[1;32m   1241\u001b[0m     def evaluate(self,\n",
      "\u001b[0;32m/home/cakiroa/software/miniconda/envs/rnn/lib/python2.7/site-packages/keras/engine/training_arrays.pyc\u001b[0m in \u001b[0;36mfit_loop\u001b[0;34m(model, fit_function, fit_inputs, out_labels, batch_size, epochs, verbose, callbacks, val_function, val_inputs, shuffle, initial_epoch, steps_per_epoch, validation_steps, validation_freq)\u001b[0m\n\u001b[1;32m    194\u001b[0m                     \u001b[0mins_batch\u001b[0m\u001b[0;34m[\u001b[0m\u001b[0mi\u001b[0m\u001b[0;34m]\u001b[0m \u001b[0;34m=\u001b[0m \u001b[0mins_batch\u001b[0m\u001b[0;34m[\u001b[0m\u001b[0mi\u001b[0m\u001b[0;34m]\u001b[0m\u001b[0;34m.\u001b[0m\u001b[0mtoarray\u001b[0m\u001b[0;34m(\u001b[0m\u001b[0;34m)\u001b[0m\u001b[0;34m\u001b[0m\u001b[0m\n\u001b[1;32m    195\u001b[0m \u001b[0;34m\u001b[0m\u001b[0m\n\u001b[0;32m--> 196\u001b[0;31m                 \u001b[0mouts\u001b[0m \u001b[0;34m=\u001b[0m \u001b[0mfit_function\u001b[0m\u001b[0;34m(\u001b[0m\u001b[0mins_batch\u001b[0m\u001b[0;34m)\u001b[0m\u001b[0;34m\u001b[0m\u001b[0m\n\u001b[0m\u001b[1;32m    197\u001b[0m                 \u001b[0mouts\u001b[0m \u001b[0;34m=\u001b[0m \u001b[0mto_list\u001b[0m\u001b[0;34m(\u001b[0m\u001b[0mouts\u001b[0m\u001b[0;34m)\u001b[0m\u001b[0;34m\u001b[0m\u001b[0m\n\u001b[1;32m    198\u001b[0m                 \u001b[0;32mfor\u001b[0m \u001b[0ml\u001b[0m\u001b[0;34m,\u001b[0m \u001b[0mo\u001b[0m \u001b[0;32min\u001b[0m \u001b[0mzip\u001b[0m\u001b[0;34m(\u001b[0m\u001b[0mout_labels\u001b[0m\u001b[0;34m,\u001b[0m \u001b[0mouts\u001b[0m\u001b[0;34m)\u001b[0m\u001b[0;34m:\u001b[0m\u001b[0;34m\u001b[0m\u001b[0m\n",
      "\u001b[0;32m/home/cakiroa/software/miniconda/envs/rnn/lib/python2.7/site-packages/tensorflow_core/python/keras/backend.pyc\u001b[0m in \u001b[0;36m__call__\u001b[0;34m(self, inputs)\u001b[0m\n\u001b[1;32m   3738\u001b[0m         \u001b[0mvalue\u001b[0m \u001b[0;34m=\u001b[0m \u001b[0mmath_ops\u001b[0m\u001b[0;34m.\u001b[0m\u001b[0mcast\u001b[0m\u001b[0;34m(\u001b[0m\u001b[0mvalue\u001b[0m\u001b[0;34m,\u001b[0m \u001b[0mtensor\u001b[0m\u001b[0;34m.\u001b[0m\u001b[0mdtype\u001b[0m\u001b[0;34m)\u001b[0m\u001b[0;34m\u001b[0m\u001b[0m\n\u001b[1;32m   3739\u001b[0m       \u001b[0mconverted_inputs\u001b[0m\u001b[0;34m.\u001b[0m\u001b[0mappend\u001b[0m\u001b[0;34m(\u001b[0m\u001b[0mvalue\u001b[0m\u001b[0;34m)\u001b[0m\u001b[0;34m\u001b[0m\u001b[0m\n\u001b[0;32m-> 3740\u001b[0;31m     \u001b[0moutputs\u001b[0m \u001b[0;34m=\u001b[0m \u001b[0mself\u001b[0m\u001b[0;34m.\u001b[0m\u001b[0m_graph_fn\u001b[0m\u001b[0;34m(\u001b[0m\u001b[0;34m*\u001b[0m\u001b[0mconverted_inputs\u001b[0m\u001b[0;34m)\u001b[0m\u001b[0;34m\u001b[0m\u001b[0m\n\u001b[0m\u001b[1;32m   3741\u001b[0m \u001b[0;34m\u001b[0m\u001b[0m\n\u001b[1;32m   3742\u001b[0m     \u001b[0;31m# EagerTensor.numpy() will often make a copy to ensure memory safety.\u001b[0m\u001b[0;34m\u001b[0m\u001b[0;34m\u001b[0m\u001b[0m\n",
      "\u001b[0;32m/home/cakiroa/software/miniconda/envs/rnn/lib/python2.7/site-packages/tensorflow_core/python/eager/function.pyc\u001b[0m in \u001b[0;36m__call__\u001b[0;34m(self, *args, **kwargs)\u001b[0m\n\u001b[1;32m   1079\u001b[0m       \u001b[0mTypeError\u001b[0m\u001b[0;34m:\u001b[0m \u001b[0mFor\u001b[0m \u001b[0minvalid\u001b[0m \u001b[0mpositional\u001b[0m\u001b[0;34m/\u001b[0m\u001b[0mkeyword\u001b[0m \u001b[0margument\u001b[0m \u001b[0mcombinations\u001b[0m\u001b[0;34m.\u001b[0m\u001b[0;34m\u001b[0m\u001b[0m\n\u001b[1;32m   1080\u001b[0m     \"\"\"\n\u001b[0;32m-> 1081\u001b[0;31m     \u001b[0;32mreturn\u001b[0m \u001b[0mself\u001b[0m\u001b[0;34m.\u001b[0m\u001b[0m_call_impl\u001b[0m\u001b[0;34m(\u001b[0m\u001b[0margs\u001b[0m\u001b[0;34m,\u001b[0m \u001b[0mkwargs\u001b[0m\u001b[0;34m)\u001b[0m\u001b[0;34m\u001b[0m\u001b[0m\n\u001b[0m\u001b[1;32m   1082\u001b[0m \u001b[0;34m\u001b[0m\u001b[0m\n\u001b[1;32m   1083\u001b[0m   \u001b[0;32mdef\u001b[0m \u001b[0m_call_impl\u001b[0m\u001b[0;34m(\u001b[0m\u001b[0mself\u001b[0m\u001b[0;34m,\u001b[0m \u001b[0margs\u001b[0m\u001b[0;34m,\u001b[0m \u001b[0mkwargs\u001b[0m\u001b[0;34m,\u001b[0m \u001b[0mcancellation_manager\u001b[0m\u001b[0;34m=\u001b[0m\u001b[0mNone\u001b[0m\u001b[0;34m)\u001b[0m\u001b[0;34m:\u001b[0m\u001b[0;34m\u001b[0m\u001b[0m\n",
      "\u001b[0;32m/home/cakiroa/software/miniconda/envs/rnn/lib/python2.7/site-packages/tensorflow_core/python/eager/function.pyc\u001b[0m in \u001b[0;36m_call_impl\u001b[0;34m(self, args, kwargs, cancellation_manager)\u001b[0m\n\u001b[1;32m   1119\u001b[0m       raise TypeError(\"Keyword arguments {} unknown. Expected {}.\".format(\n\u001b[1;32m   1120\u001b[0m           list(kwargs.keys()), list(self._arg_keywords)))\n\u001b[0;32m-> 1121\u001b[0;31m     \u001b[0;32mreturn\u001b[0m \u001b[0mself\u001b[0m\u001b[0;34m.\u001b[0m\u001b[0m_call_flat\u001b[0m\u001b[0;34m(\u001b[0m\u001b[0margs\u001b[0m\u001b[0;34m,\u001b[0m \u001b[0mself\u001b[0m\u001b[0;34m.\u001b[0m\u001b[0mcaptured_inputs\u001b[0m\u001b[0;34m,\u001b[0m \u001b[0mcancellation_manager\u001b[0m\u001b[0;34m)\u001b[0m\u001b[0;34m\u001b[0m\u001b[0m\n\u001b[0m\u001b[1;32m   1122\u001b[0m \u001b[0;34m\u001b[0m\u001b[0m\n\u001b[1;32m   1123\u001b[0m   \u001b[0;32mdef\u001b[0m \u001b[0m_filtered_call\u001b[0m\u001b[0;34m(\u001b[0m\u001b[0mself\u001b[0m\u001b[0;34m,\u001b[0m \u001b[0margs\u001b[0m\u001b[0;34m,\u001b[0m \u001b[0mkwargs\u001b[0m\u001b[0;34m)\u001b[0m\u001b[0;34m:\u001b[0m\u001b[0;34m\u001b[0m\u001b[0m\n",
      "\u001b[0;32m/home/cakiroa/software/miniconda/envs/rnn/lib/python2.7/site-packages/tensorflow_core/python/eager/function.pyc\u001b[0m in \u001b[0;36m_call_flat\u001b[0;34m(self, args, captured_inputs, cancellation_manager)\u001b[0m\n\u001b[1;32m   1222\u001b[0m     \u001b[0;32mif\u001b[0m \u001b[0mexecuting_eagerly\u001b[0m\u001b[0;34m:\u001b[0m\u001b[0;34m\u001b[0m\u001b[0m\n\u001b[1;32m   1223\u001b[0m       flat_outputs = forward_function.call(\n\u001b[0;32m-> 1224\u001b[0;31m           ctx, args, cancellation_manager=cancellation_manager)\n\u001b[0m\u001b[1;32m   1225\u001b[0m     \u001b[0;32melse\u001b[0m\u001b[0;34m:\u001b[0m\u001b[0;34m\u001b[0m\u001b[0m\n\u001b[1;32m   1226\u001b[0m       \u001b[0mgradient_name\u001b[0m \u001b[0;34m=\u001b[0m \u001b[0mself\u001b[0m\u001b[0;34m.\u001b[0m\u001b[0m_delayed_rewrite_functions\u001b[0m\u001b[0;34m.\u001b[0m\u001b[0mregister\u001b[0m\u001b[0;34m(\u001b[0m\u001b[0;34m)\u001b[0m\u001b[0;34m\u001b[0m\u001b[0m\n",
      "\u001b[0;32m/home/cakiroa/software/miniconda/envs/rnn/lib/python2.7/site-packages/tensorflow_core/python/eager/function.pyc\u001b[0m in \u001b[0;36mcall\u001b[0;34m(self, ctx, args, cancellation_manager)\u001b[0m\n\u001b[1;32m    509\u001b[0m               \u001b[0minputs\u001b[0m\u001b[0;34m=\u001b[0m\u001b[0margs\u001b[0m\u001b[0;34m,\u001b[0m\u001b[0;34m\u001b[0m\u001b[0m\n\u001b[1;32m    510\u001b[0m               \u001b[0mattrs\u001b[0m\u001b[0;34m=\u001b[0m\u001b[0;34m(\u001b[0m\u001b[0;34m\"executor_type\"\u001b[0m\u001b[0;34m,\u001b[0m \u001b[0mexecutor_type\u001b[0m\u001b[0;34m,\u001b[0m \u001b[0;34m\"config_proto\"\u001b[0m\u001b[0;34m,\u001b[0m \u001b[0mconfig\u001b[0m\u001b[0;34m)\u001b[0m\u001b[0;34m,\u001b[0m\u001b[0;34m\u001b[0m\u001b[0m\n\u001b[0;32m--> 511\u001b[0;31m               ctx=ctx)\n\u001b[0m\u001b[1;32m    512\u001b[0m         \u001b[0;32melse\u001b[0m\u001b[0;34m:\u001b[0m\u001b[0;34m\u001b[0m\u001b[0m\n\u001b[1;32m    513\u001b[0m           outputs = execute.execute_with_cancellation(\n",
      "\u001b[0;32m/home/cakiroa/software/miniconda/envs/rnn/lib/python2.7/site-packages/tensorflow_core/python/eager/execute.pyc\u001b[0m in \u001b[0;36mquick_execute\u001b[0;34m(op_name, num_outputs, inputs, attrs, ctx, name)\u001b[0m\n\u001b[1;32m     59\u001b[0m     tensors = pywrap_tensorflow.TFE_Py_Execute(ctx._handle, device_name,\n\u001b[1;32m     60\u001b[0m                                                \u001b[0mop_name\u001b[0m\u001b[0;34m,\u001b[0m \u001b[0minputs\u001b[0m\u001b[0;34m,\u001b[0m \u001b[0mattrs\u001b[0m\u001b[0;34m,\u001b[0m\u001b[0;34m\u001b[0m\u001b[0m\n\u001b[0;32m---> 61\u001b[0;31m                                                num_outputs)\n\u001b[0m\u001b[1;32m     62\u001b[0m   \u001b[0;32mexcept\u001b[0m \u001b[0mcore\u001b[0m\u001b[0;34m.\u001b[0m\u001b[0m_NotOkStatusException\u001b[0m \u001b[0;32mas\u001b[0m \u001b[0me\u001b[0m\u001b[0;34m:\u001b[0m\u001b[0;34m\u001b[0m\u001b[0m\n\u001b[1;32m     63\u001b[0m     \u001b[0;32mif\u001b[0m \u001b[0mname\u001b[0m \u001b[0;32mis\u001b[0m \u001b[0;32mnot\u001b[0m \u001b[0mNone\u001b[0m\u001b[0;34m:\u001b[0m\u001b[0;34m\u001b[0m\u001b[0m\n",
      "\u001b[0;31mKeyboardInterrupt\u001b[0m: "
     ]
    }
   ],
   "source": [
    "model.max_epochs=10\n",
    "start = time.clock()\n",
    "# rebuilding the model before training  - otherwise we would just continue training the previous model\n",
    "model.train(r,f, rebuild=True, weight_classes=True)\n",
    "end=time.clock()\n",
    "print('Time: ' + str((end-start)/60.)+' mins')"
   ]
  },
  {
   "cell_type": "markdown",
   "metadata": {},
   "source": [
    "In addition to the weighing of the predictions depending on the frequency of the classes, you can also weight the predictions so that incorrectly predicted higher classes have a higher influcence on the loss function than misclassification around the genomic mean. You need to pass an array with the desired weights to `model.penalties` and also set the flat `model.penalise_miscalssification` to `True`:"
   ]
  },
  {
   "cell_type": "code",
   "execution_count": null,
   "metadata": {},
   "outputs": [],
   "source": [
    "w_array = numpy.ones((r._output_bins[0], r._output_bins[0]))\n",
    "z = int(numpy.ceil(r._output_bins[0] / 2.))\n",
    "w_array[:z, -z:] = numpy.logspace(1, 1.2, num=z)\n",
    "w_array[-z:, :z] = numpy.logspace(1.2, 1, num=z)\n",
    "model.penalties = [w_array]\n",
    "model.penalise_misclassification = True"
   ]
  },
  {
   "cell_type": "code",
   "execution_count": null,
   "metadata": {},
   "outputs": [],
   "source": [
    "model.keras_verbose = 0# turning off some verbose during training\n",
    "start = time.clock()\n",
    "# \n",
    "model.train(r,f, pretrained_models = {'keras': [nuc_model]},rebuild=True, weight_classes=True)\n",
    "end=time.clock()\n",
    "print('Time: ' + str((end-start)/60.)+' mins')"
   ]
  }
 ],
 "metadata": {
  "kernelspec": {
   "display_name": "Python 2",
   "language": "python",
   "name": "python2"
  },
  "language_info": {
   "codemirror_mode": {
    "name": "ipython",
    "version": 2
   },
   "file_extension": ".py",
   "mimetype": "text/x-python",
   "name": "python",
   "nbconvert_exporter": "python",
   "pygments_lexer": "ipython2",
   "version": "2.7.13"
  }
 },
 "nbformat": 4,
 "nbformat_minor": 2
}
