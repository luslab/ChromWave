{
 "cells": [
  {
   "cell_type": "markdown",
   "metadata": {},
   "source": [
    "# ChromWave Tutorial"
   ]
  },
  {
   "cell_type": "markdown",
   "metadata": {},
   "source": [
    "c\n",
    "This notebook is a quick introduction how to train a ChromWave model. As a toy example we will load the nucleosome data from `Kaplan et al 2009`. We further introduce other basic functionalities of the ChromWave object such as saving and loading. "
   ]
  },
  {
   "cell_type": "code",
   "execution_count": 1,
   "metadata": {
    "pycharm": {
     "is_executing": false
    }
   },
   "outputs": [
    {
     "name": "stderr",
     "output_type": "stream",
     "text": [
      "Using TensorFlow backend.\n"
     ]
    }
   ],
   "source": [
    "import matplotlib\n",
    "from matplotlib import pyplot as plt\n",
    "import os\n",
    "import numpy\n",
    "import pandas\n",
    "from chromwave import runtime_dataset, filesystem, chromwavenet"
   ]
  },
  {
   "cell_type": "code",
   "execution_count": 2,
   "metadata": {},
   "outputs": [],
   "source": [
    "os.environ[\"CUDA_DEVICE_ORDER\"]=\"PCI_BUS_ID\"   # using only one gpu\n",
    "os.environ[\"CUDA_VISIBLE_DEVICES\"]=\"1\""
   ]
  },
  {
   "cell_type": "markdown",
   "metadata": {},
   "source": [
    "## Setting up the directories\n",
    "\n",
    "You'll need the data in the repository, please make sure you've cloned it and the working directoy points to it."
   ]
  },
  {
   "cell_type": "code",
   "execution_count": 3,
   "metadata": {
    "pycharm": {
     "is_executing": false
    }
   },
   "outputs": [],
   "source": [
    "# working directory should be ChromWave/scripts/Tutorials_Workflows. if not change project dir to be the directory \n",
    "# containing the code for ChromWave\n",
    "project_dir = os.path.abspath(os.path.join(os.getcwd(),'../../../'))\n",
    "working_dir = os.path.join(project_dir, 'ChromWave')\n",
    "\n",
    "output_dir = os.path.join(project_dir,'Test')"
   ]
  },
  {
   "cell_type": "code",
   "execution_count": 4,
   "metadata": {
    "pycharm": {
     "is_executing": false
    }
   },
   "outputs": [],
   "source": [
    "data_dir = os.path.join(working_dir, 'data')\n",
    "model_dir = os.path.join(working_dir, 'models')\n",
    "\n",
    "nuc_profile_inVivo = os.path.join(data_dir,'kaplan2009','Occupancy_inVivo_sacCer1.csv')\n",
    "nuc_profile_inVitro = os.path.join(data_dir,'kaplan2009','Occupancy_inVitro_sacCer1.csv')\n",
    "\n",
    "\n",
    "inVitro_nuc_model_dir = os.path.join(model_dir,'nucleosomes/sacCer1_inVitro')\n",
    "inVivo_nuc_model_dir = os.path.join(model_dir,'nucleosomes/sacCer1_inVivo')"
   ]
  },
  {
   "cell_type": "markdown",
   "metadata": {},
   "source": [
    "We first set up the FileSystem, passing the location of the genome fa files, the output directory and nucleosome profiles of the in vitro profiles of the Kaplan et al 2009 data. If the output folder was already created we will overwrite as this instance. We have no test data to pass and we split the dataset into 20% test and 10% validation data (and 80% training data). \n",
    "\n",
    "We then load the data as a RuntimeDataset object with the underlying FileSystem. The sequences in the training, test and validation data will be shuffled but for testing purposes we use a fixed seed. We include the reverse complements of each sequence and remove sequences if a third of the region has a flat signal. The class weight cap denotes the max at which the class weights (computed as median/frequency per class) are capped to avoid extremely high weights for rarely occuring classes. "
   ]
  },
  {
   "cell_type": "code",
   "execution_count": 5,
   "metadata": {
    "pycharm": {
     "is_executing": false
    }
   },
   "outputs": [
    {
     "name": "stdout",
     "output_type": "stream",
     "text": [
      "Evaluation and validation data will be generated from the training data with a fractional weighting of: 0.1 and 0.2\n",
      "Loading genomic data... \n",
      "Mitochondrial chromosome will be kept as separate data...\n",
      "using pre-processing params:\n",
      "{'times_median_coverage_max': 3, 'discretize_function': 'float_to_int', 'assign_non_covered_bases': None, 'u': 2.5, 'smooth_signal': True, 'sigma': 5, 'truncate': 3, 'smoothing_function': 'gaussian_filter1d', 'x_thresh': 0, 'run_thresh': 50, 'normalise_read_counts': None}\n",
      "I am assuming that the columns in the provided csv file are: seqname, start, score. If this is not the case, abort and change the input format!\n",
      "Binding profiles were binned into [22] bins.\n",
      "Beginning training data load\n",
      "Removing 1128 fragments that have have too many constant values in all of the provided profiles.\n",
      "Subsetting training data with test proportion: 0.1 and validation proportion 0.2\n",
      "Adding reverse complement of genomic sequences and binding profiles for training, test and validation data... \n"
     ]
    }
   ],
   "source": [
    "f = filesystem.FileSystem(os.path.join(data_dir,'genomes/sacCer1'), os.path.join(output_dir,'Saliency'), \n",
    "                          source_profile=nuc_profile_inVitro, overwrite=True, test_fraction=0.1, \n",
    "                          val_fraction=0.2, resume=False)\n",
    "r = runtime_dataset.RuntimeDataset(f)\n",
    "r._set_seed = 32\n",
    "r._shuffle_sequences = True\n",
    "r._include_rc = True\n",
    "r.class_weight_cap = [40]\n",
    "r._remove_unmapped_training_regions = [0.3]\n",
    "r.data_format = 'processed_counts'\n",
    "\n",
    "nuc_preprocessing_params = {'times_median_coverage_max': 3, 'discretize_function': 'float_to_int',\n",
    "                            'assign_non_covered_bases': None, 'u': 2.5, 'smooth_signal': True, 'sigma': 5,\n",
    "                            'truncate': 3, 'smoothing_function': 'gaussian_filter1d', 'x_thresh': 0,\n",
    "                            'run_thresh': 50, 'normalise_read_counts': None}\n",
    "\n",
    "r.preprocessing_params = [nuc_preprocessing_params]\n",
    "r.step_size = 2000\n",
    "r.save_data = False\n",
    "r.load_existing_data = False\n",
    "r.load_data()\n"
   ]
  },
  {
   "cell_type": "markdown",
   "metadata": {},
   "source": [
    "# Model set-up"
   ]
  },
  {
   "cell_type": "markdown",
   "metadata": {},
   "source": [
    "We choose some parameters first, but there are some more that can be chosen. You can see all parameters that can be set and their defaults with the `__dict__` function. "
   ]
  },
  {
   "cell_type": "code",
   "execution_count": 6,
   "metadata": {
    "pycharm": {
     "is_executing": false
    }
   },
   "outputs": [
    {
     "data": {
      "text/plain": [
       "{'n_channels': 4,\n",
       " 'n_output_features': 1,\n",
       " 'n_output_bins': [1],\n",
       " 'kernel_lengths': [24],\n",
       " 'pool_sizes': [],\n",
       " 'conv_n_filters': [60],\n",
       " '_pretrained_models': [],\n",
       " '_pretrained_kernel_lengths': [],\n",
       " '_pretrained_conv_n_filters': [],\n",
       " '_pool_pretrained_conv': None,\n",
       " '_train_pretrained_conv': None,\n",
       " 'inject_pwm_dir': None,\n",
       " 'inject_pwm_selection': None,\n",
       " 'inject_pwm_include_rc': False,\n",
       " 'n_stacks': 2,\n",
       " 'dilation_depth': 9,\n",
       " 'dilation_kernel_size': 2,\n",
       " 'use_skip_connections': False,\n",
       " 'learn_all_outputs': True,\n",
       " 'train_with_soft_target_stdev': False,\n",
       " 'train_only_in_receptive_field': False,\n",
       " 'use_bias': False,\n",
       " 'momentum': 0.9,\n",
       " 'learning_rate': 0.001,\n",
       " 'weight_decay': 0.0,\n",
       " 'nesterov': True,\n",
       " 'optimizer': 'adam',\n",
       " 'epsilon': 0.001,\n",
       " 'amsgrad': False,\n",
       " 'dropout': 0.3,\n",
       " 'res_dropout': 0.1,\n",
       " 'res_l2': 0.0,\n",
       " 'final_l2': 0.0,\n",
       " 'minimum_batch_size': 32,\n",
       " 'max_epochs': 100,\n",
       " 'early_stopping_patience_fraction': 3,\n",
       " 'early_stopping': True,\n",
       " 'reduceLR_rate': 0.1,\n",
       " 'batch_normalization': False,\n",
       " 'keras_verbose': 1,\n",
       " 'class_weights': None,\n",
       " 'penalise_misclassification': False,\n",
       " 'penalties': [None],\n",
       " '_neural_network': None}"
      ]
     },
     "execution_count": 6,
     "metadata": {},
     "output_type": "execute_result"
    }
   ],
   "source": [
    "model = chromwavenet.ChromWaveNet()\n",
    "model.__dict__"
   ]
  },
  {
   "cell_type": "markdown",
   "metadata": {},
   "source": [
    "To see all available methods with a short description you can call the `get_methods()` function:"
   ]
  },
  {
   "cell_type": "code",
   "execution_count": 7,
   "metadata": {
    "pycharm": {
     "is_executing": false
    }
   },
   "outputs": [
    {
     "name": "stdout",
     "output_type": "stream",
     "text": [
      "__class__            Object that wraps Keras Wavenet style neural network objects, allowing the tuning of\n",
      "__delattr__          Implement delattr(self, name).\n",
      "__dir__              Default dir() implementation.\n",
      "__eq__               Return self==value.\n",
      "__format__           Default object formatter.\n",
      "__ge__               Return self>=value.\n",
      "__getattribute__     Return getattr(self, name).\n",
      "__gt__               Return self>value.\n",
      "__hash__             Return hash(self).\n",
      "__init__             None\n",
      "__init_subclass__    This method is called when a class is subclassed. The default implementation does nothing\n",
      "__le__               Return self<=value.\n",
      "__lt__               Return self<value.\n",
      "__ne__               Return self!=value.\n",
      "__new__              Create and return a new object. See help(type) for accurate signature.\n",
      "__reduce__           Helper for pickle.\n",
      "__reduce_ex__        Helper for pickle.\n",
      "__repr__             Return repr(self).\n",
      "__setattr__          Implement setattr(self, name, value).\n",
      "__sizeof__           Size of object in memory, in bytes.\n",
      "__str__              Return str(self).\n",
      "__subclasshook__     Abstract classes can override this to customize issubclass(). This is invoked early on by\n",
      "_build               This builds the keras ChromWaveNet model, and subsequently 1. loads a\n",
      "_compute_PFM_motif_detectors Computes the motif detector position frequency matrices as in Alipanahi et al 201\n",
      "_load_conv_weights   Loads weights of pretrained convolutional layers. :param model_path: str\n",
      "_plot_confusion_matrices Saves plot of confusion matric to file :param cm: numpy array holding the\n",
      "_plot_training_history Plots and item in self.training_history.history. :param key: string. Wha\n",
      "_run_training        Builds keras model if rebuild is True or if model does not exist yet. Extends cal\n",
      "_save_chr_prediction Computes and saves prediction along a whole chromosome :param runtime_dat\n",
      "_smooth_discrete_data smoothes a discretised numpy array :param y: discrete numpy array\n",
      "build                Sets main parameters such as self.n_channels, self.n_output_features,.. using run\n",
      "build_model          This builds the keras ChromWaveNet model, the first convolutional layers taking\n",
      "change_input_length  To be able to make predictions along sequences of different length than the input\n",
      "compute_confusion_matrices Computes the confusion matrices between the true and observed output classes.\n",
      "compute_saliency     Computes the saliency map for the sequence data and returns the results as a list\n",
      "deserialize          This function loads a genomic neural network from disk. Note the behaviou\n",
      "deserialize_json     This function loads the basic NN parameters from disk, but not fitted parameters.\n",
      "get_methods          None\n",
      "get_underlying_neural_network Returns the keras model. :return:\n",
      "in_silico_mutagenesis Computes the in silico mutagenesis scores for the sequence data and returns the r\n",
      "inject_pwm           Injects position weight matrices into the convolutional layer 'conv_0' centered a\n",
      "invert_discretizing  Inverts the discretization of a discretised array using smoothing. Param\n",
      "layer_names          Gets the layer names of the underlying Keras model. :return: A list of la\n",
      "load_keras_config    :param source_path: :param id: :param custom_object_dict:\n",
      "load_model           :param source_path: :param id: :param custom_object_dict:\n",
      "load_weights_from    :param source_path: :param id: :return: :return:\n",
      "make_loss_function   Makes a bespoke loss function that can use both the penalties and class weights t\n",
      "plot_all_training_history Plots all available diagnostic plots: loss and metrics vs training epochs, distr\n",
      "plot_confusion_matrices Computes and plots confusion matrices for the selected dataset. :param ru\n",
      "plot_model           Uses keras functionality to plot the model architecture to file 'model.png'\n",
      "plot_motif_detectors Calls an R script to visualise the computed motif detectors as seqLogo plots.\n",
      "plot_predicted_class_distributions Plots distribution of predicted and observed classes :param predictions:\n",
      "plot_profile_predictions Saves the prediction profiles of the best and worst sequences measured by Pearson\n",
      "plot_training_history Plots the different metrics (accuracy, Pearson correlation) and loss vs training\n",
      "predict              Makes raw predictions for the provided input data. :param x_data: one-ho\n",
      "predict_smooth       Returns smooth prediction profiles for each output profile for provided input dat\n",
      "save_chr_predictions Saves prediction along a whole chromosome :param runtime_dataset: Runtime\n",
      "save_keras_config    :param output_filepath: :param id: :return:\n",
      "save_model           :param output_path: :param id: :return:\n",
      "save_weights_to      :param output_path: :param id: :return:\n",
      "serialize_json       Serialize the basic neural net parameters to file. It will not serialize fitted p\n",
      "summary              :return:\n",
      "train                This trains the keras ChromWaveNet model and subsequently prints out the scores o\n",
      "validate             Validates correctness of the passed parameters Parameters used -\n"
     ]
    }
   ],
   "source": [
    "model.get_methods()"
   ]
  },
  {
   "cell_type": "markdown",
   "metadata": {},
   "source": [
    "We first select some values for learning rage, l2 regularisation (in both residual block and final layers).  "
   ]
  },
  {
   "cell_type": "code",
   "execution_count": 8,
   "metadata": {
    "pycharm": {
     "is_executing": false
    }
   },
   "outputs": [],
   "source": [
    "model.learning_rate = 0.002\n",
    "model.dropout = 0.2\n",
    "model.res_l2 = 0.01\n",
    "model.final_l2 = 0.05"
   ]
  },
  {
   "cell_type": "markdown",
   "metadata": {},
   "source": [
    "We want to train a simple model fist, so we are turning off early stopping and reducing the learning rate when the loss function plateaus. We do turn on batch normalisation and skip connections as they greatly improve the training. "
   ]
  },
  {
   "cell_type": "code",
   "execution_count": 9,
   "metadata": {
    "pycharm": {
     "is_executing": false
    }
   },
   "outputs": [],
   "source": [
    "model.early_stopping=False\n",
    "model.reduceLR_rate=None\n",
    "model.batch_normalization=True\n",
    "model.use_skip_connections = True"
   ]
  },
  {
   "cell_type": "markdown",
   "metadata": {},
   "source": [
    "We can now choose the number of epochs we would like to train for and then train the model with the RuntimeDataset and FileSystem objects r and f. Using the train function of the ChromWave object prints out the measures on the training, test and validation set (loss, class accuracy, mean squared error, and Pearson correlation). "
   ]
  },
  {
   "cell_type": "markdown",
   "metadata": {},
   "source": [
    "After training, some plots to investigate the quality of the training (history, distribution of class predictions, best and worst predicted sequences in training, test and validation set) and confusion matrices for all data sets are plotted. Predictions for all chromosomes are saved as numpy arrays and motif detectors are computed and saved as csv files. All these results are automatically stored in the directory `wavenet_output` in the output directory. "
   ]
  },
  {
   "cell_type": "code",
   "execution_count": 10,
   "metadata": {
    "pycharm": {
     "is_executing": false
    }
   },
   "outputs": [
    {
     "name": "stdout",
     "output_type": "stream",
     "text": [
      "Receptive Field: 2047 \n",
      "Train on 6626 samples, validate on 1756 samples\n",
      "Epoch 1/2\n",
      "6626/6626 [==============================] - 56s 8ms/step - loss: 138044.4276 - categorical_accuracy: 0.2372 - categorical_mean_squared_error: 7.3413 - mean_classification_pearson_correlation: 0.6484 - val_loss: 158200.6532 - val_categorical_accuracy: 0.1245 - val_categorical_mean_squared_error: 4.9455 - val_mean_classification_pearson_correlation: 0.8688\n",
      "Epoch 2/2\n",
      "6626/6626 [==============================] - 41s 6ms/step - loss: 117406.7652 - categorical_accuracy: 0.2919 - categorical_mean_squared_error: 2.5096 - mean_classification_pearson_correlation: 0.7854 - val_loss: 127834.7322 - val_categorical_accuracy: 0.2082 - val_categorical_mean_squared_error: 2.7273 - val_mean_classification_pearson_correlation: 0.8865\n",
      "Saving model to file ... \n",
      "Performance of model on trainings data: \n",
      "6626/6626 [==============================] - 11s 2ms/step\n",
      "[133494.37369094053, 0.2074836939573288, 3.394230842590332, 0.8135400414466858]\n",
      "Performance of model on test data: \n",
      "1114/1114 [==============================] - 2s 2ms/step\n",
      "[138625.650611535, 0.19667774438858032, 3.5714285373687744, 0.8098185658454895]\n",
      "Performance of model on validation data: \n",
      "1756/1756 [==============================] - 3s 2ms/step\n",
      "[127834.73223946469, 0.2081936150789261, 2.7272727489471436, 0.886470377445221]\n",
      "Plotting training history...\n",
      "Plotting distribution of class predictions, confusion matrices, and  best/worst predictions profiles...\n",
      "Plotting the confusion matrix for training set.....\n",
      "Normalized confusion matrix\n",
      "Plotting the confusion matrix for test set.....\n",
      "Normalized confusion matrix\n",
      "Plotting the confusion matrix for validation set.....\n",
      "Normalized confusion matrix\n",
      "Computing motif detectors ...\n",
      "Computing the PFMs of the motif detectors\n",
      "Saving all chr predictions... \n",
      "Receptive Field: 2047 \n",
      "plotting the predictions for all chromosomes\n",
      "Receptive Field: 2047 \n",
      "Time: 3.598101766904195 mins\n"
     ]
    }
   ],
   "source": [
    "model.max_epochs = 2\n",
    "import time \n",
    "start = time.time()\n",
    "model.train(r,f)\n",
    "end=time.time()\n",
    "print('Time: ' + str((end-start)/60.)+' mins')"
   ]
  },
  {
   "cell_type": "markdown",
   "metadata": {},
   "source": [
    "# Basic ChromWave methods "
   ]
  },
  {
   "cell_type": "markdown",
   "metadata": {},
   "source": [
    "ChromWaveNet is a wrapper around keras models. The keras model can be accessed through `ChromWaveNet.get_underlying_neural_network()` and is held in `ChromWaveNet._neural_network`. Any Keras functions of models will work. "
   ]
  },
  {
   "cell_type": "code",
   "execution_count": 11,
   "metadata": {
    "pycharm": {
     "is_executing": false
    }
   },
   "outputs": [
    {
     "data": {
      "text/plain": [
       "<keras.engine.training.Model at 0x7fc9b80dc750>"
      ]
     },
     "execution_count": 11,
     "metadata": {},
     "output_type": "execute_result"
    }
   ],
   "source": [
    "model.get_underlying_neural_network()"
   ]
  },
  {
   "cell_type": "code",
   "execution_count": 12,
   "metadata": {
    "pycharm": {
     "is_executing": false
    }
   },
   "outputs": [
    {
     "name": "stdout",
     "output_type": "stream",
     "text": [
      "Model: \"model_3\"\n",
      "__________________________________________________________________________________________________\n",
      "Layer (type)                    Output Shape         Param #     Connected to                     \n",
      "==================================================================================================\n",
      "input_part (InputLayer)         (None, 2000, 4)      0                                            \n",
      "__________________________________________________________________________________________________\n",
      "conv_0 (Conv1D)                 (None, 2000, 60)     5820        input_part[0][0]                 \n",
      "__________________________________________________________________________________________________\n",
      "batch_normalization_7 (BatchNor (None, 2000, 60)     240         conv_0[0][0]                     \n",
      "__________________________________________________________________________________________________\n",
      "activation_7 (Activation)       (None, 2000, 60)     0           batch_normalization_7[0][0]      \n",
      "__________________________________________________________________________________________________\n",
      "dilated_conv_1_tanh_s0 (Conv1D) (None, 2000, 60)     7200        activation_7[0][0]               \n",
      "__________________________________________________________________________________________________\n",
      "dilated_conv_1_sigm_s0 (Conv1D) (None, 2000, 60)     7200        activation_7[0][0]               \n",
      "__________________________________________________________________________________________________\n",
      "gated_activation_0_s0 (Multiply (None, 2000, 60)     0           dilated_conv_1_tanh_s0[0][0]     \n",
      "                                                                 dilated_conv_1_sigm_s0[0][0]     \n",
      "__________________________________________________________________________________________________\n",
      "conv1d_85 (Conv1D)              (None, 2000, 60)     3600        gated_activation_0_s0[0][0]      \n",
      "__________________________________________________________________________________________________\n",
      "add_43 (Add)                    (None, 2000, 60)     0           activation_7[0][0]               \n",
      "                                                                 conv1d_85[0][0]                  \n",
      "__________________________________________________________________________________________________\n",
      "dropout_43 (Dropout)            (None, 2000, 60)     0           add_43[0][0]                     \n",
      "__________________________________________________________________________________________________\n",
      "dilated_conv_2_tanh_s0 (Conv1D) (None, 2000, 60)     7200        dropout_43[0][0]                 \n",
      "__________________________________________________________________________________________________\n",
      "dilated_conv_2_sigm_s0 (Conv1D) (None, 2000, 60)     7200        dropout_43[0][0]                 \n",
      "__________________________________________________________________________________________________\n",
      "gated_activation_1_s0 (Multiply (None, 2000, 60)     0           dilated_conv_2_tanh_s0[0][0]     \n",
      "                                                                 dilated_conv_2_sigm_s0[0][0]     \n",
      "__________________________________________________________________________________________________\n",
      "conv1d_87 (Conv1D)              (None, 2000, 60)     3600        gated_activation_1_s0[0][0]      \n",
      "__________________________________________________________________________________________________\n",
      "add_44 (Add)                    (None, 2000, 60)     0           dropout_43[0][0]                 \n",
      "                                                                 conv1d_87[0][0]                  \n",
      "__________________________________________________________________________________________________\n",
      "dropout_44 (Dropout)            (None, 2000, 60)     0           add_44[0][0]                     \n",
      "__________________________________________________________________________________________________\n",
      "dilated_conv_4_tanh_s0 (Conv1D) (None, 2000, 60)     7200        dropout_44[0][0]                 \n",
      "__________________________________________________________________________________________________\n",
      "dilated_conv_4_sigm_s0 (Conv1D) (None, 2000, 60)     7200        dropout_44[0][0]                 \n",
      "__________________________________________________________________________________________________\n",
      "gated_activation_2_s0 (Multiply (None, 2000, 60)     0           dilated_conv_4_tanh_s0[0][0]     \n",
      "                                                                 dilated_conv_4_sigm_s0[0][0]     \n",
      "__________________________________________________________________________________________________\n",
      "conv1d_89 (Conv1D)              (None, 2000, 60)     3600        gated_activation_2_s0[0][0]      \n",
      "__________________________________________________________________________________________________\n",
      "add_45 (Add)                    (None, 2000, 60)     0           dropout_44[0][0]                 \n",
      "                                                                 conv1d_89[0][0]                  \n",
      "__________________________________________________________________________________________________\n",
      "dropout_45 (Dropout)            (None, 2000, 60)     0           add_45[0][0]                     \n",
      "__________________________________________________________________________________________________\n",
      "dilated_conv_8_tanh_s0 (Conv1D) (None, 2000, 60)     7200        dropout_45[0][0]                 \n",
      "__________________________________________________________________________________________________\n",
      "dilated_conv_8_sigm_s0 (Conv1D) (None, 2000, 60)     7200        dropout_45[0][0]                 \n",
      "__________________________________________________________________________________________________\n",
      "gated_activation_3_s0 (Multiply (None, 2000, 60)     0           dilated_conv_8_tanh_s0[0][0]     \n",
      "                                                                 dilated_conv_8_sigm_s0[0][0]     \n",
      "__________________________________________________________________________________________________\n",
      "conv1d_91 (Conv1D)              (None, 2000, 60)     3600        gated_activation_3_s0[0][0]      \n",
      "__________________________________________________________________________________________________\n",
      "add_46 (Add)                    (None, 2000, 60)     0           dropout_45[0][0]                 \n",
      "                                                                 conv1d_91[0][0]                  \n",
      "__________________________________________________________________________________________________\n",
      "dropout_46 (Dropout)            (None, 2000, 60)     0           add_46[0][0]                     \n",
      "__________________________________________________________________________________________________\n",
      "dilated_conv_16_tanh_s0 (Conv1D (None, 2000, 60)     7200        dropout_46[0][0]                 \n",
      "__________________________________________________________________________________________________\n",
      "dilated_conv_16_sigm_s0 (Conv1D (None, 2000, 60)     7200        dropout_46[0][0]                 \n",
      "__________________________________________________________________________________________________\n",
      "gated_activation_4_s0 (Multiply (None, 2000, 60)     0           dilated_conv_16_tanh_s0[0][0]    \n",
      "                                                                 dilated_conv_16_sigm_s0[0][0]    \n",
      "__________________________________________________________________________________________________\n",
      "conv1d_93 (Conv1D)              (None, 2000, 60)     3600        gated_activation_4_s0[0][0]      \n",
      "__________________________________________________________________________________________________\n",
      "add_47 (Add)                    (None, 2000, 60)     0           dropout_46[0][0]                 \n",
      "                                                                 conv1d_93[0][0]                  \n",
      "__________________________________________________________________________________________________\n",
      "dropout_47 (Dropout)            (None, 2000, 60)     0           add_47[0][0]                     \n",
      "__________________________________________________________________________________________________\n",
      "dilated_conv_32_tanh_s0 (Conv1D (None, 2000, 60)     7200        dropout_47[0][0]                 \n",
      "__________________________________________________________________________________________________\n",
      "dilated_conv_32_sigm_s0 (Conv1D (None, 2000, 60)     7200        dropout_47[0][0]                 \n",
      "__________________________________________________________________________________________________\n",
      "gated_activation_5_s0 (Multiply (None, 2000, 60)     0           dilated_conv_32_tanh_s0[0][0]    \n",
      "                                                                 dilated_conv_32_sigm_s0[0][0]    \n",
      "__________________________________________________________________________________________________\n",
      "conv1d_95 (Conv1D)              (None, 2000, 60)     3600        gated_activation_5_s0[0][0]      \n",
      "__________________________________________________________________________________________________\n",
      "add_48 (Add)                    (None, 2000, 60)     0           dropout_47[0][0]                 \n",
      "                                                                 conv1d_95[0][0]                  \n",
      "__________________________________________________________________________________________________\n",
      "dropout_48 (Dropout)            (None, 2000, 60)     0           add_48[0][0]                     \n",
      "__________________________________________________________________________________________________\n",
      "dilated_conv_64_tanh_s0 (Conv1D (None, 2000, 60)     7200        dropout_48[0][0]                 \n",
      "__________________________________________________________________________________________________\n",
      "dilated_conv_64_sigm_s0 (Conv1D (None, 2000, 60)     7200        dropout_48[0][0]                 \n",
      "__________________________________________________________________________________________________\n",
      "gated_activation_6_s0 (Multiply (None, 2000, 60)     0           dilated_conv_64_tanh_s0[0][0]    \n",
      "                                                                 dilated_conv_64_sigm_s0[0][0]    \n",
      "__________________________________________________________________________________________________\n",
      "conv1d_97 (Conv1D)              (None, 2000, 60)     3600        gated_activation_6_s0[0][0]      \n",
      "__________________________________________________________________________________________________\n",
      "add_49 (Add)                    (None, 2000, 60)     0           dropout_48[0][0]                 \n",
      "                                                                 conv1d_97[0][0]                  \n",
      "__________________________________________________________________________________________________\n",
      "dropout_49 (Dropout)            (None, 2000, 60)     0           add_49[0][0]                     \n",
      "__________________________________________________________________________________________________\n",
      "dilated_conv_128_tanh_s0 (Conv1 (None, 2000, 60)     7200        dropout_49[0][0]                 \n",
      "__________________________________________________________________________________________________\n",
      "dilated_conv_128_sigm_s0 (Conv1 (None, 2000, 60)     7200        dropout_49[0][0]                 \n",
      "__________________________________________________________________________________________________\n",
      "gated_activation_7_s0 (Multiply (None, 2000, 60)     0           dilated_conv_128_tanh_s0[0][0]   \n",
      "                                                                 dilated_conv_128_sigm_s0[0][0]   \n",
      "__________________________________________________________________________________________________\n",
      "conv1d_99 (Conv1D)              (None, 2000, 60)     3600        gated_activation_7_s0[0][0]      \n",
      "__________________________________________________________________________________________________\n",
      "add_50 (Add)                    (None, 2000, 60)     0           dropout_49[0][0]                 \n",
      "                                                                 conv1d_99[0][0]                  \n",
      "__________________________________________________________________________________________________\n",
      "dropout_50 (Dropout)            (None, 2000, 60)     0           add_50[0][0]                     \n",
      "__________________________________________________________________________________________________\n",
      "dilated_conv_256_tanh_s0 (Conv1 (None, 2000, 60)     7200        dropout_50[0][0]                 \n",
      "__________________________________________________________________________________________________\n",
      "dilated_conv_256_sigm_s0 (Conv1 (None, 2000, 60)     7200        dropout_50[0][0]                 \n",
      "__________________________________________________________________________________________________\n",
      "gated_activation_8_s0 (Multiply (None, 2000, 60)     0           dilated_conv_256_tanh_s0[0][0]   \n",
      "                                                                 dilated_conv_256_sigm_s0[0][0]   \n",
      "__________________________________________________________________________________________________\n",
      "conv1d_101 (Conv1D)             (None, 2000, 60)     3600        gated_activation_8_s0[0][0]      \n",
      "__________________________________________________________________________________________________\n",
      "add_51 (Add)                    (None, 2000, 60)     0           dropout_50[0][0]                 \n",
      "                                                                 conv1d_101[0][0]                 \n",
      "__________________________________________________________________________________________________\n",
      "dropout_51 (Dropout)            (None, 2000, 60)     0           add_51[0][0]                     \n",
      "__________________________________________________________________________________________________\n",
      "dilated_conv_512_tanh_s0 (Conv1 (None, 2000, 60)     7200        dropout_51[0][0]                 \n",
      "__________________________________________________________________________________________________\n",
      "dilated_conv_512_sigm_s0 (Conv1 (None, 2000, 60)     7200        dropout_51[0][0]                 \n",
      "__________________________________________________________________________________________________\n",
      "gated_activation_9_s0 (Multiply (None, 2000, 60)     0           dilated_conv_512_tanh_s0[0][0]   \n",
      "                                                                 dilated_conv_512_sigm_s0[0][0]   \n",
      "__________________________________________________________________________________________________\n",
      "conv1d_103 (Conv1D)             (None, 2000, 60)     3600        gated_activation_9_s0[0][0]      \n",
      "__________________________________________________________________________________________________\n",
      "add_52 (Add)                    (None, 2000, 60)     0           dropout_51[0][0]                 \n",
      "                                                                 conv1d_103[0][0]                 \n",
      "__________________________________________________________________________________________________\n",
      "dropout_52 (Dropout)            (None, 2000, 60)     0           add_52[0][0]                     \n",
      "__________________________________________________________________________________________________\n",
      "dilated_conv_1_tanh_s1 (Conv1D) (None, 2000, 60)     7200        dropout_52[0][0]                 \n",
      "__________________________________________________________________________________________________\n",
      "dilated_conv_1_sigm_s1 (Conv1D) (None, 2000, 60)     7200        dropout_52[0][0]                 \n",
      "__________________________________________________________________________________________________\n",
      "gated_activation_0_s1 (Multiply (None, 2000, 60)     0           dilated_conv_1_tanh_s1[0][0]     \n",
      "                                                                 dilated_conv_1_sigm_s1[0][0]     \n",
      "__________________________________________________________________________________________________\n",
      "conv1d_105 (Conv1D)             (None, 2000, 60)     3600        gated_activation_0_s1[0][0]      \n",
      "__________________________________________________________________________________________________\n",
      "add_53 (Add)                    (None, 2000, 60)     0           dropout_52[0][0]                 \n",
      "                                                                 conv1d_105[0][0]                 \n",
      "__________________________________________________________________________________________________\n",
      "dropout_53 (Dropout)            (None, 2000, 60)     0           add_53[0][0]                     \n",
      "__________________________________________________________________________________________________\n",
      "dilated_conv_2_tanh_s1 (Conv1D) (None, 2000, 60)     7200        dropout_53[0][0]                 \n",
      "__________________________________________________________________________________________________\n",
      "dilated_conv_2_sigm_s1 (Conv1D) (None, 2000, 60)     7200        dropout_53[0][0]                 \n",
      "__________________________________________________________________________________________________\n",
      "gated_activation_1_s1 (Multiply (None, 2000, 60)     0           dilated_conv_2_tanh_s1[0][0]     \n",
      "                                                                 dilated_conv_2_sigm_s1[0][0]     \n",
      "__________________________________________________________________________________________________\n",
      "conv1d_107 (Conv1D)             (None, 2000, 60)     3600        gated_activation_1_s1[0][0]      \n",
      "__________________________________________________________________________________________________\n",
      "add_54 (Add)                    (None, 2000, 60)     0           dropout_53[0][0]                 \n",
      "                                                                 conv1d_107[0][0]                 \n",
      "__________________________________________________________________________________________________\n",
      "dropout_54 (Dropout)            (None, 2000, 60)     0           add_54[0][0]                     \n",
      "__________________________________________________________________________________________________\n",
      "dilated_conv_4_tanh_s1 (Conv1D) (None, 2000, 60)     7200        dropout_54[0][0]                 \n",
      "__________________________________________________________________________________________________\n",
      "dilated_conv_4_sigm_s1 (Conv1D) (None, 2000, 60)     7200        dropout_54[0][0]                 \n",
      "__________________________________________________________________________________________________\n",
      "gated_activation_2_s1 (Multiply (None, 2000, 60)     0           dilated_conv_4_tanh_s1[0][0]     \n",
      "                                                                 dilated_conv_4_sigm_s1[0][0]     \n",
      "__________________________________________________________________________________________________\n",
      "conv1d_109 (Conv1D)             (None, 2000, 60)     3600        gated_activation_2_s1[0][0]      \n",
      "__________________________________________________________________________________________________\n",
      "add_55 (Add)                    (None, 2000, 60)     0           dropout_54[0][0]                 \n",
      "                                                                 conv1d_109[0][0]                 \n",
      "__________________________________________________________________________________________________\n",
      "dropout_55 (Dropout)            (None, 2000, 60)     0           add_55[0][0]                     \n",
      "__________________________________________________________________________________________________\n",
      "dilated_conv_8_tanh_s1 (Conv1D) (None, 2000, 60)     7200        dropout_55[0][0]                 \n",
      "__________________________________________________________________________________________________\n",
      "dilated_conv_8_sigm_s1 (Conv1D) (None, 2000, 60)     7200        dropout_55[0][0]                 \n",
      "__________________________________________________________________________________________________\n",
      "gated_activation_3_s1 (Multiply (None, 2000, 60)     0           dilated_conv_8_tanh_s1[0][0]     \n",
      "                                                                 dilated_conv_8_sigm_s1[0][0]     \n",
      "__________________________________________________________________________________________________\n",
      "conv1d_111 (Conv1D)             (None, 2000, 60)     3600        gated_activation_3_s1[0][0]      \n",
      "__________________________________________________________________________________________________\n",
      "add_56 (Add)                    (None, 2000, 60)     0           dropout_55[0][0]                 \n",
      "                                                                 conv1d_111[0][0]                 \n",
      "__________________________________________________________________________________________________\n",
      "dropout_56 (Dropout)            (None, 2000, 60)     0           add_56[0][0]                     \n",
      "__________________________________________________________________________________________________\n",
      "dilated_conv_16_tanh_s1 (Conv1D (None, 2000, 60)     7200        dropout_56[0][0]                 \n",
      "__________________________________________________________________________________________________\n",
      "dilated_conv_16_sigm_s1 (Conv1D (None, 2000, 60)     7200        dropout_56[0][0]                 \n",
      "__________________________________________________________________________________________________\n",
      "gated_activation_4_s1 (Multiply (None, 2000, 60)     0           dilated_conv_16_tanh_s1[0][0]    \n",
      "                                                                 dilated_conv_16_sigm_s1[0][0]    \n",
      "__________________________________________________________________________________________________\n",
      "conv1d_113 (Conv1D)             (None, 2000, 60)     3600        gated_activation_4_s1[0][0]      \n",
      "__________________________________________________________________________________________________\n",
      "add_57 (Add)                    (None, 2000, 60)     0           dropout_56[0][0]                 \n",
      "                                                                 conv1d_113[0][0]                 \n",
      "__________________________________________________________________________________________________\n",
      "dropout_57 (Dropout)            (None, 2000, 60)     0           add_57[0][0]                     \n",
      "__________________________________________________________________________________________________\n",
      "dilated_conv_32_tanh_s1 (Conv1D (None, 2000, 60)     7200        dropout_57[0][0]                 \n",
      "__________________________________________________________________________________________________\n",
      "dilated_conv_32_sigm_s1 (Conv1D (None, 2000, 60)     7200        dropout_57[0][0]                 \n",
      "__________________________________________________________________________________________________\n",
      "gated_activation_5_s1 (Multiply (None, 2000, 60)     0           dilated_conv_32_tanh_s1[0][0]    \n",
      "                                                                 dilated_conv_32_sigm_s1[0][0]    \n",
      "__________________________________________________________________________________________________\n",
      "conv1d_115 (Conv1D)             (None, 2000, 60)     3600        gated_activation_5_s1[0][0]      \n",
      "__________________________________________________________________________________________________\n",
      "add_58 (Add)                    (None, 2000, 60)     0           dropout_57[0][0]                 \n",
      "                                                                 conv1d_115[0][0]                 \n",
      "__________________________________________________________________________________________________\n",
      "dropout_58 (Dropout)            (None, 2000, 60)     0           add_58[0][0]                     \n",
      "__________________________________________________________________________________________________\n",
      "dilated_conv_64_tanh_s1 (Conv1D (None, 2000, 60)     7200        dropout_58[0][0]                 \n",
      "__________________________________________________________________________________________________\n",
      "dilated_conv_64_sigm_s1 (Conv1D (None, 2000, 60)     7200        dropout_58[0][0]                 \n",
      "__________________________________________________________________________________________________\n",
      "gated_activation_6_s1 (Multiply (None, 2000, 60)     0           dilated_conv_64_tanh_s1[0][0]    \n",
      "                                                                 dilated_conv_64_sigm_s1[0][0]    \n",
      "__________________________________________________________________________________________________\n",
      "conv1d_117 (Conv1D)             (None, 2000, 60)     3600        gated_activation_6_s1[0][0]      \n",
      "__________________________________________________________________________________________________\n",
      "add_59 (Add)                    (None, 2000, 60)     0           dropout_58[0][0]                 \n",
      "                                                                 conv1d_117[0][0]                 \n",
      "__________________________________________________________________________________________________\n",
      "dropout_59 (Dropout)            (None, 2000, 60)     0           add_59[0][0]                     \n",
      "__________________________________________________________________________________________________\n",
      "dilated_conv_128_tanh_s1 (Conv1 (None, 2000, 60)     7200        dropout_59[0][0]                 \n",
      "__________________________________________________________________________________________________\n",
      "dilated_conv_128_sigm_s1 (Conv1 (None, 2000, 60)     7200        dropout_59[0][0]                 \n",
      "__________________________________________________________________________________________________\n",
      "gated_activation_7_s1 (Multiply (None, 2000, 60)     0           dilated_conv_128_tanh_s1[0][0]   \n",
      "                                                                 dilated_conv_128_sigm_s1[0][0]   \n",
      "__________________________________________________________________________________________________\n",
      "conv1d_119 (Conv1D)             (None, 2000, 60)     3600        gated_activation_7_s1[0][0]      \n",
      "__________________________________________________________________________________________________\n",
      "add_60 (Add)                    (None, 2000, 60)     0           dropout_59[0][0]                 \n",
      "                                                                 conv1d_119[0][0]                 \n",
      "__________________________________________________________________________________________________\n",
      "dropout_60 (Dropout)            (None, 2000, 60)     0           add_60[0][0]                     \n",
      "__________________________________________________________________________________________________\n",
      "dilated_conv_256_tanh_s1 (Conv1 (None, 2000, 60)     7200        dropout_60[0][0]                 \n",
      "__________________________________________________________________________________________________\n",
      "dilated_conv_256_sigm_s1 (Conv1 (None, 2000, 60)     7200        dropout_60[0][0]                 \n",
      "__________________________________________________________________________________________________\n",
      "gated_activation_8_s1 (Multiply (None, 2000, 60)     0           dilated_conv_256_tanh_s1[0][0]   \n",
      "                                                                 dilated_conv_256_sigm_s1[0][0]   \n",
      "__________________________________________________________________________________________________\n",
      "conv1d_121 (Conv1D)             (None, 2000, 60)     3600        gated_activation_8_s1[0][0]      \n",
      "__________________________________________________________________________________________________\n",
      "add_61 (Add)                    (None, 2000, 60)     0           dropout_60[0][0]                 \n",
      "                                                                 conv1d_121[0][0]                 \n",
      "__________________________________________________________________________________________________\n",
      "dropout_61 (Dropout)            (None, 2000, 60)     0           add_61[0][0]                     \n",
      "__________________________________________________________________________________________________\n",
      "dilated_conv_512_tanh_s1 (Conv1 (None, 2000, 60)     7200        dropout_61[0][0]                 \n",
      "__________________________________________________________________________________________________\n",
      "dilated_conv_512_sigm_s1 (Conv1 (None, 2000, 60)     7200        dropout_61[0][0]                 \n",
      "__________________________________________________________________________________________________\n",
      "gated_activation_9_s1 (Multiply (None, 2000, 60)     0           dilated_conv_512_tanh_s1[0][0]   \n",
      "                                                                 dilated_conv_512_sigm_s1[0][0]   \n",
      "__________________________________________________________________________________________________\n",
      "conv1d_86 (Conv1D)              (None, 2000, 60)     3600        gated_activation_0_s0[0][0]      \n",
      "__________________________________________________________________________________________________\n",
      "conv1d_88 (Conv1D)              (None, 2000, 60)     3600        gated_activation_1_s0[0][0]      \n",
      "__________________________________________________________________________________________________\n",
      "conv1d_90 (Conv1D)              (None, 2000, 60)     3600        gated_activation_2_s0[0][0]      \n",
      "__________________________________________________________________________________________________\n",
      "conv1d_92 (Conv1D)              (None, 2000, 60)     3600        gated_activation_3_s0[0][0]      \n",
      "__________________________________________________________________________________________________\n",
      "conv1d_94 (Conv1D)              (None, 2000, 60)     3600        gated_activation_4_s0[0][0]      \n",
      "__________________________________________________________________________________________________\n",
      "conv1d_96 (Conv1D)              (None, 2000, 60)     3600        gated_activation_5_s0[0][0]      \n",
      "__________________________________________________________________________________________________\n",
      "conv1d_98 (Conv1D)              (None, 2000, 60)     3600        gated_activation_6_s0[0][0]      \n",
      "__________________________________________________________________________________________________\n",
      "conv1d_100 (Conv1D)             (None, 2000, 60)     3600        gated_activation_7_s0[0][0]      \n",
      "__________________________________________________________________________________________________\n",
      "conv1d_102 (Conv1D)             (None, 2000, 60)     3600        gated_activation_8_s0[0][0]      \n",
      "__________________________________________________________________________________________________\n",
      "conv1d_104 (Conv1D)             (None, 2000, 60)     3600        gated_activation_9_s0[0][0]      \n",
      "__________________________________________________________________________________________________\n",
      "conv1d_106 (Conv1D)             (None, 2000, 60)     3600        gated_activation_0_s1[0][0]      \n",
      "__________________________________________________________________________________________________\n",
      "conv1d_108 (Conv1D)             (None, 2000, 60)     3600        gated_activation_1_s1[0][0]      \n",
      "__________________________________________________________________________________________________\n",
      "conv1d_110 (Conv1D)             (None, 2000, 60)     3600        gated_activation_2_s1[0][0]      \n",
      "__________________________________________________________________________________________________\n",
      "conv1d_112 (Conv1D)             (None, 2000, 60)     3600        gated_activation_3_s1[0][0]      \n",
      "__________________________________________________________________________________________________\n",
      "conv1d_114 (Conv1D)             (None, 2000, 60)     3600        gated_activation_4_s1[0][0]      \n",
      "__________________________________________________________________________________________________\n",
      "conv1d_116 (Conv1D)             (None, 2000, 60)     3600        gated_activation_5_s1[0][0]      \n",
      "__________________________________________________________________________________________________\n",
      "conv1d_118 (Conv1D)             (None, 2000, 60)     3600        gated_activation_6_s1[0][0]      \n",
      "__________________________________________________________________________________________________\n",
      "conv1d_120 (Conv1D)             (None, 2000, 60)     3600        gated_activation_7_s1[0][0]      \n",
      "__________________________________________________________________________________________________\n",
      "conv1d_122 (Conv1D)             (None, 2000, 60)     3600        gated_activation_8_s1[0][0]      \n",
      "__________________________________________________________________________________________________\n",
      "conv1d_124 (Conv1D)             (None, 2000, 60)     3600        gated_activation_9_s1[0][0]      \n",
      "__________________________________________________________________________________________________\n",
      "add_63 (Add)                    (None, 2000, 60)     0           conv1d_86[0][0]                  \n",
      "                                                                 conv1d_88[0][0]                  \n",
      "                                                                 conv1d_90[0][0]                  \n",
      "                                                                 conv1d_92[0][0]                  \n",
      "                                                                 conv1d_94[0][0]                  \n",
      "                                                                 conv1d_96[0][0]                  \n",
      "                                                                 conv1d_98[0][0]                  \n",
      "                                                                 conv1d_100[0][0]                 \n",
      "                                                                 conv1d_102[0][0]                 \n",
      "                                                                 conv1d_104[0][0]                 \n",
      "                                                                 conv1d_106[0][0]                 \n",
      "                                                                 conv1d_108[0][0]                 \n",
      "                                                                 conv1d_110[0][0]                 \n",
      "                                                                 conv1d_112[0][0]                 \n",
      "                                                                 conv1d_114[0][0]                 \n",
      "                                                                 conv1d_116[0][0]                 \n",
      "                                                                 conv1d_118[0][0]                 \n",
      "                                                                 conv1d_120[0][0]                 \n",
      "                                                                 conv1d_122[0][0]                 \n",
      "                                                                 conv1d_124[0][0]                 \n",
      "__________________________________________________________________________________________________\n",
      "batch_normalization_8 (BatchNor (None, 2000, 60)     240         add_63[0][0]                     \n",
      "__________________________________________________________________________________________________\n",
      "activation_8 (Activation)       (None, 2000, 60)     0           batch_normalization_8[0][0]      \n",
      "__________________________________________________________________________________________________\n",
      "last_shared_layer (Dropout)     (None, 2000, 60)     0           activation_8[0][0]               \n",
      "__________________________________________________________________________________________________\n",
      "conv1d_125 (Conv1D)             (None, 2000, 22)     1342        last_shared_layer[0][0]          \n",
      "__________________________________________________________________________________________________\n",
      "batch_normalization_9 (BatchNor (None, 2000, 22)     88          conv1d_125[0][0]                 \n",
      "__________________________________________________________________________________________________\n",
      "activation_9 (Activation)       (None, 2000, 22)     0           batch_normalization_9[0][0]      \n",
      "__________________________________________________________________________________________________\n",
      "dropout_63 (Dropout)            (None, 2000, 22)     0           activation_9[0][0]               \n",
      "__________________________________________________________________________________________________\n",
      "conv1d_126 (Conv1D)             (None, 2000, 22)     506         dropout_63[0][0]                 \n",
      "__________________________________________________________________________________________________\n",
      "output_softmax_0 (Activation)   (None, 2000, 22)     0           conv1d_126[0][0]                 \n",
      "==================================================================================================\n",
      "Total params: 436,636\n",
      "Trainable params: 436,352\n",
      "Non-trainable params: 284\n",
      "__________________________________________________________________________________________________\n"
     ]
    }
   ],
   "source": [
    "model.summary()"
   ]
  },
  {
   "cell_type": "code",
   "execution_count": 13,
   "metadata": {
    "pycharm": {
     "is_executing": false
    }
   },
   "outputs": [
    {
     "data": {
      "text/plain": [
       "['input_part',\n",
       " 'conv_0',\n",
       " 'batch_normalization_7',\n",
       " 'activation_7',\n",
       " 'dilated_conv_1_tanh_s0',\n",
       " 'dilated_conv_1_sigm_s0',\n",
       " 'gated_activation_0_s0',\n",
       " 'conv1d_85',\n",
       " 'add_43',\n",
       " 'dropout_43',\n",
       " 'dilated_conv_2_tanh_s0',\n",
       " 'dilated_conv_2_sigm_s0',\n",
       " 'gated_activation_1_s0',\n",
       " 'conv1d_87',\n",
       " 'add_44',\n",
       " 'dropout_44',\n",
       " 'dilated_conv_4_tanh_s0',\n",
       " 'dilated_conv_4_sigm_s0',\n",
       " 'gated_activation_2_s0',\n",
       " 'conv1d_89',\n",
       " 'add_45',\n",
       " 'dropout_45',\n",
       " 'dilated_conv_8_tanh_s0',\n",
       " 'dilated_conv_8_sigm_s0',\n",
       " 'gated_activation_3_s0',\n",
       " 'conv1d_91',\n",
       " 'add_46',\n",
       " 'dropout_46',\n",
       " 'dilated_conv_16_tanh_s0',\n",
       " 'dilated_conv_16_sigm_s0',\n",
       " 'gated_activation_4_s0',\n",
       " 'conv1d_93',\n",
       " 'add_47',\n",
       " 'dropout_47',\n",
       " 'dilated_conv_32_tanh_s0',\n",
       " 'dilated_conv_32_sigm_s0',\n",
       " 'gated_activation_5_s0',\n",
       " 'conv1d_95',\n",
       " 'add_48',\n",
       " 'dropout_48',\n",
       " 'dilated_conv_64_tanh_s0',\n",
       " 'dilated_conv_64_sigm_s0',\n",
       " 'gated_activation_6_s0',\n",
       " 'conv1d_97',\n",
       " 'add_49',\n",
       " 'dropout_49',\n",
       " 'dilated_conv_128_tanh_s0',\n",
       " 'dilated_conv_128_sigm_s0',\n",
       " 'gated_activation_7_s0',\n",
       " 'conv1d_99',\n",
       " 'add_50',\n",
       " 'dropout_50',\n",
       " 'dilated_conv_256_tanh_s0',\n",
       " 'dilated_conv_256_sigm_s0',\n",
       " 'gated_activation_8_s0',\n",
       " 'conv1d_101',\n",
       " 'add_51',\n",
       " 'dropout_51',\n",
       " 'dilated_conv_512_tanh_s0',\n",
       " 'dilated_conv_512_sigm_s0',\n",
       " 'gated_activation_9_s0',\n",
       " 'conv1d_103',\n",
       " 'add_52',\n",
       " 'dropout_52',\n",
       " 'dilated_conv_1_tanh_s1',\n",
       " 'dilated_conv_1_sigm_s1',\n",
       " 'gated_activation_0_s1',\n",
       " 'conv1d_105',\n",
       " 'add_53',\n",
       " 'dropout_53',\n",
       " 'dilated_conv_2_tanh_s1',\n",
       " 'dilated_conv_2_sigm_s1',\n",
       " 'gated_activation_1_s1',\n",
       " 'conv1d_107',\n",
       " 'add_54',\n",
       " 'dropout_54',\n",
       " 'dilated_conv_4_tanh_s1',\n",
       " 'dilated_conv_4_sigm_s1',\n",
       " 'gated_activation_2_s1',\n",
       " 'conv1d_109',\n",
       " 'add_55',\n",
       " 'dropout_55',\n",
       " 'dilated_conv_8_tanh_s1',\n",
       " 'dilated_conv_8_sigm_s1',\n",
       " 'gated_activation_3_s1',\n",
       " 'conv1d_111',\n",
       " 'add_56',\n",
       " 'dropout_56',\n",
       " 'dilated_conv_16_tanh_s1',\n",
       " 'dilated_conv_16_sigm_s1',\n",
       " 'gated_activation_4_s1',\n",
       " 'conv1d_113',\n",
       " 'add_57',\n",
       " 'dropout_57',\n",
       " 'dilated_conv_32_tanh_s1',\n",
       " 'dilated_conv_32_sigm_s1',\n",
       " 'gated_activation_5_s1',\n",
       " 'conv1d_115',\n",
       " 'add_58',\n",
       " 'dropout_58',\n",
       " 'dilated_conv_64_tanh_s1',\n",
       " 'dilated_conv_64_sigm_s1',\n",
       " 'gated_activation_6_s1',\n",
       " 'conv1d_117',\n",
       " 'add_59',\n",
       " 'dropout_59',\n",
       " 'dilated_conv_128_tanh_s1',\n",
       " 'dilated_conv_128_sigm_s1',\n",
       " 'gated_activation_7_s1',\n",
       " 'conv1d_119',\n",
       " 'add_60',\n",
       " 'dropout_60',\n",
       " 'dilated_conv_256_tanh_s1',\n",
       " 'dilated_conv_256_sigm_s1',\n",
       " 'gated_activation_8_s1',\n",
       " 'conv1d_121',\n",
       " 'add_61',\n",
       " 'dropout_61',\n",
       " 'dilated_conv_512_tanh_s1',\n",
       " 'dilated_conv_512_sigm_s1',\n",
       " 'gated_activation_9_s1',\n",
       " 'conv1d_86',\n",
       " 'conv1d_88',\n",
       " 'conv1d_90',\n",
       " 'conv1d_92',\n",
       " 'conv1d_94',\n",
       " 'conv1d_96',\n",
       " 'conv1d_98',\n",
       " 'conv1d_100',\n",
       " 'conv1d_102',\n",
       " 'conv1d_104',\n",
       " 'conv1d_106',\n",
       " 'conv1d_108',\n",
       " 'conv1d_110',\n",
       " 'conv1d_112',\n",
       " 'conv1d_114',\n",
       " 'conv1d_116',\n",
       " 'conv1d_118',\n",
       " 'conv1d_120',\n",
       " 'conv1d_122',\n",
       " 'conv1d_124',\n",
       " 'add_63',\n",
       " 'batch_normalization_8',\n",
       " 'activation_8',\n",
       " 'last_shared_layer',\n",
       " 'conv1d_125',\n",
       " 'batch_normalization_9',\n",
       " 'activation_9',\n",
       " 'dropout_63',\n",
       " 'conv1d_126',\n",
       " 'output_softmax_0']"
      ]
     },
     "execution_count": 13,
     "metadata": {},
     "output_type": "execute_result"
    }
   ],
   "source": [
    "model.layer_names()"
   ]
  },
  {
   "cell_type": "code",
   "execution_count": 14,
   "metadata": {
    "pycharm": {
     "is_executing": false
    }
   },
   "outputs": [
    {
     "data": {
      "text/plain": [
       "[<keras.engine.input_layer.InputLayer at 0x7fc9b85ce310>,\n",
       " <keras.layers.convolutional.Conv1D at 0x7fc9b85c9850>,\n",
       " <keras.layers.normalization.BatchNormalization at 0x7fc9b85c9190>,\n",
       " <keras.layers.core.Activation at 0x7fc9b85bf390>,\n",
       " <keras.layers.convolutional.Conv1D at 0x7fc9b8627fd0>,\n",
       " <keras.layers.convolutional.Conv1D at 0x7fc9b8672e90>,\n",
       " <keras.layers.merge.Multiply at 0x7fc9b869f5d0>,\n",
       " <keras.layers.convolutional.Conv1D at 0x7fc9b864f790>,\n",
       " <keras.layers.merge.Add at 0x7fc9b86e7d90>,\n",
       " <keras.layers.core.Dropout at 0x7fc9b86e7e90>,\n",
       " <keras.layers.convolutional.Conv1D at 0x7fc9b86cea10>,\n",
       " <keras.layers.convolutional.Conv1D at 0x7fc9b86c4350>,\n",
       " <keras.layers.merge.Multiply at 0x7fc9b8735f90>,\n",
       " <keras.layers.convolutional.Conv1D at 0x7fc9b8772a50>,\n",
       " <keras.layers.merge.Add at 0x7fc9b879f050>,\n",
       " <keras.layers.core.Dropout at 0x7fc9b879fd90>,\n",
       " <keras.layers.convolutional.Conv1D at 0x7fc9b8796490>,\n",
       " <keras.layers.convolutional.Conv1D at 0x7fc9b877c590>,\n",
       " <keras.layers.merge.Multiply at 0x7fc9b87f2250>,\n",
       " <keras.layers.convolutional.Conv1D at 0x7fc9b87ba3d0>,\n",
       " <keras.layers.merge.Add at 0x7fc9dc098710>,\n",
       " <keras.layers.core.Dropout at 0x7fc9dc098e10>,\n",
       " <keras.layers.convolutional.Conv1D at 0x7fc9dc08d6d0>,\n",
       " <keras.layers.convolutional.Conv1D at 0x7fc9dc0f4a90>,\n",
       " <keras.layers.merge.Multiply at 0x7fc9dc0e5310>,\n",
       " <keras.layers.convolutional.Conv1D at 0x7fc9dc1335d0>,\n",
       " <keras.layers.merge.Add at 0x7fc9dc152650>,\n",
       " <keras.layers.core.Dropout at 0x7fc9dc152d90>,\n",
       " <keras.layers.convolutional.Conv1D at 0x7fc9dc145090>,\n",
       " <keras.layers.convolutional.Conv1D at 0x7fc9dc1ad510>,\n",
       " <keras.layers.merge.Multiply at 0x7fc9dc1a0510>,\n",
       " <keras.layers.convolutional.Conv1D at 0x7fc9dc1ea1d0>,\n",
       " <keras.layers.merge.Add at 0x7fc9dc20a690>,\n",
       " <keras.layers.core.Dropout at 0x7fc9dc20ab90>,\n",
       " <keras.layers.convolutional.Conv1D at 0x7fc9dc26ae50>,\n",
       " <keras.layers.convolutional.Conv1D at 0x7fc9dc25e750>,\n",
       " <keras.layers.merge.Multiply at 0x7fc9dc255750>,\n",
       " <keras.layers.convolutional.Conv1D at 0x7fc9dc2a2d10>,\n",
       " <keras.layers.merge.Add at 0x7fc9dc2bf250>,\n",
       " <keras.layers.core.Dropout at 0x7fc9dc2bff10>,\n",
       " <keras.layers.convolutional.Conv1D at 0x7fc9dc338710>,\n",
       " <keras.layers.convolutional.Conv1D at 0x7fc9dc31d050>,\n",
       " <keras.layers.merge.Multiply at 0x7fc9dc3b6d90>,\n",
       " <keras.layers.convolutional.Conv1D at 0x7fc9dc3593d0>,\n",
       " <keras.layers.merge.Add at 0x7fc9dc3797d0>,\n",
       " <keras.layers.core.Dropout at 0x7fc9dc379990>,\n",
       " <keras.layers.convolutional.Conv1D at 0x7fc9dc3dff90>,\n",
       " <keras.layers.convolutional.Conv1D at 0x7fc9dc3d0b10>,\n",
       " <keras.layers.merge.Multiply at 0x7fc9dc55c950>,\n",
       " <keras.layers.convolutional.Conv1D at 0x7fc9dc3d0050>,\n",
       " <keras.layers.merge.Add at 0x7fc9dc561890>,\n",
       " <keras.layers.core.Dropout at 0x7fc9dc561710>,\n",
       " <keras.layers.convolutional.Conv1D at 0x7fc9dc449850>,\n",
       " <keras.layers.convolutional.Conv1D at 0x7fc9b8490f50>,\n",
       " <keras.layers.merge.Multiply at 0x7fc9b84984d0>,\n",
       " <keras.layers.convolutional.Conv1D at 0x7fc9b8498590>,\n",
       " <keras.layers.merge.Add at 0x7fc9b8448ad0>,\n",
       " <keras.layers.core.Dropout at 0x7fc9b8448b10>,\n",
       " <keras.layers.convolutional.Conv1D at 0x7fc9b844e410>,\n",
       " <keras.layers.convolutional.Conv1D at 0x7fc9b8455690>,\n",
       " <keras.layers.merge.Multiply at 0x7fc9b845d510>,\n",
       " <keras.layers.convolutional.Conv1D at 0x7fc9b845d210>,\n",
       " <keras.layers.merge.Add at 0x7fc9b84129d0>,\n",
       " <keras.layers.core.Dropout at 0x7fc9b8412450>,\n",
       " <keras.layers.convolutional.Conv1D at 0x7fc9b8418250>,\n",
       " <keras.layers.convolutional.Conv1D at 0x7fc9b841d290>,\n",
       " <keras.layers.merge.Multiply at 0x7fc9b8424610>,\n",
       " <keras.layers.convolutional.Conv1D at 0x7fc9b8438790>,\n",
       " <keras.layers.merge.Add at 0x7fc9b83cda10>,\n",
       " <keras.layers.core.Dropout at 0x7fc9b83cda50>,\n",
       " <keras.layers.convolutional.Conv1D at 0x7fc9b83d3ad0>,\n",
       " <keras.layers.convolutional.Conv1D at 0x7fc9b83d9f50>,\n",
       " <keras.layers.merge.Multiply at 0x7fc9b83e04d0>,\n",
       " <keras.layers.convolutional.Conv1D at 0x7fc9b83e0590>,\n",
       " <keras.layers.merge.Add at 0x7fc9b8392ad0>,\n",
       " <keras.layers.core.Dropout at 0x7fc9b8392b10>,\n",
       " <keras.layers.convolutional.Conv1D at 0x7fc9b8398b90>,\n",
       " <keras.layers.convolutional.Conv1D at 0x7fc9b839e250>,\n",
       " <keras.layers.merge.Multiply at 0x7fc9b83a6650>,\n",
       " <keras.layers.convolutional.Conv1D at 0x7fc9b83a6590>,\n",
       " <keras.layers.merge.Add at 0x7fc9b835aa10>,\n",
       " <keras.layers.core.Dropout at 0x7fc9b835a490>,\n",
       " <keras.layers.convolutional.Conv1D at 0x7fc9b8368bd0>,\n",
       " <keras.layers.convolutional.Conv1D at 0x7fc9b835e290>,\n",
       " <keras.layers.merge.Multiply at 0x7fc9b836c5d0>,\n",
       " <keras.layers.convolutional.Conv1D at 0x7fc9b83089d0>,\n",
       " <keras.layers.merge.Add at 0x7fc9b8320a50>,\n",
       " <keras.layers.core.Dropout at 0x7fc9b8320110>,\n",
       " <keras.layers.convolutional.Conv1D at 0x7fc9b83272d0>,\n",
       " <keras.layers.convolutional.Conv1D at 0x7fc9b832e650>,\n",
       " <keras.layers.merge.Multiply at 0x7fc9b8336710>,\n",
       " <keras.layers.convolutional.Conv1D at 0x7fc9b82c8f50>,\n",
       " <keras.layers.merge.Add at 0x7fc9b82e6b90>,\n",
       " <keras.layers.core.Dropout at 0x7fc9b82e6610>,\n",
       " <keras.layers.convolutional.Conv1D at 0x7fc9b82ee410>,\n",
       " <keras.layers.convolutional.Conv1D at 0x7fc9b82f7610>,\n",
       " <keras.layers.merge.Multiply at 0x7fc9b827c350>,\n",
       " <keras.layers.convolutional.Conv1D at 0x7fc9b82a3ad0>,\n",
       " <keras.layers.merge.Add at 0x7fc9b82aebd0>,\n",
       " <keras.layers.core.Dropout at 0x7fc9b82ae410>,\n",
       " <keras.layers.convolutional.Conv1D at 0x7fc9b82b4450>,\n",
       " <keras.layers.convolutional.Conv1D at 0x7fc9b823ddd0>,\n",
       " <keras.layers.merge.Multiply at 0x7fc9b8243890>,\n",
       " <keras.layers.convolutional.Conv1D at 0x7fc9b8255890>,\n",
       " <keras.layers.merge.Add at 0x7fc9b8274f10>,\n",
       " <keras.layers.core.Dropout at 0x7fc9b8274790>,\n",
       " <keras.layers.convolutional.Conv1D at 0x7fc9b81fad10>,\n",
       " <keras.layers.convolutional.Conv1D at 0x7fc9b8202910>,\n",
       " <keras.layers.merge.Multiply at 0x7fc9b8208950>,\n",
       " <keras.layers.convolutional.Conv1D at 0x7fc9b8230c50>,\n",
       " <keras.layers.merge.Add at 0x7fc9b81badd0>,\n",
       " <keras.layers.core.Dropout at 0x7fc9b81ba590>,\n",
       " <keras.layers.convolutional.Conv1D at 0x7fc9b81c2d50>,\n",
       " <keras.layers.convolutional.Conv1D at 0x7fc9b81cb710>,\n",
       " <keras.layers.merge.Multiply at 0x7fc9b81d1a10>,\n",
       " <keras.layers.convolutional.Conv1D at 0x7fc9b81e13d0>,\n",
       " <keras.layers.merge.Add at 0x7fc9b8183e90>,\n",
       " <keras.layers.core.Dropout at 0x7fc9b8183310>,\n",
       " <keras.layers.convolutional.Conv1D at 0x7fc9b818af10>,\n",
       " <keras.layers.convolutional.Conv1D at 0x7fc9b8191790>,\n",
       " <keras.layers.merge.Multiply at 0x7fc9b8198ad0>,\n",
       " <keras.layers.convolutional.Conv1D at 0x7fc9b8683f10>,\n",
       " <keras.layers.convolutional.Conv1D at 0x7fc9b8743d10>,\n",
       " <keras.layers.convolutional.Conv1D at 0x7fc9dc05f590>,\n",
       " <keras.layers.convolutional.Conv1D at 0x7fc9dc108690>,\n",
       " <keras.layers.convolutional.Conv1D at 0x7fc9dc1c1610>,\n",
       " <keras.layers.convolutional.Conv1D at 0x7fc9dc2f8650>,\n",
       " <keras.layers.convolutional.Conv1D at 0x7fc9dc3b3f10>,\n",
       " <keras.layers.convolutional.Conv1D at 0x7fc9dc469c90>,\n",
       " <keras.layers.convolutional.Conv1D at 0x7fc9b843c650>,\n",
       " <keras.layers.convolutional.Conv1D at 0x7fc9b840a150>,\n",
       " <keras.layers.convolutional.Conv1D at 0x7fc9b83be750>,\n",
       " <keras.layers.convolutional.Conv1D at 0x7fc9b83f1e90>,\n",
       " <keras.layers.convolutional.Conv1D at 0x7fc9b834d690>,\n",
       " <keras.layers.convolutional.Conv1D at 0x7fc9b8302950>,\n",
       " <keras.layers.convolutional.Conv1D at 0x7fc9b82da810>,\n",
       " <keras.layers.convolutional.Conv1D at 0x7fc9b8296ad0>,\n",
       " <keras.layers.convolutional.Conv1D at 0x7fc9b8268990>,\n",
       " <keras.layers.convolutional.Conv1D at 0x7fc9b8224d90>,\n",
       " <keras.layers.convolutional.Conv1D at 0x7fc9b81f8b10>,\n",
       " <keras.layers.convolutional.Conv1D at 0x7fc9b81b0d90>,\n",
       " <keras.layers.merge.Add at 0x7fc9b8145790>,\n",
       " <keras.layers.normalization.BatchNormalization at 0x7fc9b8150fd0>,\n",
       " <keras.layers.core.Activation at 0x7fc9b8150f50>,\n",
       " <keras.layers.core.Dropout at 0x7fc9b8177090>,\n",
       " <keras.layers.convolutional.Conv1D at 0x7fc9b81571d0>,\n",
       " <keras.layers.normalization.BatchNormalization at 0x7fc9b810b710>,\n",
       " <keras.layers.core.Activation at 0x7fc9b8120910>,\n",
       " <keras.layers.core.Dropout at 0x7fc9b81143d0>,\n",
       " <keras.layers.convolutional.Conv1D at 0x7fc9b80c0a50>,\n",
       " <keras.layers.core.Activation at 0x7fc9b80dcf90>]"
      ]
     },
     "execution_count": 14,
     "metadata": {},
     "output_type": "execute_result"
    }
   ],
   "source": [
    "model._neural_network.layers"
   ]
  },
  {
   "cell_type": "markdown",
   "metadata": {},
   "source": [
    "Build the model. Note that all trained weights will be lost. So we are not running it just now. "
   ]
  },
  {
   "cell_type": "code",
   "execution_count": 15,
   "metadata": {
    "pycharm": {
     "is_executing": false
    },
    "scrolled": true
   },
   "outputs": [
    {
     "name": "stdout",
     "output_type": "stream",
     "text": [
      "Receptive Field: 2047 \n"
     ]
    }
   ],
   "source": [
    "# you might need to clear the session before rebuilding:\n",
    "# tf.keras.backend.clear_session()\n",
    "model.build(r)"
   ]
  },
  {
   "cell_type": "markdown",
   "metadata": {},
   "source": [
    "# ChromWave methods for predictions and visualisation of training progress\n"
   ]
  },
  {
   "cell_type": "markdown",
   "metadata": {},
   "source": [
    "To visualise the model architecture as model.png in the provided directory: "
   ]
  },
  {
   "cell_type": "code",
   "execution_count": 16,
   "metadata": {
    "pycharm": {
     "is_executing": false
    }
   },
   "outputs": [],
   "source": [
    "test_plot_dir = os.path.join(f.get_output_directory(),'test-plots')\n",
    "if not os.path.exists(test_plot_dir):\n",
    "    os.mkdir(test_plot_dir)"
   ]
  },
  {
   "cell_type": "code",
   "execution_count": 17,
   "metadata": {
    "pycharm": {
     "is_executing": false
    }
   },
   "outputs": [
    {
     "name": "stdout",
     "output_type": "stream",
     "text": [
      "Warning: layer names except first convolutional names will be changed if the model is plotted after calling self.change_input_length(). For correct layer names please plot directly after building or deserialising.\n"
     ]
    }
   ],
   "source": [
    "model.plot_model(test_plot_dir)"
   ]
  },
  {
   "cell_type": "markdown",
   "metadata": {},
   "source": [
    "Confusion matrices, prediciotions and motif detectors can directly be computed with the respecitve methods of the ChromWave object. "
   ]
  },
  {
   "cell_type": "code",
   "execution_count": 18,
   "metadata": {
    "pycharm": {
     "is_executing": false
    }
   },
   "outputs": [
    {
     "name": "stdout",
     "output_type": "stream",
     "text": [
      "Computing the confusion matrix for training set.....\n"
     ]
    }
   ],
   "source": [
    "cm = model.compute_confusion_matrices(r, what = 'training')"
   ]
  },
  {
   "cell_type": "markdown",
   "metadata": {},
   "source": [
    "To save the plots of the confusion matrices:"
   ]
  },
  {
   "cell_type": "code",
   "execution_count": 19,
   "metadata": {
    "pycharm": {
     "is_executing": false
    }
   },
   "outputs": [
    {
     "name": "stdout",
     "output_type": "stream",
     "text": [
      "Computing the confusion matrix for training set.....\n",
      "Plotting the confusion matrix for training set.....\n",
      "Normalized confusion matrix\n"
     ]
    },
    {
     "name": "stderr",
     "output_type": "stream",
     "text": [
      "/home/cakiroa/projects/ChromWave_python3/chromwave/vis/plot.py:130: RuntimeWarning: invalid value encountered in true_divide\n",
      "  cm = cm.astype('float') / cm.sum(axis=1)[:, numpy.newaxis]\n"
     ]
    }
   ],
   "source": [
    "model.plot_confusion_matrices(r, out_dir =test_plot_dir , what='training', normalize=True)"
   ]
  },
  {
   "cell_type": "markdown",
   "metadata": {},
   "source": [
    "To compute the motif detectors you can use the function `_compute_PFM_motif_detectors`. If there are many sequences in the training data, you can select a subset that activated the filters the most by specifying the percentile the activation should fall in. "
   ]
  },
  {
   "cell_type": "code",
   "execution_count": 20,
   "metadata": {
    "pycharm": {
     "is_executing": false
    }
   },
   "outputs": [
    {
     "name": "stdout",
     "output_type": "stream",
     "text": [
      "Computing the PFMs of the motif detectors\n"
     ]
    }
   ],
   "source": [
    "model._compute_PFM_motif_detectors(r,out_dir=test_plot_dir,percentile = 8)"
   ]
  },
  {
   "cell_type": "markdown",
   "metadata": {},
   "source": [
    "If you have R installed the PFMs can be computed and visualised with the function `plot_motif_detectors`"
   ]
  },
  {
   "cell_type": "code",
   "execution_count": 21,
   "metadata": {
    "pycharm": {
     "is_executing": false
    }
   },
   "outputs": [
    {
     "name": "stdout",
     "output_type": "stream",
     "text": [
      "Plotting motif detectors with R\n",
      "subprocess stdout output: \n",
      " \n"
     ]
    }
   ],
   "source": [
    "model.plot_motif_detectors(r,out_dir = test_plot_dir)"
   ]
  },
  {
   "cell_type": "markdown",
   "metadata": {},
   "source": [
    "# Predictions"
   ]
  },
  {
   "cell_type": "markdown",
   "metadata": {},
   "source": [
    "The `ChromWave` model has two prediction methods: `model.predict_smooth` returns smoothed predicted binding profiles for the given input. `model.predict` returns the raw predictions as one-hot encoded classes. Note that the raw predictions may not be on the same scales for the different output profiles as they might be differently preprocessed in the RuntimeDataset object. Do rescale and smooth in a comparable way `model.predict_smooth` uses the applicable pre-processing parameters that were used to load the data.  "
   ]
  },
  {
   "cell_type": "code",
   "execution_count": 22,
   "metadata": {
    "pycharm": {
     "is_executing": false
    }
   },
   "outputs": [],
   "source": [
    "y_pred = model.predict(r.train_x_data)\n",
    "predictions = [y.argmax(axis=2) for y in y_pred] # classes\n",
    "true = [y.argmax(axis=2) for y in r.train_y_data]# classes"
   ]
  },
  {
   "cell_type": "markdown",
   "metadata": {},
   "source": [
    "We can now plot the distributions of the predicted vs observed classes. The plot indiciates that we are biased towards smaller classes. "
   ]
  },
  {
   "cell_type": "code",
   "execution_count": 23,
   "metadata": {
    "pycharm": {
     "is_executing": false
    }
   },
   "outputs": [],
   "source": [
    "model.plot_predicted_class_distributions(predictions, true,output_dir = test_plot_dir, what='training')"
   ]
  },
  {
   "cell_type": "markdown",
   "metadata": {},
   "source": [
    "To compare the smoothed profiles, we need to compute the smooth predicted profiles. As we are rescaling and processing the binding profiles when we are loading it into the `RuntimeDatset` object before we are discretising it into classes we can predict, we need to reverse those steps to turn the predicted classes into a binding profile on the same scale as the original profile. Note that you prediction and smoothing can be done in one go using the  `predict_smooth` function of `ChromWave`:"
   ]
  },
  {
   "cell_type": "code",
   "execution_count": 24,
   "metadata": {
    "pycharm": {
     "is_executing": false
    }
   },
   "outputs": [],
   "source": [
    "smoothed_predictions = model.predict_smooth(r.train_x_data)"
   ]
  },
  {
   "cell_type": "markdown",
   "metadata": {},
   "source": [
    "Let's compare the different profiles for the 100th sequence in the training sequences: "
   ]
  },
  {
   "cell_type": "code",
   "execution_count": 25,
   "metadata": {
    "pycharm": {
     "is_executing": false
    }
   },
   "outputs": [
    {
     "data": {
      "text/plain": [
       "array([<matplotlib.axes._subplots.AxesSubplot object at 0x7fc95421bb50>,\n",
       "       <matplotlib.axes._subplots.AxesSubplot object at 0x7fc9541a7d10>,\n",
       "       <matplotlib.axes._subplots.AxesSubplot object at 0x7fc9447dbe50>,\n",
       "       <matplotlib.axes._subplots.AxesSubplot object at 0x7fc954154f90>],\n",
       "      dtype=object)"
      ]
     },
     "execution_count": 25,
     "metadata": {},
     "output_type": "execute_result"
    },
    {
     "data": {
      "image/png": "[encoded data removed]",
      "text/plain": [
       "<Figure size 432x288 with 4 Axes>"
      ]
     },
     "metadata": {
      "needs_background": "light"
     },
     "output_type": "display_data"
    }
   ],
   "source": [
    "pandas.DataFrame(numpy.vstack([smoothed_predictions[0][100,:],predictions[0][100,:],true[0][100,:],r.train_y_data_smooth[0][100,:]]).transpose(), columns=['smoothed','raw','true classes','true profile']).plot(subplots=True)\n"
   ]
  },
  {
   "cell_type": "markdown",
   "metadata": {},
   "source": [
    "Plots the best and worst profile predictions (measured by pearson correlations)"
   ]
  },
  {
   "cell_type": "code",
   "execution_count": 26,
   "metadata": {
    "pycharm": {
     "is_executing": false
    }
   },
   "outputs": [],
   "source": [
    "model.plot_profile_predictions(smoothed_predictions, r.train_y_data_smooth,  out_dir=test_plot_dir, what='training')"
   ]
  },
  {
   "cell_type": "markdown",
   "metadata": {},
   "source": [
    "If you 're interested in the metrics and loss vs training epochs, you can look at the training history plots: "
   ]
  },
  {
   "cell_type": "code",
   "execution_count": 27,
   "metadata": {
    "pycharm": {
     "is_executing": false
    }
   },
   "outputs": [],
   "source": [
    "model.plot_training_history(out_dir=test_plot_dir)"
   ]
  },
  {
   "cell_type": "markdown",
   "metadata": {},
   "source": [
    "And finally, to plot predictions of whole chromosome (or all sequences in r.chr_info if chr_name=None) do: "
   ]
  },
  {
   "cell_type": "code",
   "execution_count": 28,
   "metadata": {
    "pycharm": {
     "is_executing": false
    }
   },
   "outputs": [
    {
     "name": "stdout",
     "output_type": "stream",
     "text": [
      "Receptive Field: 2047 \n",
      "Receptive Field: 2047 \n"
     ]
    }
   ],
   "source": [
    "model.save_chr_predictions(runtime_dataset=r,out_dir=test_plot_dir,chr_name='chr1')"
   ]
  },
  {
   "cell_type": "markdown",
   "metadata": {},
   "source": [
    "Finally, to do it all in one go as we are doing it in the `train` function: "
   ]
  },
  {
   "cell_type": "code",
   "execution_count": 29,
   "metadata": {
    "pycharm": {
     "is_executing": false
    }
   },
   "outputs": [
    {
     "name": "stdout",
     "output_type": "stream",
     "text": [
      "Plotting distribution of class predictions, confusion matrices, and  best/worst predictions profiles...\n",
      "Plotting the confusion matrix for training set.....\n",
      "Normalized confusion matrix\n"
     ]
    },
    {
     "name": "stderr",
     "output_type": "stream",
     "text": [
      "/home/cakiroa/projects/ChromWave_python3/chromwave/vis/plot.py:130: RuntimeWarning: invalid value encountered in true_divide\n",
      "  cm = cm.astype('float') / cm.sum(axis=1)[:, numpy.newaxis]\n"
     ]
    },
    {
     "name": "stdout",
     "output_type": "stream",
     "text": [
      "Plotting the confusion matrix for test set.....\n",
      "Normalized confusion matrix\n"
     ]
    },
    {
     "name": "stderr",
     "output_type": "stream",
     "text": [
      "/home/cakiroa/projects/ChromWave_python3/chromwave/vis/plot.py:130: RuntimeWarning: invalid value encountered in true_divide\n",
      "  cm = cm.astype('float') / cm.sum(axis=1)[:, numpy.newaxis]\n"
     ]
    },
    {
     "name": "stdout",
     "output_type": "stream",
     "text": [
      "Plotting the confusion matrix for validation set.....\n",
      "Normalized confusion matrix\n"
     ]
    }
   ],
   "source": [
    "model.plot_all_training_history(r,f) # not running it - it's already in your training output file! "
   ]
  },
  {
   "cell_type": "markdown",
   "metadata": {},
   "source": [
    "# Loading and saving ChromWave models"
   ]
  },
  {
   "cell_type": "markdown",
   "metadata": {},
   "source": [
    "There are different ways of saving and loading ChromWave model. The cleanest and most complete way is to deserialise the whole model. To do that you need the setup json and the keras model: "
   ]
  },
  {
   "cell_type": "code",
   "execution_count": 30,
   "metadata": {
    "pycharm": {
     "is_executing": false
    }
   },
   "outputs": [
    {
     "data": {
      "text/plain": [
       "{'input_nodes_number': 2000,\n",
       " 'n_channels': 4,\n",
       " 'n_output_features': 1,\n",
       " 'n_output_bins': [22],\n",
       " 'max_epochs': 2,\n",
       " 'minibatch_size': 32,\n",
       " 'early_stopping_patience_fraction': 3,\n",
       " 'momentum': 0.9,\n",
       " 'learning_rate': 0.002,\n",
       " 'weight_decay': 0.0,\n",
       " 'nesterov': True,\n",
       " 'optimizer': 'adam',\n",
       " 'epsilon': 0.001,\n",
       " 'dropout': 0.2,\n",
       " 'res_dropout': 0.1,\n",
       " 'res_l2': 0.01,\n",
       " 'final_l2': 0.05,\n",
       " 'penalise_misclassification': False,\n",
       " 'penalties': [None],\n",
       " 'class_weights': [[1.0,\n",
       "   1.0,\n",
       "   1.0,\n",
       "   1.0,\n",
       "   1.0,\n",
       "   1.0,\n",
       "   1.0,\n",
       "   1.0,\n",
       "   1.0,\n",
       "   1.0,\n",
       "   1.0,\n",
       "   1.0,\n",
       "   1.0,\n",
       "   1.0,\n",
       "   1.0,\n",
       "   1.0,\n",
       "   1.0,\n",
       "   1.0,\n",
       "   1.0,\n",
       "   1.0,\n",
       "   1.0,\n",
       "   1.0]],\n",
       " 'preprocessing_params': [{'times_median_coverage_max': 3,\n",
       "   'discretize_function': 'float_to_int',\n",
       "   'assign_non_covered_bases': None,\n",
       "   'u': 2.5,\n",
       "   'smooth_signal': True,\n",
       "   'sigma': 5,\n",
       "   'truncate': 3,\n",
       "   'smoothing_function': 'gaussian_filter1d',\n",
       "   'x_thresh': 0,\n",
       "   'run_thresh': 50,\n",
       "   'normalise_read_counts': None}],\n",
       " 'batch_normalization': True,\n",
       " '_pretrained_models': [],\n",
       " '_pretrained_kernel_lengths': [],\n",
       " '_pretrained_conv_n_filters': [],\n",
       " '_pool_pretrained_conv': None,\n",
       " '_train_pretrained_conv': [],\n",
       " 'n_stacks': 2,\n",
       " 'dilation_depth': 9,\n",
       " 'kernel_lengths': [24],\n",
       " 'conv_n_filters': [60],\n",
       " 'pool_sizes': [],\n",
       " 'use_skip_connections': True,\n",
       " 'learn_all_outputs': True,\n",
       " 'use_bias': False,\n",
       " 'train_with_soft_target_stdev': False,\n",
       " 'train_only_in_receptive_field': False,\n",
       " 'keras_verbose': 1}"
      ]
     },
     "execution_count": 30,
     "metadata": {},
     "output_type": "execute_result"
    }
   ],
   "source": [
    "model._neural_network.save(os.path.join(test_plot_dir, 'BestWaveNet.h5'))\n",
    "model.serialize_json(output_filepath=os.path.join(test_plot_dir, 'WaveNet_Setup.json'))"
   ]
  },
  {
   "cell_type": "code",
   "execution_count": 31,
   "metadata": {
    "pycharm": {
     "is_executing": false
    }
   },
   "outputs": [
    {
     "name": "stdout",
     "output_type": "stream",
     "text": [
      "Receptive Field: 2047 \n"
     ]
    }
   ],
   "source": [
    "model.deserialize(test_plot_dir)"
   ]
  },
  {
   "cell_type": "markdown",
   "metadata": {},
   "source": [
    "However, the keras model stored in `model._neural_network` can be saved with `keras` functions as `json` or `h5py` files. Even more bareboned is to store the keras weights. Note however, that only loading as a ChromWave model will provide the model with the right loss function. "
   ]
  },
  {
   "cell_type": "code",
   "execution_count": 32,
   "metadata": {
    "pycharm": {
     "is_executing": false
    }
   },
   "outputs": [],
   "source": [
    "# save the model_neural_network as keras model: \n",
    "model.save_model( output_path=test_plot_dir, id=\"keras_model\")"
   ]
  },
  {
   "cell_type": "markdown",
   "metadata": {},
   "source": [
    "We can just load the model as a keras model but we need to pass the loss and metrcs as custom objects. "
   ]
  },
  {
   "cell_type": "code",
   "execution_count": 33,
   "metadata": {
    "pycharm": {
     "is_executing": false
    }
   },
   "outputs": [],
   "source": [
    "import keras\n",
    "from chromwave.functions import utils\n",
    "keras_model = keras.models.load_model(os.path.join(test_plot_dir, \"keras_model.h5\"),\n",
    "                                      custom_objects={'w_categorical_crossentropy0': model.loss[0],\n",
    "                                                      'categorical_mean_squared_error':utils.categorical_mean_squared_error,\n",
    "                                                      'mean_classification_pearson_correlation': utils.mean_classification_pearson_correlation\n",
    "})\n"
   ]
  },
  {
   "cell_type": "markdown",
   "metadata": {},
   "source": [
    "This is of course a nuisance and unnessesary if we just want to make predictions with the keras model. As a workaround you can save the model json and the weights that can be loaded later into a keras model. Note that if the model is used only for prediction of raw classes, then loading a keras model will suffice, however, to provide the smoothed binding profiles additional smoothing with the function `invert_discretizing` provided in the RuntimeDataset object is necessary. "
   ]
  },
  {
   "cell_type": "code",
   "execution_count": 34,
   "metadata": {
    "pycharm": {
     "is_executing": false
    }
   },
   "outputs": [],
   "source": [
    "# saving json and weights\n",
    "model_json = model._neural_network.to_json()\n",
    "with open(os.path.join(test_plot_dir, \"keras_model.json\"), \"w\") as json_file:\n",
    "    json_file.write(model_json)\n",
    "model.save_weights_to(test_plot_dir, id=\"keras_model\")\n"
   ]
  },
  {
   "cell_type": "code",
   "execution_count": 35,
   "metadata": {
    "pycharm": {
     "is_executing": false
    }
   },
   "outputs": [],
   "source": [
    "json_file = open(os.path.join(test_plot_dir, \"keras_model.json\"), 'r')\n",
    "keras_json = json_file.read()\n",
    "json_file.close()\n",
    "keras_model = keras.models.model_from_json(keras_json)\n",
    "keras_model.load_weights(os.path.join(test_plot_dir,'keras_model.weights'))"
   ]
  },
  {
   "cell_type": "markdown",
   "metadata": {},
   "source": [
    "This is why we always store the json and weights after a training run: "
   ]
  },
  {
   "cell_type": "code",
   "execution_count": 36,
   "metadata": {
    "pycharm": {
     "is_executing": false
    }
   },
   "outputs": [],
   "source": [
    "json_file = open(os.path.join(f.get_output_directory(), \"model.json\"), 'r')\n",
    "keras_json = json_file.read()\n",
    "json_file.close()\n",
    "keras_model = keras.models.model_from_json(keras_json)\n",
    "keras_model.load_weights(os.path.join(f.get_output_directory(),'BestWaveNet.weights'))"
   ]
  },
  {
   "cell_type": "code",
   "execution_count": 37,
   "metadata": {
    "pycharm": {
     "is_executing": false
    }
   },
   "outputs": [],
   "source": [
    "y_pred = [keras_model.predict(r.train_x_data)] # we are expecting the predictions to be a list of arrays \n",
    "predictions = [y.argmax(axis=2) for y in y_pred] # classes\n",
    "predictions_smooth = model.predict_smooth(r.train_x_data)\n"
   ]
  },
  {
   "cell_type": "code",
   "execution_count": 38,
   "metadata": {
    "pycharm": {
     "is_executing": false
    }
   },
   "outputs": [
    {
     "data": {
      "text/plain": [
       "array([<matplotlib.axes._subplots.AxesSubplot object at 0x7fc5758c99d0>,\n",
       "       <matplotlib.axes._subplots.AxesSubplot object at 0x7fc57595d550>,\n",
       "       <matplotlib.axes._subplots.AxesSubplot object at 0x7fc575967a10>,\n",
       "       <matplotlib.axes._subplots.AxesSubplot object at 0x7fc5759f7250>],\n",
       "      dtype=object)"
      ]
     },
     "execution_count": 38,
     "metadata": {},
     "output_type": "execute_result"
    },
    {
     "data": {
      "image/png": "[encoded data removed]",
      "text/plain": [
       "<Figure size 432x288 with 4 Axes>"
      ]
     },
     "metadata": {
      "needs_background": "light"
     },
     "output_type": "display_data"
    }
   ],
   "source": [
    "pandas.DataFrame(numpy.vstack([smoothed_predictions[0][100,:],predictions[0][100,:],true[0][100,:],r.train_y_data_smooth[0][100,:]]).transpose(), columns=['smoothed','raw','true classes','true profile']).plot(subplots=True)\n"
   ]
  },
  {
   "cell_type": "markdown",
   "metadata": {},
   "source": [
    "# Loading pretrained model weights"
   ]
  },
  {
   "cell_type": "markdown",
   "metadata": {},
   "source": [
    "Pretrained model weights can be loaded either from saved `keras` models, saved `ChromWave` models or as saved `numpy` array. "
   ]
  },
  {
   "cell_type": "markdown",
   "metadata": {},
   "source": [
    "Let's use the pre-trained filters from our keras model that predicts nucleosome binding given a DNA-sequence based on the Chemcial Cleavage data from `Brogaard et al 2012`. "
   ]
  },
  {
   "cell_type": "code",
   "execution_count": 39,
   "metadata": {
    "pycharm": {
     "is_executing": false
    }
   },
   "outputs": [],
   "source": [
    "nuc_model=os.path.join(model_dir,'nucleosomes/brogaard2012_nucModel_6.h5')"
   ]
  },
  {
   "cell_type": "markdown",
   "metadata": {},
   "source": [
    "Let's pool the pretrained layers and load the convolutional weights of the model trained on the Brogaard data. The ChromWave function `_load_conv_weights` returns the convolutional weights and biases."
   ]
  },
  {
   "cell_type": "code",
   "execution_count": 40,
   "metadata": {
    "pycharm": {
     "is_executing": false
    }
   },
   "outputs": [
    {
     "name": "stderr",
     "output_type": "stream",
     "text": [
      "/home/cakiroa/software/miniconda3/envs/chromwave/lib/python3.7/site-packages/keras/engine/saving.py:384: UserWarning: Error in loading the saved optimizer state. As a result, your model is starting with a freshly initialized optimizer.\n",
      "  warnings.warn('Error in loading the saved optimizer '\n"
     ]
    },
    {
     "data": {
      "text/plain": [
       "[array([[[ 4.66615371e-02,  7.36842975e-02,  1.34514481e-01, ...,\n",
       "          -5.05942822e-01, -2.25814171e-02, -1.37842238e-01],\n",
       "         [-4.46681753e-02, -4.10924911e-01, -2.82709658e-01, ...,\n",
       "           1.52719140e-01, -1.07457452e-02,  1.91821113e-01],\n",
       "         [-1.79955706e-01,  2.55427230e-02,  8.19325671e-02, ...,\n",
       "          -3.82968783e-01, -9.05162543e-02,  1.79694816e-02],\n",
       "         [-4.30578068e-02, -9.05019343e-02, -1.87613800e-01, ...,\n",
       "           9.37014520e-02, -1.97507674e-03, -3.79237175e-01]],\n",
       " \n",
       "        [[ 7.27666169e-03,  2.05407683e-02,  3.06225084e-02, ...,\n",
       "          -4.28343087e-01, -2.26044729e-01, -9.87959467e-03],\n",
       "         [-3.76675725e-01,  1.42846666e-02, -4.22633201e-01, ...,\n",
       "          -3.71496886e-01,  1.08102202e-01, -1.82060853e-01],\n",
       "         [-2.67348051e-01,  1.17250606e-01, -9.81899574e-02, ...,\n",
       "          -3.85653347e-01, -4.18530464e-01, -2.28208438e-01],\n",
       "         [ 6.67454228e-02, -4.30497378e-01,  1.58322994e-02, ...,\n",
       "           1.65233165e-01,  7.65468553e-02,  9.25616026e-02]],\n",
       " \n",
       "        [[ 9.87832695e-02,  2.21093856e-02,  1.45129621e-01, ...,\n",
       "           1.85953796e-01, -3.30699176e-01, -2.10515290e-01],\n",
       "         [-8.13415051e-02, -2.60622054e-02, -3.59905779e-01, ...,\n",
       "          -2.84453690e-01, -3.48827809e-01, -3.22816223e-02],\n",
       "         [-5.01385450e-01, -1.49129480e-01, -2.86282361e-01, ...,\n",
       "          -4.45417553e-01, -3.90214652e-01, -7.88973570e-02],\n",
       "         [-5.83942533e-01,  1.92977265e-02,  3.16797830e-02, ...,\n",
       "          -3.33338171e-01,  2.01912284e-01,  8.97617787e-02]],\n",
       " \n",
       "        [[-9.25122052e-02, -4.15064335e-01,  7.02322423e-02, ...,\n",
       "           3.19697186e-02,  1.45156339e-01, -1.49568468e-01],\n",
       "         [ 2.07433581e-01, -1.34556323e-01, -3.87060016e-01, ...,\n",
       "          -7.27252290e-02, -4.49932873e-01, -6.06961101e-02],\n",
       "         [-2.58868903e-01, -3.31909239e-01, -4.09597218e-01, ...,\n",
       "          -1.95041746e-02, -4.04347211e-01, -5.24188799e-04],\n",
       "         [-6.03510439e-02,  1.49543658e-01,  7.14541003e-02, ...,\n",
       "          -7.69265369e-02, -3.91999811e-01, -4.53013033e-02]],\n",
       " \n",
       "        [[-3.22246164e-01, -8.07865933e-02, -4.00400944e-02, ...,\n",
       "           5.66707877e-03,  1.12231202e-01, -1.08603843e-01],\n",
       "         [-1.95432290e-01, -4.42195207e-01,  8.35746247e-03, ...,\n",
       "          -1.41373416e-02, -4.04095083e-01, -8.29010084e-03],\n",
       "         [ 1.85666025e-01, -4.27244574e-01, -2.64877111e-01, ...,\n",
       "          -9.31238085e-02,  1.31983846e-01,  5.54105267e-02],\n",
       "         [-1.06540658e-01,  1.44334614e-01,  2.96997279e-03, ...,\n",
       "           7.78342877e-03, -2.00469419e-01,  1.21404715e-01]],\n",
       " \n",
       "        [[-5.95697105e-01,  7.31589571e-02, -1.76301122e-01, ...,\n",
       "          -1.90443769e-01,  3.77605902e-03,  5.37579618e-02],\n",
       "         [-1.36602178e-01, -4.17838007e-01,  8.80975798e-02, ...,\n",
       "           5.56002222e-02, -1.17641501e-01,  7.81602785e-02],\n",
       "         [ 2.07048982e-01,  6.40714467e-02, -2.80222241e-02, ...,\n",
       "           5.40849492e-02,  5.54913022e-02,  2.51112878e-03],\n",
       "         [-7.37066865e-02, -4.88092422e-01,  3.12293898e-02, ...,\n",
       "          -3.80097143e-02, -9.85258147e-02, -3.48201871e-01]]],\n",
       "       dtype=float32),\n",
       " array([-0.07856723, -0.05914858, -0.08167884, -0.03285452, -0.04953668,\n",
       "        -0.08026295, -0.11308154, -0.10568324, -0.06677644, -0.06109373,\n",
       "        -0.07862696, -0.06383903, -0.09907293, -0.09558696, -0.0809845 ,\n",
       "        -0.04268377, -0.06063371, -0.04603538, -0.09006474, -0.05168315,\n",
       "        -0.09900066, -0.07183173, -0.08839235, -0.04038971, -0.11874363,\n",
       "        -0.07789013, -0.06541999, -0.10891198, -0.05075623, -0.08410231,\n",
       "        -0.04678338, -0.0530162 , -0.1004752 , -0.09959976, -0.06778507,\n",
       "        -0.04468922, -0.07149416, -0.09223371, -0.08486793, -0.07800681,\n",
       "        -0.06745092, -0.10867041, -0.08640911, -0.05704473, -0.06418653,\n",
       "        -0.08760387, -0.06653135, -0.05217849, -0.04870981, -0.10027282,\n",
       "        -0.10969498, -0.05719358, -0.12893273, -0.07185741, -0.0625998 ,\n",
       "        -0.04297571, -0.08131111, -0.0851381 , -0.04755708, -0.05662005,\n",
       "        -0.09781269, -0.04909897, -0.04391206, -0.08828166, -0.10456433,\n",
       "        -0.08746661, -0.08226584, -0.11193982, -0.10624443, -0.09362919,\n",
       "        -0.0686021 , -0.0668424 , -0.07538676, -0.08609904, -0.07367441,\n",
       "        -0.07127716, -0.09453522, -0.03953357, -0.04687838, -0.10293204,\n",
       "        -0.06384013, -0.02038758, -0.0710922 , -0.1129336 , -0.0491995 ,\n",
       "        -0.05142139, -0.04648621, -0.07342567, -0.07306056, -0.06339312,\n",
       "        -0.04496848, -0.05148312, -0.07300664, -0.04619469, -0.05228217,\n",
       "        -0.10300709, -0.12215455, -0.07509001, -0.02145402, -0.05409825,\n",
       "        -0.06842465, -0.0687302 , -0.06039259, -0.07420573, -0.05450763,\n",
       "        -0.1192848 , -0.11317538, -0.13268708, -0.06392217, -0.08854798,\n",
       "        -0.0759691 , -0.04757166, -0.05268317, -0.03595344, -0.07472019,\n",
       "        -0.0742538 , -0.0737193 , -0.04398422, -0.06663591, -0.05732408,\n",
       "        -0.092114  , -0.09026177, -0.06912187, -0.04901138, -0.05732514,\n",
       "        -0.0596507 , -0.0694005 , -0.06785749, -0.05478808, -0.10745271,\n",
       "        -0.06788576, -0.05283671, -0.03551586, -0.07964136, -0.10219378,\n",
       "        -0.08992323, -0.08049204, -0.08724742, -0.10186879, -0.05380419,\n",
       "        -0.0734343 , -0.1046874 , -0.02598659, -0.05577844, -0.09016114,\n",
       "        -0.04186243, -0.06838592, -0.0919353 , -0.07942399, -0.06249739,\n",
       "        -0.0265945 , -0.05634804, -0.10354342, -0.12927409, -0.0602503 ,\n",
       "        -0.08740325, -0.04964431, -0.09877764, -0.06611317, -0.04226734,\n",
       "        -0.09354694, -0.085778  , -0.08049519, -0.07792094, -0.09146976,\n",
       "        -0.0904729 , -0.09396785, -0.06726091, -0.09380179, -0.06834669,\n",
       "        -0.07546488, -0.10145323, -0.05139544, -0.11507072, -0.10372397,\n",
       "        -0.04891878, -0.09131325, -0.09941481, -0.11320912, -0.04052885,\n",
       "        -0.05805865, -0.06064544, -0.07223533, -0.060266  , -0.03962081,\n",
       "        -0.08377387, -0.07881519, -0.05904012, -0.07124083, -0.11561588,\n",
       "        -0.0813241 , -0.05153432, -0.07328267, -0.09046902, -0.02797169,\n",
       "        -0.06700794, -0.08338734, -0.08940828, -0.10457187, -0.06353772,\n",
       "        -0.09755652, -0.07862755, -0.09143396, -0.06822076, -0.05382117,\n",
       "        -0.09259626, -0.03893258, -0.10019808, -0.08966368, -0.0824654 ,\n",
       "        -0.09414712, -0.11596107, -0.09474183, -0.10345644, -0.10853869,\n",
       "        -0.07263016, -0.08389174, -0.02982253, -0.07632048, -0.08129089,\n",
       "        -0.03835258, -0.07686674, -0.07061496, -0.1048172 , -0.04980956,\n",
       "        -0.06249988, -0.10980545, -0.06779306, -0.09593482, -0.11298659,\n",
       "        -0.07927164, -0.10667694, -0.08947871, -0.02766471, -0.06293377,\n",
       "        -0.04643373, -0.09249274, -0.08495946, -0.04701163, -0.0517106 ,\n",
       "        -0.05303534, -0.06843743, -0.06628913, -0.04389173, -0.09396402,\n",
       "        -0.07796166, -0.04262573, -0.05793344, -0.04466914, -0.08894894,\n",
       "        -0.08510192, -0.09275951, -0.08541024, -0.09667723, -0.11613791,\n",
       "        -0.06660883], dtype=float32)]"
      ]
     },
     "execution_count": 40,
     "metadata": {},
     "output_type": "execute_result"
    }
   ],
   "source": [
    "model._pool_pretrained_conv=['global']\n",
    "model._load_conv_weights(nuc_model, 'keras')"
   ]
  },
  {
   "cell_type": "markdown",
   "metadata": {},
   "source": [
    "We can easliy rebuild the model passing the path to the directory of the pretrained model and the type of model, e.g. in this case it's a keras model. The other options are `numpy` if the weights and biases were saved as numpy arrays, or `chromwave` which is a pretrained ChromWave model. We are here only passing one model but you can pass several as a list of directories, and you can also pass keras and chromwave models. "
   ]
  },
  {
   "cell_type": "code",
   "execution_count": 41,
   "metadata": {
    "pycharm": {
     "is_executing": false
    }
   },
   "outputs": [
    {
     "name": "stdout",
     "output_type": "stream",
     "text": [
      "Loading pre-trained model weights 0/1\n"
     ]
    },
    {
     "name": "stderr",
     "output_type": "stream",
     "text": [
      "/home/cakiroa/software/miniconda3/envs/chromwave/lib/python3.7/site-packages/keras/engine/saving.py:384: UserWarning: Error in loading the saved optimizer state. As a result, your model is starting with a freshly initialized optimizer.\n",
      "  warnings.warn('Error in loading the saved optimizer '\n"
     ]
    },
    {
     "name": "stdout",
     "output_type": "stream",
     "text": [
      "Pooling not specified for pretrained models. Defaulting to global max pooling pretrained models.\n",
      "Defaulting to training all pretrained layers. These layers will be called conv_i_pretrained.\n",
      "Receptive Field: 2047 \n"
     ]
    }
   ],
   "source": [
    "model =  chromwavenet.ChromWaveNet()\n",
    "model.build(r, pretrained_models = {'keras': [nuc_model]})"
   ]
  },
  {
   "cell_type": "markdown",
   "metadata": {},
   "source": [
    "# Class weights and weighted misclassifications"
   ]
  },
  {
   "cell_type": "markdown",
   "metadata": {},
   "source": [
    "Because these data are highly imbalanced with the genomic average occurring mostly, we emply weighing of the predictions depending on the frequency of the classes by default. You can see those weights for each output profile using the method `model.class_weights`. To use these classes during training, you need to set the flag `weight_classes` to `True`. "
   ]
  },
  {
   "cell_type": "code",
   "execution_count": 42,
   "metadata": {
    "pycharm": {
     "is_executing": false
    }
   },
   "outputs": [
    {
     "data": {
      "text/plain": [
       "[array([1., 1., 1., 1., 1., 1., 1., 1., 1., 1., 1., 1., 1., 1., 1., 1., 1.,\n",
       "        1., 1., 1., 1., 1.])]"
      ]
     },
     "execution_count": 42,
     "metadata": {},
     "output_type": "execute_result"
    }
   ],
   "source": [
    "model.class_weights"
   ]
  },
  {
   "cell_type": "code",
   "execution_count": 43,
   "metadata": {
    "pycharm": {
     "is_executing": false
    }
   },
   "outputs": [
    {
     "name": "stdout",
     "output_type": "stream",
     "text": [
      "Receptive Field: 2047 \n",
      "Train on 6626 samples, validate on 1756 samples\n",
      "Epoch 1/2\n",
      "6626/6626 [==============================] - 44s 7ms/step - loss: 69976.5969 - categorical_accuracy: 0.0635 - categorical_mean_squared_error: 39.6058 - mean_classification_pearson_correlation: 0.2877 - val_loss: 58994.7701 - val_categorical_accuracy: 0.1116 - val_categorical_mean_squared_error: 10.2909 - val_mean_classification_pearson_correlation: 0.7420\n",
      "Epoch 2/2\n",
      "6626/6626 [==============================] - 35s 5ms/step - loss: 56786.4781 - categorical_accuracy: 0.1396 - categorical_mean_squared_error: 9.2404 - mean_classification_pearson_correlation: 0.6436 - val_loss: 51739.0994 - val_categorical_accuracy: 0.2203 - val_categorical_mean_squared_error: 3.3273 - val_mean_classification_pearson_correlation: 0.8389\n",
      "Saving model to file ... \n",
      "Performance of model on trainings data: \n",
      "6626/6626 [==============================] - 9s 1ms/step\n",
      "[49662.75512909018, 0.20906059443950653, 4.384615421295166, 0.7745941877365112]\n",
      "Performance of model on test data: \n",
      "1114/1114 [==============================] - 2s 1ms/step\n",
      "[49499.99312724417, 0.1940610408782959, 4.4285712242126465, 0.7781001329421997]\n",
      "Performance of model on validation data: \n",
      "1756/1756 [==============================] - 3s 1ms/step\n",
      "[51739.09944476082, 0.22025227546691895, 3.327272653579712, 0.8388909101486206]\n",
      "Plotting training history...\n",
      "Plotting distribution of class predictions, confusion matrices, and  best/worst predictions profiles...\n",
      "Plotting the confusion matrix for training set.....\n",
      "Normalized confusion matrix\n",
      "Plotting the confusion matrix for test set.....\n",
      "Normalized confusion matrix\n",
      "Plotting the confusion matrix for validation set.....\n",
      "Normalized confusion matrix\n",
      "Computing motif detectors ...\n",
      "Computing the PFMs of the motif detectors\n",
      "Saving all chr predictions... \n",
      "Receptive Field: 2047 \n",
      "plotting the predictions for all chromosomes\n",
      "Receptive Field: 2047 \n",
      "Time: 3.0533421436945596 mins\n"
     ]
    }
   ],
   "source": [
    "model.max_epochs =2\n",
    "start = time.time()\n",
    "# rebuilding the model before training  - otherwise we would just continue training the previous model\n",
    "model.train(r,f, rebuild=True, weight_classes=True)\n",
    "end=time.time()\n",
    "print('Time: ' + str((end-start)/60.)+' mins')"
   ]
  },
  {
   "cell_type": "markdown",
   "metadata": {},
   "source": [
    "In addition to the weighing of the predictions depending on the frequency of the classes, you can also weight the predictions so that incorrectly predicted higher classes have a higher influcence on the loss function than misclassification around the genomic mean. You need to pass an array with the desired weights to `model.penalties` and also set the flat `model.penalise_miscalssification` to `True`:"
   ]
  },
  {
   "cell_type": "code",
   "execution_count": 44,
   "metadata": {
    "pycharm": {
     "is_executing": false
    }
   },
   "outputs": [],
   "source": [
    "w_array = numpy.ones((r._output_bins[0], r._output_bins[0]))\n",
    "z = int(numpy.ceil(r._output_bins[0] / 2.))\n",
    "w_array[:z, -z:] = numpy.logspace(1, 1.2, num=z)\n",
    "w_array[-z:, :z] = numpy.logspace(1.2, 1, num=z)\n",
    "model.penalties = [w_array]\n",
    "model.penalise_misclassification = True"
   ]
  },
  {
   "cell_type": "code",
   "execution_count": 45,
   "metadata": {
    "pycharm": {
     "is_executing": false
    }
   },
   "outputs": [
    {
     "name": "stdout",
     "output_type": "stream",
     "text": [
      "Loading pre-trained model weights 0/1\n"
     ]
    },
    {
     "name": "stderr",
     "output_type": "stream",
     "text": [
      "/home/cakiroa/software/miniconda3/envs/chromwave/lib/python3.7/site-packages/keras/engine/saving.py:384: UserWarning: Error in loading the saved optimizer state. As a result, your model is starting with a freshly initialized optimizer.\n",
      "  warnings.warn('Error in loading the saved optimizer '\n"
     ]
    },
    {
     "name": "stdout",
     "output_type": "stream",
     "text": [
      "Receptive Field: 2047 \n",
      "Saving model to file ... \n",
      "Performance of model on trainings data: \n",
      "6626/6626 [==============================] - 10s 2ms/step\n",
      "[95469.23633048314, 0.1916569620370865, 6.605769157409668, 0.764873743057251]\n",
      "Performance of model on test data: \n",
      "1114/1114 [==============================] - 2s 2ms/step\n",
      "[92292.06559274012, 0.1749551147222519, 6.628571510314941, 0.7729658484458923]\n",
      "Performance of model on validation data: \n",
      "1756/1756 [==============================] - 3s 2ms/step\n",
      "[88426.92805025626, 0.2010640650987625, 5.363636493682861, 0.8300610780715942]\n",
      "Plotting training history...\n",
      "Plotting distribution of class predictions, confusion matrices, and  best/worst predictions profiles...\n",
      "Plotting the confusion matrix for training set.....\n",
      "Normalized confusion matrix\n",
      "Plotting the confusion matrix for test set.....\n",
      "Normalized confusion matrix\n",
      "Plotting the confusion matrix for validation set.....\n",
      "Normalized confusion matrix\n",
      "Computing motif detectors ...\n",
      "Computing the PFMs of the motif detectors\n"
     ]
    },
    {
     "ename": "ResourceExhaustedError",
     "evalue": " OOM when allocating tensor with shape[6626,256,1,2000] and type float on /job:localhost/replica:0/task:0/device:GPU:0 by allocator GPU_0_bfc\n\t [[node conv_0_pretrained_1/convolution (defined at /home/cakiroa/software/miniconda3/envs/chromwave/lib/python3.7/site-packages/keras/backend/tensorflow_backend.py:3009) ]]\nHint: If you want to see a list of allocated tensors when OOM happens, add report_tensor_allocations_upon_oom to RunOptions for current allocation info.\n [Op:__inference_keras_scratch_graph_303295]\n\nFunction call stack:\nkeras_scratch_graph\n",
     "output_type": "error",
     "traceback": [
      "\u001b[0;31m---------------------------------------------------------------------------\u001b[0m",
      "\u001b[0;31mResourceExhaustedError\u001b[0m                    Traceback (most recent call last)",
      "\u001b[0;32m<ipython-input-45-1aee45098efe>\u001b[0m in \u001b[0;36m<module>\u001b[0;34m\u001b[0m\n\u001b[1;32m      2\u001b[0m \u001b[0mstart\u001b[0m \u001b[0;34m=\u001b[0m \u001b[0mtime\u001b[0m\u001b[0;34m.\u001b[0m\u001b[0mtime\u001b[0m\u001b[0;34m(\u001b[0m\u001b[0;34m)\u001b[0m\u001b[0;34m\u001b[0m\u001b[0;34m\u001b[0m\u001b[0m\n\u001b[1;32m      3\u001b[0m \u001b[0;31m#\u001b[0m\u001b[0;34m\u001b[0m\u001b[0;34m\u001b[0m\u001b[0;34m\u001b[0m\u001b[0m\n\u001b[0;32m----> 4\u001b[0;31m \u001b[0mmodel\u001b[0m\u001b[0;34m.\u001b[0m\u001b[0mtrain\u001b[0m\u001b[0;34m(\u001b[0m\u001b[0mr\u001b[0m\u001b[0;34m,\u001b[0m\u001b[0mf\u001b[0m\u001b[0;34m,\u001b[0m \u001b[0mpretrained_models\u001b[0m \u001b[0;34m=\u001b[0m \u001b[0;34m{\u001b[0m\u001b[0;34m'keras'\u001b[0m\u001b[0;34m:\u001b[0m \u001b[0;34m[\u001b[0m\u001b[0mnuc_model\u001b[0m\u001b[0;34m]\u001b[0m\u001b[0;34m}\u001b[0m\u001b[0;34m,\u001b[0m\u001b[0mrebuild\u001b[0m\u001b[0;34m=\u001b[0m\u001b[0;32mTrue\u001b[0m\u001b[0;34m,\u001b[0m \u001b[0mweight_classes\u001b[0m\u001b[0;34m=\u001b[0m\u001b[0;32mTrue\u001b[0m\u001b[0;34m)\u001b[0m\u001b[0;34m\u001b[0m\u001b[0;34m\u001b[0m\u001b[0m\n\u001b[0m\u001b[1;32m      5\u001b[0m \u001b[0mend\u001b[0m\u001b[0;34m=\u001b[0m\u001b[0mtime\u001b[0m\u001b[0;34m.\u001b[0m\u001b[0mtime\u001b[0m\u001b[0;34m(\u001b[0m\u001b[0;34m)\u001b[0m\u001b[0;34m\u001b[0m\u001b[0;34m\u001b[0m\u001b[0m\n\u001b[1;32m      6\u001b[0m \u001b[0mprint\u001b[0m\u001b[0;34m(\u001b[0m\u001b[0;34m'Time: '\u001b[0m \u001b[0;34m+\u001b[0m \u001b[0mstr\u001b[0m\u001b[0;34m(\u001b[0m\u001b[0;34m(\u001b[0m\u001b[0mend\u001b[0m\u001b[0;34m-\u001b[0m\u001b[0mstart\u001b[0m\u001b[0;34m)\u001b[0m\u001b[0;34m/\u001b[0m\u001b[0;36m60.\u001b[0m\u001b[0;34m)\u001b[0m\u001b[0;34m+\u001b[0m\u001b[0;34m' mins'\u001b[0m\u001b[0;34m)\u001b[0m\u001b[0;34m\u001b[0m\u001b[0;34m\u001b[0m\u001b[0m\n",
      "\u001b[0;32m~/projects/ChromWave_python3/chromwave/chromwavenet.py\u001b[0m in \u001b[0;36mtrain\u001b[0;34m(self, runtime_dataset, filesystem, pretrained_models, weight_classes, rebuild)\u001b[0m\n\u001b[1;32m    950\u001b[0m \u001b[0;34m\u001b[0m\u001b[0m\n\u001b[1;32m    951\u001b[0m         \u001b[0mprint\u001b[0m\u001b[0;34m(\u001b[0m\u001b[0;34m'Computing motif detectors ...'\u001b[0m\u001b[0;34m)\u001b[0m\u001b[0;34m\u001b[0m\u001b[0;34m\u001b[0m\u001b[0m\n\u001b[0;32m--> 952\u001b[0;31m         \u001b[0mself\u001b[0m\u001b[0;34m.\u001b[0m\u001b[0m_compute_PFM_motif_detectors\u001b[0m\u001b[0;34m(\u001b[0m\u001b[0mruntime_dataset\u001b[0m\u001b[0;34m,\u001b[0m\u001b[0mfilesystem\u001b[0m\u001b[0;34m.\u001b[0m\u001b[0mget_output_directory\u001b[0m\u001b[0;34m(\u001b[0m\u001b[0;34m)\u001b[0m\u001b[0;34m)\u001b[0m\u001b[0;34m\u001b[0m\u001b[0;34m\u001b[0m\u001b[0m\n\u001b[0m\u001b[1;32m    953\u001b[0m \u001b[0;34m\u001b[0m\u001b[0m\n\u001b[1;32m    954\u001b[0m         \u001b[0mprint\u001b[0m\u001b[0;34m(\u001b[0m\u001b[0;34m'Saving all chr predictions... '\u001b[0m\u001b[0;34m)\u001b[0m\u001b[0;34m\u001b[0m\u001b[0;34m\u001b[0m\u001b[0m\n",
      "\u001b[0;32m~/projects/ChromWave_python3/chromwave/chromwavenet.py\u001b[0m in \u001b[0;36m_compute_PFM_motif_detectors\u001b[0;34m(self, runtime_dataset, out_dir, percentile)\u001b[0m\n\u001b[1;32m   1693\u001b[0m             \u001b[0;31m# getting positions of the max of the convolutional filters along each sequence: start_x is of shape (#training sequences, # filters of conv_layer)\u001b[0m\u001b[0;34m\u001b[0m\u001b[0;34m\u001b[0m\u001b[0;34m\u001b[0m\u001b[0m\n\u001b[1;32m   1694\u001b[0m             \u001b[0mstart\u001b[0m \u001b[0;34m=\u001b[0m \u001b[0mK\u001b[0m\u001b[0;34m.\u001b[0m\u001b[0mfunction\u001b[0m\u001b[0;34m(\u001b[0m\u001b[0;34m[\u001b[0m\u001b[0minput_var\u001b[0m\u001b[0;34m]\u001b[0m\u001b[0;34m,\u001b[0m \u001b[0;34m[\u001b[0m\u001b[0mK\u001b[0m\u001b[0;34m.\u001b[0m\u001b[0margmax\u001b[0m\u001b[0;34m(\u001b[0m\u001b[0mconv_layer\u001b[0m\u001b[0;34m,\u001b[0m \u001b[0maxis\u001b[0m\u001b[0;34m=\u001b[0m\u001b[0;36m1\u001b[0m\u001b[0;34m)\u001b[0m\u001b[0;34m]\u001b[0m\u001b[0;34m)\u001b[0m\u001b[0;34m\u001b[0m\u001b[0;34m\u001b[0m\u001b[0m\n\u001b[0;32m-> 1695\u001b[0;31m             \u001b[0mstart_x\u001b[0m \u001b[0;34m=\u001b[0m \u001b[0mnumpy\u001b[0m\u001b[0;34m.\u001b[0m\u001b[0masarray\u001b[0m\u001b[0;34m(\u001b[0m\u001b[0mstart\u001b[0m\u001b[0;34m(\u001b[0m\u001b[0;34m[\u001b[0m\u001b[0mruntime_dataset\u001b[0m\u001b[0;34m.\u001b[0m\u001b[0mtrain_x_data\u001b[0m\u001b[0;34m]\u001b[0m\u001b[0;34m)\u001b[0m\u001b[0;34m[\u001b[0m\u001b[0;36m0\u001b[0m\u001b[0;34m]\u001b[0m\u001b[0;34m)\u001b[0m\u001b[0;34m\u001b[0m\u001b[0;34m\u001b[0m\u001b[0m\n\u001b[0m\u001b[1;32m   1696\u001b[0m             \u001b[0;31m# getting the poition of the last sequence position that contributes to the argmax of the filter\u001b[0m\u001b[0;34m\u001b[0m\u001b[0;34m\u001b[0m\u001b[0;34m\u001b[0m\u001b[0m\n\u001b[1;32m   1697\u001b[0m             \u001b[0mend_x\u001b[0m \u001b[0;34m=\u001b[0m \u001b[0mstart_x\u001b[0m \u001b[0;34m+\u001b[0m \u001b[0mself\u001b[0m\u001b[0;34m.\u001b[0m\u001b[0m_neural_network\u001b[0m\u001b[0;34m.\u001b[0m\u001b[0mget_layer\u001b[0m\u001b[0;34m(\u001b[0m\u001b[0mconv_layer_key\u001b[0m\u001b[0;34m)\u001b[0m\u001b[0;34m.\u001b[0m\u001b[0mget_config\u001b[0m\u001b[0;34m(\u001b[0m\u001b[0;34m)\u001b[0m\u001b[0;34m[\u001b[0m\u001b[0;34m'kernel_size'\u001b[0m\u001b[0;34m]\u001b[0m\u001b[0;34m[\u001b[0m\u001b[0;36m0\u001b[0m\u001b[0;34m]\u001b[0m\u001b[0;34m\u001b[0m\u001b[0;34m\u001b[0m\u001b[0m\n",
      "\u001b[0;32m~/software/miniconda3/envs/chromwave/lib/python3.7/site-packages/tensorflow_core/python/keras/backend.py\u001b[0m in \u001b[0;36m__call__\u001b[0;34m(self, inputs)\u001b[0m\n\u001b[1;32m   3725\u001b[0m         \u001b[0mvalue\u001b[0m \u001b[0;34m=\u001b[0m \u001b[0mmath_ops\u001b[0m\u001b[0;34m.\u001b[0m\u001b[0mcast\u001b[0m\u001b[0;34m(\u001b[0m\u001b[0mvalue\u001b[0m\u001b[0;34m,\u001b[0m \u001b[0mtensor\u001b[0m\u001b[0;34m.\u001b[0m\u001b[0mdtype\u001b[0m\u001b[0;34m)\u001b[0m\u001b[0;34m\u001b[0m\u001b[0;34m\u001b[0m\u001b[0m\n\u001b[1;32m   3726\u001b[0m       \u001b[0mconverted_inputs\u001b[0m\u001b[0;34m.\u001b[0m\u001b[0mappend\u001b[0m\u001b[0;34m(\u001b[0m\u001b[0mvalue\u001b[0m\u001b[0;34m)\u001b[0m\u001b[0;34m\u001b[0m\u001b[0;34m\u001b[0m\u001b[0m\n\u001b[0;32m-> 3727\u001b[0;31m     \u001b[0moutputs\u001b[0m \u001b[0;34m=\u001b[0m \u001b[0mself\u001b[0m\u001b[0;34m.\u001b[0m\u001b[0m_graph_fn\u001b[0m\u001b[0;34m(\u001b[0m\u001b[0;34m*\u001b[0m\u001b[0mconverted_inputs\u001b[0m\u001b[0;34m)\u001b[0m\u001b[0;34m\u001b[0m\u001b[0;34m\u001b[0m\u001b[0m\n\u001b[0m\u001b[1;32m   3728\u001b[0m \u001b[0;34m\u001b[0m\u001b[0m\n\u001b[1;32m   3729\u001b[0m     \u001b[0;31m# EagerTensor.numpy() will often make a copy to ensure memory safety.\u001b[0m\u001b[0;34m\u001b[0m\u001b[0;34m\u001b[0m\u001b[0;34m\u001b[0m\u001b[0m\n",
      "\u001b[0;32m~/software/miniconda3/envs/chromwave/lib/python3.7/site-packages/tensorflow_core/python/eager/function.py\u001b[0m in \u001b[0;36m__call__\u001b[0;34m(self, *args, **kwargs)\u001b[0m\n\u001b[1;32m   1549\u001b[0m       \u001b[0mTypeError\u001b[0m\u001b[0;34m:\u001b[0m \u001b[0mFor\u001b[0m \u001b[0minvalid\u001b[0m \u001b[0mpositional\u001b[0m\u001b[0;34m/\u001b[0m\u001b[0mkeyword\u001b[0m \u001b[0margument\u001b[0m \u001b[0mcombinations\u001b[0m\u001b[0;34m.\u001b[0m\u001b[0;34m\u001b[0m\u001b[0;34m\u001b[0m\u001b[0m\n\u001b[1;32m   1550\u001b[0m     \"\"\"\n\u001b[0;32m-> 1551\u001b[0;31m     \u001b[0;32mreturn\u001b[0m \u001b[0mself\u001b[0m\u001b[0;34m.\u001b[0m\u001b[0m_call_impl\u001b[0m\u001b[0;34m(\u001b[0m\u001b[0margs\u001b[0m\u001b[0;34m,\u001b[0m \u001b[0mkwargs\u001b[0m\u001b[0;34m)\u001b[0m\u001b[0;34m\u001b[0m\u001b[0;34m\u001b[0m\u001b[0m\n\u001b[0m\u001b[1;32m   1552\u001b[0m \u001b[0;34m\u001b[0m\u001b[0m\n\u001b[1;32m   1553\u001b[0m   \u001b[0;32mdef\u001b[0m \u001b[0m_call_impl\u001b[0m\u001b[0;34m(\u001b[0m\u001b[0mself\u001b[0m\u001b[0;34m,\u001b[0m \u001b[0margs\u001b[0m\u001b[0;34m,\u001b[0m \u001b[0mkwargs\u001b[0m\u001b[0;34m,\u001b[0m \u001b[0mcancellation_manager\u001b[0m\u001b[0;34m=\u001b[0m\u001b[0;32mNone\u001b[0m\u001b[0;34m)\u001b[0m\u001b[0;34m:\u001b[0m\u001b[0;34m\u001b[0m\u001b[0;34m\u001b[0m\u001b[0m\n",
      "\u001b[0;32m~/software/miniconda3/envs/chromwave/lib/python3.7/site-packages/tensorflow_core/python/eager/function.py\u001b[0m in \u001b[0;36m_call_impl\u001b[0;34m(self, args, kwargs, cancellation_manager)\u001b[0m\n\u001b[1;32m   1589\u001b[0m       raise TypeError(\"Keyword arguments {} unknown. Expected {}.\".format(\n\u001b[1;32m   1590\u001b[0m           list(kwargs.keys()), list(self._arg_keywords)))\n\u001b[0;32m-> 1591\u001b[0;31m     \u001b[0;32mreturn\u001b[0m \u001b[0mself\u001b[0m\u001b[0;34m.\u001b[0m\u001b[0m_call_flat\u001b[0m\u001b[0;34m(\u001b[0m\u001b[0margs\u001b[0m\u001b[0;34m,\u001b[0m \u001b[0mself\u001b[0m\u001b[0;34m.\u001b[0m\u001b[0mcaptured_inputs\u001b[0m\u001b[0;34m,\u001b[0m \u001b[0mcancellation_manager\u001b[0m\u001b[0;34m)\u001b[0m\u001b[0;34m\u001b[0m\u001b[0;34m\u001b[0m\u001b[0m\n\u001b[0m\u001b[1;32m   1592\u001b[0m \u001b[0;34m\u001b[0m\u001b[0m\n\u001b[1;32m   1593\u001b[0m   \u001b[0;32mdef\u001b[0m \u001b[0m_filtered_call\u001b[0m\u001b[0;34m(\u001b[0m\u001b[0mself\u001b[0m\u001b[0;34m,\u001b[0m \u001b[0margs\u001b[0m\u001b[0;34m,\u001b[0m \u001b[0mkwargs\u001b[0m\u001b[0;34m)\u001b[0m\u001b[0;34m:\u001b[0m\u001b[0;34m\u001b[0m\u001b[0;34m\u001b[0m\u001b[0m\n",
      "\u001b[0;32m~/software/miniconda3/envs/chromwave/lib/python3.7/site-packages/tensorflow_core/python/eager/function.py\u001b[0m in \u001b[0;36m_call_flat\u001b[0;34m(self, args, captured_inputs, cancellation_manager)\u001b[0m\n\u001b[1;32m   1690\u001b[0m       \u001b[0;31m# No tape is watching; skip to running the function.\u001b[0m\u001b[0;34m\u001b[0m\u001b[0;34m\u001b[0m\u001b[0;34m\u001b[0m\u001b[0m\n\u001b[1;32m   1691\u001b[0m       return self._build_call_outputs(self._inference_function.call(\n\u001b[0;32m-> 1692\u001b[0;31m           ctx, args, cancellation_manager=cancellation_manager))\n\u001b[0m\u001b[1;32m   1693\u001b[0m     forward_backward = self._select_forward_and_backward_functions(\n\u001b[1;32m   1694\u001b[0m         \u001b[0margs\u001b[0m\u001b[0;34m,\u001b[0m\u001b[0;34m\u001b[0m\u001b[0;34m\u001b[0m\u001b[0m\n",
      "\u001b[0;32m~/software/miniconda3/envs/chromwave/lib/python3.7/site-packages/tensorflow_core/python/eager/function.py\u001b[0m in \u001b[0;36mcall\u001b[0;34m(self, ctx, args, cancellation_manager)\u001b[0m\n\u001b[1;32m    543\u001b[0m               \u001b[0minputs\u001b[0m\u001b[0;34m=\u001b[0m\u001b[0margs\u001b[0m\u001b[0;34m,\u001b[0m\u001b[0;34m\u001b[0m\u001b[0;34m\u001b[0m\u001b[0m\n\u001b[1;32m    544\u001b[0m               \u001b[0mattrs\u001b[0m\u001b[0;34m=\u001b[0m\u001b[0;34m(\u001b[0m\u001b[0;34m\"executor_type\"\u001b[0m\u001b[0;34m,\u001b[0m \u001b[0mexecutor_type\u001b[0m\u001b[0;34m,\u001b[0m \u001b[0;34m\"config_proto\"\u001b[0m\u001b[0;34m,\u001b[0m \u001b[0mconfig\u001b[0m\u001b[0;34m)\u001b[0m\u001b[0;34m,\u001b[0m\u001b[0;34m\u001b[0m\u001b[0;34m\u001b[0m\u001b[0m\n\u001b[0;32m--> 545\u001b[0;31m               ctx=ctx)\n\u001b[0m\u001b[1;32m    546\u001b[0m         \u001b[0;32melse\u001b[0m\u001b[0;34m:\u001b[0m\u001b[0;34m\u001b[0m\u001b[0;34m\u001b[0m\u001b[0m\n\u001b[1;32m    547\u001b[0m           outputs = execute.execute_with_cancellation(\n",
      "\u001b[0;32m~/software/miniconda3/envs/chromwave/lib/python3.7/site-packages/tensorflow_core/python/eager/execute.py\u001b[0m in \u001b[0;36mquick_execute\u001b[0;34m(op_name, num_outputs, inputs, attrs, ctx, name)\u001b[0m\n\u001b[1;32m     65\u001b[0m     \u001b[0;32melse\u001b[0m\u001b[0;34m:\u001b[0m\u001b[0;34m\u001b[0m\u001b[0;34m\u001b[0m\u001b[0m\n\u001b[1;32m     66\u001b[0m       \u001b[0mmessage\u001b[0m \u001b[0;34m=\u001b[0m \u001b[0me\u001b[0m\u001b[0;34m.\u001b[0m\u001b[0mmessage\u001b[0m\u001b[0;34m\u001b[0m\u001b[0;34m\u001b[0m\u001b[0m\n\u001b[0;32m---> 67\u001b[0;31m     \u001b[0msix\u001b[0m\u001b[0;34m.\u001b[0m\u001b[0mraise_from\u001b[0m\u001b[0;34m(\u001b[0m\u001b[0mcore\u001b[0m\u001b[0;34m.\u001b[0m\u001b[0m_status_to_exception\u001b[0m\u001b[0;34m(\u001b[0m\u001b[0me\u001b[0m\u001b[0;34m.\u001b[0m\u001b[0mcode\u001b[0m\u001b[0;34m,\u001b[0m \u001b[0mmessage\u001b[0m\u001b[0;34m)\u001b[0m\u001b[0;34m,\u001b[0m \u001b[0;32mNone\u001b[0m\u001b[0;34m)\u001b[0m\u001b[0;34m\u001b[0m\u001b[0;34m\u001b[0m\u001b[0m\n\u001b[0m\u001b[1;32m     68\u001b[0m   \u001b[0;32mexcept\u001b[0m \u001b[0mTypeError\u001b[0m \u001b[0;32mas\u001b[0m \u001b[0me\u001b[0m\u001b[0;34m:\u001b[0m\u001b[0;34m\u001b[0m\u001b[0;34m\u001b[0m\u001b[0m\n\u001b[1;32m     69\u001b[0m     keras_symbolic_tensors = [\n",
      "\u001b[0;32m~/software/miniconda3/envs/chromwave/lib/python3.7/site-packages/six.py\u001b[0m in \u001b[0;36mraise_from\u001b[0;34m(value, from_value)\u001b[0m\n",
      "\u001b[0;31mResourceExhaustedError\u001b[0m:  OOM when allocating tensor with shape[6626,256,1,2000] and type float on /job:localhost/replica:0/task:0/device:GPU:0 by allocator GPU_0_bfc\n\t [[node conv_0_pretrained_1/convolution (defined at /home/cakiroa/software/miniconda3/envs/chromwave/lib/python3.7/site-packages/keras/backend/tensorflow_backend.py:3009) ]]\nHint: If you want to see a list of allocated tensors when OOM happens, add report_tensor_allocations_upon_oom to RunOptions for current allocation info.\n [Op:__inference_keras_scratch_graph_303295]\n\nFunction call stack:\nkeras_scratch_graph\n"
     ]
    }
   ],
   "source": [
    "model.keras_verbose = 0# turning off some verbose during training\n",
    "start = time.time()\n",
    "# \n",
    "model.train(r,f, pretrained_models = {'keras': [nuc_model]},rebuild=True, weight_classes=True)\n",
    "end=time.time()\n",
    "print('Time: ' + str((end-start)/60.)+' mins')"
   ]
  },
  {
   "cell_type": "code",
   "execution_count": null,
   "metadata": {
    "pycharm": {
     "is_executing": false
    }
   },
   "outputs": [],
   "source": []
  },
  {
   "cell_type": "code",
   "execution_count": null,
   "metadata": {},
   "outputs": [],
   "source": []
  }
 ],
 "metadata": {
  "kernelspec": {
   "display_name": "Python 3",
   "language": "python",
   "name": "python3"
  },
  "language_info": {
   "codemirror_mode": {
    "name": "ipython",
    "version": 3
   },
   "file_extension": ".py",
   "mimetype": "text/x-python",
   "name": "python",
   "nbconvert_exporter": "python",
   "pygments_lexer": "ipython3",
   "version": "3.7.7"
  },
  "pycharm": {
   "stem_cell": {
    "cell_type": "raw",
    "metadata": {
     "collapsed": false
    },
    "source": []
   }
  }
 },
 "nbformat": 4,
 "nbformat_minor": 2
}
