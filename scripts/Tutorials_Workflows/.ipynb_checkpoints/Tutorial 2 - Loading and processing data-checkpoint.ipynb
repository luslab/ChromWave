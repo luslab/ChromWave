{
 "cells": [
  {
   "cell_type": "markdown",
   "metadata": {},
   "source": [
    "# How to preprocess data for ChromWave\n",
    "\n",
    "This tutorial explains how do load the raw data, preprocess it and inspect the results, smooth the data and finding the right parameters for the smoothing function, and how to discreties it to train a ChromWave model on. "
   ]
  },
  {
   "cell_type": "code",
   "execution_count": 1,
   "metadata": {},
   "outputs": [
    {
     "name": "stderr",
     "output_type": "stream",
     "text": [
      "Using TensorFlow backend.\n"
     ]
    }
   ],
   "source": [
    "import matplotlib\n",
    "%matplotlib inline\n",
    "from matplotlib import pyplot as plt\n",
    "import os\n",
    "import numpy\n",
    "import pandas\n",
    "import sys\n",
    "import time\n",
    "from chromwave import runtime_dataset, filesystem, chromwavenet, vis"
   ]
  },
  {
   "cell_type": "code",
   "execution_count": 2,
   "metadata": {},
   "outputs": [],
   "source": [
    "os.environ[\"CUDA_DEVICE_ORDER\"]=\"PCI_BUS_ID\"   # see issue #152\n",
    "os.environ[\"CUDA_VISIBLE_DEVICES\"]=\"\""
   ]
  },
  {
   "cell_type": "markdown",
   "metadata": {},
   "source": [
    "## Setting up the directories\n",
    "\n",
    "You'll need the data in the repository, please make sure you've cloned it and the working directoy points to it."
   ]
  },
  {
   "cell_type": "code",
   "execution_count": 3,
   "metadata": {},
   "outputs": [],
   "source": [
    "# working directory should be ChromWave/scripts/Tutorials_Workflows. if not change project dir to be the directory \n",
    "# containing the code for ChromWave\n",
    "project_dir = os.path.abspath(os.path.join(os.getcwd(),'../../../'))\n",
    "working_dir = os.path.join(project_dir, 'ChromWave')\n",
    "\n",
    "output_dir = os.path.join(project_dir,'Test')"
   ]
  },
  {
   "cell_type": "code",
   "execution_count": 4,
   "metadata": {},
   "outputs": [],
   "source": [
    "data_dir = os.path.join(working_dir, 'data')\n",
    "nuc_profile_inVivo = os.path.join(data_dir,'kaplan2009','Occupancy_inVivo_sacCer1.csv')\n"
   ]
  },
  {
   "cell_type": "markdown",
   "metadata": {},
   "source": [
    "## Setting up directories for input and output\n",
    "\n",
    "The first step in loading any data is to take care of all directories, e.g. checking they all exist and an output directory is created. The FileSystem object takes care of all of that. You can choose to 'overwrite' in which case the previous output directory (if it exists) gets a time stamp and a new directory is made. You can use the methods of the object to return the directories. You have to specify the genome directory and the output directory, while the source_profile is optional (if None, only the genomic data is loaded, e.g. for prediction).\n",
    "\n",
    "We only want to load the data and process without splitting it into training, test and validation sets, so we are settng test_fraction and val_fraction to None. "
   ]
  },
  {
   "cell_type": "code",
   "execution_count": 5,
   "metadata": {},
   "outputs": [],
   "source": [
    "f = filesystem.FileSystem(os.path.join(data_dir,'genomes/sacCer1'), os.path.join(output_dir,'kaplan2009'), \n",
    "                          source_profile=nuc_profile_inVivo, overwrite=True, resume=False,test_fraction = None, val_fraction =None)"
   ]
  },
  {
   "cell_type": "code",
   "execution_count": 6,
   "metadata": {},
   "outputs": [
    {
     "name": "stdout",
     "output_type": "stream",
     "text": [
      "Input directory:  /home/cakiroa/projects/GenomeNet_UpdateMaster/data/genomes/sacCer1\n",
      "Output directory:  /home/cakiroa/projects/Test/DataLoading/kaplan2009/chromwave_output\n",
      "Input directory:  ['/home/cakiroa/projects/GenomeNet_UpdateMaster/data/kaplan2009/Occupancy_inVivo_sacCer1.csv']\n"
     ]
    }
   ],
   "source": [
    "print('Input directory: ', f.get_genome_directory())\n",
    "print('Output directory: ',f.get_output_directory())\n",
    "print('Input directory: ', f.get_profile_directory())"
   ]
  },
  {
   "cell_type": "markdown",
   "metadata": {},
   "source": [
    "The fact that we are not splitting data in to training, test and validation set is captured by the `is training()` function of the FileSystem object."
   ]
  },
  {
   "cell_type": "code",
   "execution_count": 7,
   "metadata": {},
   "outputs": [
    {
     "data": {
      "text/plain": [
       "False"
      ]
     },
     "execution_count": 7,
     "metadata": {},
     "output_type": "execute_result"
    }
   ],
   "source": [
    "f.is_training()"
   ]
  },
  {
   "cell_type": "markdown",
   "metadata": {},
   "source": [
    "After setting up the FileSystem, we load the data as a RuntimeDataset object with the underlying FileSystem. We need to set the `data_format` to either `'processed_counts'` or `'raw_data'` - this will determine how the data is preprocessed, e.g. if genome mean is subtracted. \n",
    "In this case we use the preprocessed data from Kaplan et al. so we don't need to preprocess and choose  `'processed_counts'`."
   ]
  },
  {
   "cell_type": "code",
   "execution_count": 8,
   "metadata": {},
   "outputs": [],
   "source": [
    "r = runtime_dataset.RuntimeDataset(f)\n",
    "r.data_format = 'processed_counts'"
   ]
  },
  {
   "cell_type": "markdown",
   "metadata": {},
   "source": [
    "### Preprocessing parameters: smoothing the data"
   ]
  },
  {
   "cell_type": "markdown",
   "metadata": {},
   "source": [
    "We now have to specify how to process the data.  As we are using preprocessed data some processing parameters can be set to None as they're not applicable - we will use them later when we load TF/Nucleosome data. \n",
    "\n",
    "If `smooth_signal` is true, the data will then be smoothed with the function specified in `'smoothing_function'` which can be either `'gaussian_filter1d'` to pass a 1D Gaussian filter or `'savgol_filter'` to use a Savitzky-Golay filter. For the Gaussian filter, the standard deviation of the Gaussian kernel needs to be specified in `'sigma'` and `'truncate'` speicifies the value at how many standard deviations the filter is truncated. In the case of the Savitzky-Golay filter (`'smoothing_function': 'savgol_filter'`) the window length (`'window_length'`) and the polynomial order (`'polyorder'`) for the filter needs to be specified. \n",
    "\n",
    "After smoothing of the data, we discretise the continuous values by stretching the signal by a factor specified `'u'` and then taking the next smalles integer. The parameter `'u'` should be chosen so that the signals is discretised into 5-25 bins to be able to train a ChromWave in reasonable time.\n"
   ]
  },
  {
   "cell_type": "code",
   "execution_count": 9,
   "metadata": {},
   "outputs": [
    {
     "name": "stdout",
     "output_type": "stream",
     "text": [
      "Loading genomic data... \n"
     ]
    },
    {
     "name": "stderr",
     "output_type": "stream",
     "text": [
      "/home/cakiroa/software/miniconda3/envs/chromwave/lib/python3.7/site-packages/ipykernel_launcher.py:13: DeprecationWarning: time.clock has been deprecated in Python 3.3 and will be removed from Python 3.8: use time.perf_counter or time.process_time instead\n",
      "  del sys.path[0]\n"
     ]
    },
    {
     "name": "stdout",
     "output_type": "stream",
     "text": [
      "Mitochondrial chromosome will be kept as separate data...\n",
      "using pre-processing params:\n",
      "{'times_median_coverage_max': None, 'normalise_read_counts': None, 'smooth_signal': True, 'smoothing_function': 'gaussian_filter1d', 'sigma': 5, 'window_length': None, 'polyorder': None, 'truncate': 3, 'u': 2.5}\n",
      "I am assuming that the columns in the provided csv file are: seqname, start, score. If this is not the case, abort and change the input format!\n",
      "Binding profiles were binned into [22] bins.\n",
      "Time: 1.1781360666666667 mins\n"
     ]
    },
    {
     "name": "stderr",
     "output_type": "stream",
     "text": [
      "/home/cakiroa/software/miniconda3/envs/chromwave/lib/python3.7/site-packages/ipykernel_launcher.py:15: DeprecationWarning: time.clock has been deprecated in Python 3.3 and will be removed from Python 3.8: use time.perf_counter or time.process_time instead\n",
      "  from ipykernel import kernelapp as app\n"
     ]
    }
   ],
   "source": [
    "nuc_preprocessing_params = {'times_median_coverage_max': None,  \n",
    "                            'normalise_read_counts': None,\n",
    "                            'smooth_signal': True, \n",
    "                            'smoothing_function': 'gaussian_filter1d', \n",
    "                            'sigma': 5, \n",
    "                            'window_length':None,\n",
    "                            'polyorder':None,\n",
    "                            'truncate': 3, \n",
    "                            'u': 2.5,\n",
    "                            }\n",
    "\n",
    "r.preprocessing_params = [nuc_preprocessing_params]\n",
    "start = time.clock()\n",
    "r.load_data()\n",
    "end=time.clock()\n",
    "print('Time: ' + str((end-start)/60.)+' mins')"
   ]
  },
  {
   "cell_type": "markdown",
   "metadata": {},
   "source": [
    "Let's compare the original data with our smoothed and discretised data:"
   ]
  },
  {
   "cell_type": "code",
   "execution_count": 10,
   "metadata": {},
   "outputs": [
    {
     "data": {
      "text/plain": [
       "array([<matplotlib.axes._subplots.AxesSubplot object at 0x7f0fa55beb90>,\n",
       "       <matplotlib.axes._subplots.AxesSubplot object at 0x7f0f6a365390>,\n",
       "       <matplotlib.axes._subplots.AxesSubplot object at 0x7f0f6a32d850>],\n",
       "      dtype=object)"
      ]
     },
     "execution_count": 10,
     "metadata": {},
     "output_type": "execute_result"
    },
    {
     "data": {
      "image/png": "[encoded data removed]",
      "text/plain": [
       "<Figure size 432x288 with 3 Axes>"
      ]
     },
     "metadata": {
      "needs_background": "light"
     },
     "output_type": "display_data"
    }
   ],
   "source": [
    "pandas.DataFrame(numpy.vstack((r.y_data_discr[0][0][100],r.y_data[0][0][100],r.profile_data_split[0][0][100])).transpose(), columns=['discretised', 'smoothed','original']).plot(subplots=True)"
   ]
  },
  {
   "cell_type": "markdown",
   "metadata": {},
   "source": [
    "### Preprocessing parameters: finding the best smoothing parameters\n",
    "If the parameters (`'sigma'`, or `'window_length'` and `'polyorder'`) are `None` a grid search for the best comination is launched. This can take a few minutes and it is recommended not to be run if not necessary. "
   ]
  },
  {
   "cell_type": "code",
   "execution_count": 11,
   "metadata": {},
   "outputs": [
    {
     "name": "stderr",
     "output_type": "stream",
     "text": [
      "/home/cakiroa/software/miniconda3/envs/chromwave/lib/python3.7/site-packages/ipykernel_launcher.py:17: DeprecationWarning: time.clock has been deprecated in Python 3.3 and will be removed from Python 3.8: use time.perf_counter or time.process_time instead\n"
     ]
    },
    {
     "name": "stdout",
     "output_type": "stream",
     "text": [
      "Loading genomic data... \n",
      "Mitochondrial chromosome will be kept as separate data...\n",
      "using pre-processing params:\n",
      "{'times_median_coverage_max': None, 'normalise_read_counts': None, 'smooth_signal': True, 'smoothing_function': 'gaussian_filter1d', 'sigma': None, 'truncate': None, 'u': 2.5}\n",
      "I am assuming that the columns in the provided csv file are: seqname, start, score. If this is not the case, abort and change the input format!\n",
      "Searching for best standard deviation and truncate value via GridSearch with cross-validation. This will take a few minutes...\n",
      "Fitting 5 folds for each of 75 candidates, totalling 375 fits\n"
     ]
    },
    {
     "name": "stderr",
     "output_type": "stream",
     "text": [
      "[Parallel(n_jobs=1)]: Using backend SequentialBackend with 1 concurrent workers.\n",
      "[Parallel(n_jobs=1)]: Done 375 out of 375 | elapsed:  5.0min finished\n"
     ]
    },
    {
     "name": "stdout",
     "output_type": "stream",
     "text": [
      "Found best parameter combiation:\n",
      "{'sigma': 5, 'truncate': 3}\n",
      "Saving residual test plots to file.\n"
     ]
    },
    {
     "name": "stderr",
     "output_type": "stream",
     "text": [
      "/home/cakiroa/projects/ChromWave_python3/chromwave/vis/plot.py:258: MatplotlibDeprecationWarning: \n",
      "The 'normed' kwarg was deprecated in Matplotlib 2.1 and will be removed in 3.1. Use 'density' instead.\n",
      "  ph = hist(res, normed=True)\n"
     ]
    },
    {
     "name": "stdout",
     "output_type": "stream",
     "text": [
      "Binding profiles were binned into [22] bins.\n",
      "Time: 6.2072084 mins\n"
     ]
    },
    {
     "name": "stderr",
     "output_type": "stream",
     "text": [
      "/home/cakiroa/software/miniconda3/envs/chromwave/lib/python3.7/site-packages/ipykernel_launcher.py:19: DeprecationWarning: time.clock has been deprecated in Python 3.3 and will be removed from Python 3.8: use time.perf_counter or time.process_time instead\n"
     ]
    }
   ],
   "source": [
    "from importlib import reload\n",
    "reload(runtime_dataset)\n",
    "r = runtime_dataset.RuntimeDataset(f)\n",
    "r.data_format = 'processed_counts'\n",
    "\n",
    "nuc_preprocessing_params = {'times_median_coverage_max': None,  \n",
    "                            'normalise_read_counts': None,\n",
    "                            'smooth_signal': True, \n",
    "                            'smoothing_function': 'gaussian_filter1d', \n",
    "                            'sigma': None, \n",
    "                            'truncate': None, \n",
    "                            'u': 2.5,\n",
    "                            }\n",
    "\n",
    "r.preprocessing_params = [nuc_preprocessing_params]\n",
    "r.plot_fit_diganostics = True\n",
    "start = time.clock()\n",
    "r.load_data()\n",
    "end=time.clock()\n",
    "print('Time: ' + str((end-start)/60.)+' mins')"
   ]
  },
  {
   "cell_type": "code",
   "execution_count": 12,
   "metadata": {},
   "outputs": [
    {
     "name": "stdout",
     "output_type": "stream",
     "text": [
      "Loading genomic data... \n"
     ]
    },
    {
     "name": "stderr",
     "output_type": "stream",
     "text": [
      "/home/cakiroa/software/miniconda3/envs/chromwave/lib/python3.7/site-packages/ipykernel_launcher.py:13: DeprecationWarning: time.clock has been deprecated in Python 3.3 and will be removed from Python 3.8: use time.perf_counter or time.process_time instead\n",
      "  del sys.path[0]\n"
     ]
    },
    {
     "name": "stdout",
     "output_type": "stream",
     "text": [
      "Mitochondrial chromosome will be kept as separate data...\n",
      "using pre-processing params:\n",
      "{'times_median_coverage_max': None, 'normalise_read_counts': None, 'smooth_signal': True, 'smoothing_function': 'savgol_filter', 'sigma': None, 'window_length': None, 'polyorder': None, 'truncate': None, 'u': 2.5}\n",
      "I am assuming that the columns in the provided csv file are: seqname, start, score. If this is not the case, abort and change the input format!\n",
      "Searching for best window length and polyorder via GridSearch with cross-validation. This will take a few minutes...\n",
      "Fitting 5 folds for each of 104 candidates, totalling 520 fits\n"
     ]
    },
    {
     "name": "stderr",
     "output_type": "stream",
     "text": [
      "[Parallel(n_jobs=1)]: Using backend SequentialBackend with 1 concurrent workers.\n",
      "[Parallel(n_jobs=1)]: Done 520 out of 520 | elapsed:  1.6min finished\n"
     ]
    },
    {
     "name": "stdout",
     "output_type": "stream",
     "text": [
      "Found best parameter combiation:\n",
      "{'polyorder': 1, 'window_length': 3}\n",
      "Saving residual test plots to file.\n"
     ]
    },
    {
     "name": "stderr",
     "output_type": "stream",
     "text": [
      "/home/cakiroa/projects/ChromWave_python3/chromwave/vis/plot.py:258: MatplotlibDeprecationWarning: \n",
      "The 'normed' kwarg was deprecated in Matplotlib 2.1 and will be removed in 3.1. Use 'density' instead.\n",
      "  ph = hist(res, normed=True)\n"
     ]
    },
    {
     "name": "stdout",
     "output_type": "stream",
     "text": [
      "Binding profiles were binned into [22] bins.\n",
      "Time: 2.872539766666667 mins\n"
     ]
    },
    {
     "name": "stderr",
     "output_type": "stream",
     "text": [
      "/home/cakiroa/software/miniconda3/envs/chromwave/lib/python3.7/site-packages/ipykernel_launcher.py:15: DeprecationWarning: time.clock has been deprecated in Python 3.3 and will be removed from Python 3.8: use time.perf_counter or time.process_time instead\n",
      "  from ipykernel import kernelapp as app\n"
     ]
    }
   ],
   "source": [
    "nuc_preprocessing_params = {'times_median_coverage_max': None,  \n",
    "                            'normalise_read_counts': None,\n",
    "                            'smooth_signal': True, \n",
    "                            'smoothing_function': 'savgol_filter', \n",
    "                            'sigma': None, \n",
    "                            'window_length':None,\n",
    "                            'polyorder':None,\n",
    "                            'truncate': None, \n",
    "                            'u': 2.5,\n",
    "                            }\n",
    "\n",
    "r.preprocessing_params = [nuc_preprocessing_params]\n",
    "start = time.clock()\n",
    "r.load_data()\n",
    "end=time.clock()\n",
    "print('Time: ' + str((end-start)/60.)+' mins')"
   ]
  },
  {
   "cell_type": "code",
   "execution_count": 13,
   "metadata": {},
   "outputs": [
    {
     "data": {
      "text/plain": [
       "array([<matplotlib.axes._subplots.AxesSubplot object at 0x7f0f6e5f1a90>,\n",
       "       <matplotlib.axes._subplots.AxesSubplot object at 0x7f0fa4db95d0>,\n",
       "       <matplotlib.axes._subplots.AxesSubplot object at 0x7f0f9dff6250>],\n",
       "      dtype=object)"
      ]
     },
     "execution_count": 13,
     "metadata": {},
     "output_type": "execute_result"
    },
    {
     "data": {
      "image/png": "[encoded data removed]",
      "text/plain": [
       "<Figure size 432x288 with 3 Axes>"
      ]
     },
     "metadata": {
      "needs_background": "light"
     },
     "output_type": "display_data"
    }
   ],
   "source": [
    "pandas.DataFrame(numpy.vstack((r.y_data_discr[0][0][100],r.y_data[0][0][100],r.profile_data_split[0][0][100])).transpose(), columns=['discretised', 'smoothed','original']).plot(subplots=True)"
   ]
  },
  {
   "cell_type": "markdown",
   "metadata": {},
   "source": [
    "### Preprocessing parameters: processing raw data\n",
    "\n",
    "To load the data without splitting it into training, test and validation set, we need to specify some preprocessing parameters. These will determine, how outliers are treated ('times_median_coverage_max' describes the multiple of the standard deviation, outliers will be restricted to), \n",
    "\n",
    "1. `'times_median_coverage_max'` is the multiple of the median we accept as a maximal value, all values above will be clipped - this is to remove unreasonable outliers of read coverage. We use 3 as a default.\n",
    "2. `'normalise_read_counts'` is how read counts are to be normlised, e.g. 'log2_ratio' to take the log2 ratio between read count and genome-wide mean, or 'genome_mean' to subtract the genome-wide mean (note that in this case, negative values are set to 0). Log2 ratio works well for single non-sparse output profiles, e.g. nucleosome-binding profiles, but less so for e.g. TF profiles where modelling the read count coverage itself works better.\n"
   ]
  }
 ],
 "metadata": {
  "kernelspec": {
   "display_name": "Python 3",
   "language": "python",
   "name": "python3"
  },
  "language_info": {
   "codemirror_mode": {
    "name": "ipython",
    "version": 3
   },
   "file_extension": ".py",
   "mimetype": "text/x-python",
   "name": "python",
   "nbconvert_exporter": "python",
   "pygments_lexer": "ipython3",
   "version": "3.7.7"
  },
  "pycharm": {
   "stem_cell": {
    "cell_type": "raw",
    "metadata": {
     "collapsed": false
    },
    "source": []
   }
  }
 },
 "nbformat": 4,
 "nbformat_minor": 2
}
